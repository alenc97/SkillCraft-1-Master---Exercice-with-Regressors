{
  "nbformat": 4,
  "nbformat_minor": 0,
  "metadata": {
    "colab": {
      "name": "B01.ipynb",
      "provenance": [],
      "collapsed_sections": [
        "B8ZxmDiaw9Ue",
        "YexCs1QBxK7g",
        "dVCy8-R0yBKj",
        "dLhQ_AHuBNOW",
        "Wv7F7604EUcA",
        "kGUPWvCIHJu-",
        "y5yI7qQkHMdg",
        "sesaFb-WHPxz",
        "wPvZjxSzkglv",
        "tLPo8Qkyk1uj",
        "TXsl2SHEBxyX",
        "uE32OXUPDiTW",
        "Mz74sTVaXQ63",
        "F6Pqpx9pXQ63",
        "OlY3fPVKmT3r",
        "44Nx4Ljum3Xa",
        "of8mZtZH5gFX",
        "loCMEftc5peg",
        "mMYnVIL8NWJr",
        "hqgwFbLlNpbq",
        "PSpGZR11xcvC",
        "sqNs5jTlxs-e",
        "u9RNmaFJ08ff",
        "BATMSdapxSDQ",
        "7EaravW_T7Id",
        "rmHR9Lv1u3oC",
        "bGWKo5D0YvLp",
        "OrrfhW-tZdI-",
        "RD6h6EaK-1BV",
        "5XnaY6hu-4gO",
        "FqeGv0VEPA6o",
        "l1YHWpssQP1V",
        "EsuVtDhUQiYQ",
        "Ixj8E54sQjJC",
        "b5NDF0UiQvk8",
        "4EHez06vR0fP",
        "1KZCxhIHR5zh",
        "3IB5NQRpR9po",
        "TELQaWlQSCAL",
        "LdVKGZsM9V1f"
      ],
      "toc_visible": true
    },
    "kernelspec": {
      "display_name": "Python 3",
      "language": "python",
      "name": "python3"
    },
    "language_info": {
      "codemirror_mode": {
        "name": "ipython",
        "version": 3
      },
      "file_extension": ".py",
      "mimetype": "text/x-python",
      "name": "python",
      "nbconvert_exporter": "python",
      "pygments_lexer": "ipython3",
      "version": "3.8.5"
    }
  },
  "cells": [
    {
      "cell_type": "markdown",
      "metadata": {
        "id": "h1qQWd5jIYQN"
      },
      "source": [
        "# **Basic Info**"
      ]
    },
    {
      "cell_type": "markdown",
      "metadata": {
        "id": "9Qh7Cjnr6Iqk"
      },
      "source": [
        "1. We aggregated screen movements into screen-fixations using a Salvucci & Goldberg (2000) dispersion-threshold algorithm, and defined Perception Action Cycles (PACs) as fixations with at least one action.\n",
        "Time is recorded in terms of timestamps in the StarCraft 2 replay file. When the game is played on 'faster', 1 real-time second is equivalent to roughly 88.5 timestamps.\n",
        "List of possible game actions is discussed in Thompson, Blair, Chen, & Henrey (2013)\n",
        "\n",
        " * GameID: Unique ID number for each game (integer)\n",
        " * LeagueIndex: Bronze, Silver, Gold, Platinum, Diamond, Master,  GrandMaster, and Professional leagues coded 1-8 (Ordinal)\n",
        " * Age: Age of each player (integer)\n",
        " * HoursPerWeek: Reported hours spent playing per week (integer)\n",
        " * TotalHours: Reported total hours spent playing (integer)\n",
        " * APM: Action per minute (continuous)\n",
        " * SelectByHotkeys: Number of unit or building selections made using hotkeys per timestamp (continuous)\n",
        " * AssignToHotkeys: Number of units or buildings assigned to hotkeys per timestamp (continuous)\n",
        " * UniqueHotkeys: Number of unique hotkeys used per timestamp (continuous)\n",
        " * MinimapAttacks: Number of attack actions on minimap per timestamp (continuous)\n",
        " * MinimapRightClicks: number of right-clicks on minimap per timestamp (continuous)\n",
        " * NumberOfPACs: Number of PACs per timestamp (continuous)\n",
        " * GapBetweenPACs: Mean duration in milliseconds between PACs (continuous)\n",
        " * ActionLatency: Mean latency from the onset of a PACs to their first action in milliseconds (continuous)\n",
        " * ActionsInPAC: Mean number of actions within each PAC (continuous)\n",
        " * TotalMapExplored: The number of 24x24 game coordinate grids viewed by the player per timestamp (continuous)\n",
        " * WorkersMade: Number of SCVs, drones, and probes trained per timestamp (continuous)\n",
        " * UniqueUnitsMade: Unique unites made per timestamp (continuous)\n",
        " * ComplexUnitsMade: Number of ghosts, infestors, and high templars trained per timestamp (continuous)\n",
        " * ComplexAbilitiesUsed: Abilities requiring specific targeting instructions used per timestamp (continuous)\n",
        "\n",
        " \n",
        "\n",
        "2. Running the data.info () function we find that the number of samples is 3396 and the number of attributes is 20. There are no ordered values. Running the data.dtypes function we see that the attributes of the whole dataset are real numbers\n",
        "\n",
        "\n",
        "3. No, running the data.head () function we can see that there is no numbering in the lines and there are headings\n",
        "\n",
        "\n",
        "4. The 2nd column is the target\n",
        "\n",
        "5. We converted the file from .data to .xlsx in order to load the dataset in the notebook\n",
        "\n",
        "\n",
        "6. Running the  data.isnull().values.any() function we can see that there are missing values ​​in the dataset"
      ]
    },
    {
      "cell_type": "code",
      "metadata": {
        "colab": {
          "base_uri": "https://localhost:8080/"
        },
        "id": "A6Nv-CplTtTT",
        "scrolled": true,
        "outputId": "319fd137-4f0c-4612-b61b-ed3a7ce3ed75"
      },
      "source": [
        "!pip install  pip \n",
        "!pip install scikit-learn \n",
        "!pip install numpy \n",
        "!pip install pandas \n",
        "!pip install scikit-learn\n",
        "!pip install imblearn"
      ],
      "execution_count": null,
      "outputs": [
        {
          "output_type": "stream",
          "text": [
            "Requirement already satisfied: pip in /usr/local/lib/python3.7/dist-packages (19.3.1)\n",
            "Requirement already satisfied: scikit-learn in /usr/local/lib/python3.7/dist-packages (0.22.2.post1)\n",
            "Requirement already satisfied: scipy>=0.17.0 in /usr/local/lib/python3.7/dist-packages (from scikit-learn) (1.4.1)\n",
            "Requirement already satisfied: joblib>=0.11 in /usr/local/lib/python3.7/dist-packages (from scikit-learn) (1.0.1)\n",
            "Requirement already satisfied: numpy>=1.11.0 in /usr/local/lib/python3.7/dist-packages (from scikit-learn) (1.19.5)\n",
            "Requirement already satisfied: numpy in /usr/local/lib/python3.7/dist-packages (1.19.5)\n",
            "Requirement already satisfied: pandas in /usr/local/lib/python3.7/dist-packages (1.1.5)\n",
            "Requirement already satisfied: python-dateutil>=2.7.3 in /usr/local/lib/python3.7/dist-packages (from pandas) (2.8.1)\n",
            "Requirement already satisfied: pytz>=2017.2 in /usr/local/lib/python3.7/dist-packages (from pandas) (2018.9)\n",
            "Requirement already satisfied: numpy>=1.15.4 in /usr/local/lib/python3.7/dist-packages (from pandas) (1.19.5)\n",
            "Requirement already satisfied: six>=1.5 in /usr/local/lib/python3.7/dist-packages (from python-dateutil>=2.7.3->pandas) (1.15.0)\n",
            "Requirement already satisfied: scikit-learn in /usr/local/lib/python3.7/dist-packages (0.22.2.post1)\n",
            "Requirement already satisfied: joblib>=0.11 in /usr/local/lib/python3.7/dist-packages (from scikit-learn) (1.0.1)\n",
            "Requirement already satisfied: scipy>=0.17.0 in /usr/local/lib/python3.7/dist-packages (from scikit-learn) (1.4.1)\n",
            "Requirement already satisfied: numpy>=1.11.0 in /usr/local/lib/python3.7/dist-packages (from scikit-learn) (1.19.5)\n",
            "Requirement already satisfied: imblearn in /usr/local/lib/python3.7/dist-packages (0.0)\n",
            "Requirement already satisfied: imbalanced-learn in /usr/local/lib/python3.7/dist-packages (from imblearn) (0.4.3)\n",
            "Requirement already satisfied: scipy>=0.13.3 in /usr/local/lib/python3.7/dist-packages (from imbalanced-learn->imblearn) (1.4.1)\n",
            "Requirement already satisfied: scikit-learn>=0.20 in /usr/local/lib/python3.7/dist-packages (from imbalanced-learn->imblearn) (0.22.2.post1)\n",
            "Requirement already satisfied: numpy>=1.8.2 in /usr/local/lib/python3.7/dist-packages (from imbalanced-learn->imblearn) (1.19.5)\n",
            "Requirement already satisfied: joblib>=0.11 in /usr/local/lib/python3.7/dist-packages (from scikit-learn>=0.20->imbalanced-learn->imblearn) (1.0.1)\n"
          ],
          "name": "stdout"
        }
      ]
    },
    {
      "cell_type": "code",
      "metadata": {
        "colab": {
          "base_uri": "https://localhost:8080/"
        },
        "id": "Y1VUNPP_UUxj",
        "outputId": "510358e6-7dee-4933-cc0c-dc27924bc918"
      },
      "source": [
        "\n",
        "import pandas as pd\n",
        "import numpy as np\n",
        "import matplotlib.pyplot as plt\n",
        "from sklearn.model_selection import GridSearchCV\n",
        "from sklearn.metrics import mean_squared_error as mse\n",
        "from sklearn.metrics import r2_score as r2\n",
        "from sklearn.metrics import median_absolute_error as mae\n",
        "import time\n",
        "\n",
        "#load time matrixes\n",
        "\n",
        "times_train_bef = {} \n",
        "\n",
        "times_test_bef = {}\n",
        "\n",
        "times_train_aft = {}\n",
        "\n",
        "times_test_aft = {}\n",
        "\n",
        "#missing values\n",
        "missing_values = [\"n/a\", \"na\", \"?\"]\n",
        "\n",
        "#load dataset\n",
        "data = pd.read_excel('B01.xlsx',na_values = missing_values)\n",
        "\n",
        "print(data)"
      ],
      "execution_count": null,
      "outputs": [
        {
          "output_type": "stream",
          "text": [
            "      GameID  LeagueIndex  ...  ComplexUnitsMade  ComplexAbilitiesUsed\n",
            "0         52            5  ...          0.000000              0.000000\n",
            "1         55            5  ...          0.000000              0.000208\n",
            "2         56            4  ...          0.000000              0.000189\n",
            "3         57            3  ...          0.000000              0.000384\n",
            "4         58            3  ...          0.000000              0.000019\n",
            "...      ...          ...  ...               ...                   ...\n",
            "3390   10089            8  ...          0.000000              0.000000\n",
            "3391   10090            8  ...          0.000000              0.000000\n",
            "3392   10092            8  ...          0.000000              0.000000\n",
            "3393   10094            8  ...          0.000000              0.000631\n",
            "3394   10095            8  ...          0.000457              0.000895\n",
            "\n",
            "[3395 rows x 20 columns]\n"
          ],
          "name": "stdout"
        }
      ]
    },
    {
      "cell_type": "markdown",
      "metadata": {
        "id": "dVsc_b9fC6VM"
      },
      "source": [
        "# **Checking for missing values**\n"
      ]
    },
    {
      "cell_type": "code",
      "metadata": {
        "colab": {
          "base_uri": "https://localhost:8080/"
        },
        "id": "tFUMEC14eMIz",
        "outputId": "cbc21b9e-d98a-4d41-f0b1-c8a78d463200"
      },
      "source": [
        "data.isnull().values.any()"
      ],
      "execution_count": null,
      "outputs": [
        {
          "output_type": "execute_result",
          "data": {
            "text/plain": [
              "True"
            ]
          },
          "metadata": {
            "tags": []
          },
          "execution_count": 3
        }
      ]
    },
    {
      "cell_type": "markdown",
      "metadata": {
        "id": "WQmioGI7TBFX"
      },
      "source": [
        "## **Fixing missing values**\n",
        "\n",
        "In order to continue the analysis of the dataset we replace the missing values with the median of every column."
      ]
    },
    {
      "cell_type": "code",
      "metadata": {
        "colab": {
          "base_uri": "https://localhost:8080/"
        },
        "id": "kX6L_TDtS7tZ",
        "outputId": "55d73e60-93cf-4186-a14e-ceac584e7aee"
      },
      "source": [
        "print(data.isnull().sum()) # amount of missing values"
      ],
      "execution_count": null,
      "outputs": [
        {
          "output_type": "stream",
          "text": [
            "GameID                   0\n",
            "LeagueIndex              0\n",
            "Age                     55\n",
            "HoursPerWeek            56\n",
            "TotalHours              57\n",
            "APM                      0\n",
            "SelectByHotkeys          0\n",
            "AssignToHotkeys          0\n",
            "UniqueHotkeys            0\n",
            "MinimapAttacks           0\n",
            "MinimapRightClicks       0\n",
            "NumberOfPACs             0\n",
            "GapBetweenPACs           0\n",
            "ActionLatency            0\n",
            "ActionsInPAC             0\n",
            "TotalMapExplored         0\n",
            "WorkersMade              0\n",
            "UniqueUnitsMade          0\n",
            "ComplexUnitsMade         0\n",
            "ComplexAbilitiesUsed     0\n",
            "dtype: int64\n"
          ],
          "name": "stdout"
        }
      ]
    },
    {
      "cell_type": "code",
      "metadata": {
        "id": "7KB6H7PqDCPq"
      },
      "source": [
        "# Replace using median \n",
        "median = data['Age'].median()\n",
        "data['Age'].fillna(median, inplace=True)\n",
        "\n",
        "median = data['HoursPerWeek'].median()\n",
        "data['HoursPerWeek'].fillna(median, inplace=True)\n",
        "\n",
        "median = data['TotalHours'].median()\n",
        "data['TotalHours'].fillna(median, inplace=True)"
      ],
      "execution_count": null,
      "outputs": []
    },
    {
      "cell_type": "markdown",
      "metadata": {
        "id": "XSJy6cSDhLDn"
      },
      "source": [
        "#**GameID Drop Explanation**\n",
        "\n",
        "Understanding the entire dataset and the importance of each column, we consider it appropriate to \"remove\" the GameID column because it is obvious that it is not connected at all to the column we want to predict . In fact, our opinion is reinforced by the fact that in Google Scholar sum: does not take into account for the study of the dataset this column"
      ]
    },
    {
      "cell_type": "code",
      "metadata": {
        "colab": {
          "base_uri": "https://localhost:8080/"
        },
        "id": "9qvrS4Z6PjQ_",
        "outputId": "0e68bfa9-ee9a-4958-c26d-5a589e7e40f0"
      },
      "source": [
        "column_1 = data[\"LeagueIndex\"]\n",
        "\n",
        "column_2 = data[\"GameID\"]\n",
        "\n",
        "correlation = column_1.corr(column_2)\n",
        "\n",
        "print(correlation)"
      ],
      "execution_count": null,
      "outputs": [
        {
          "output_type": "stream",
          "text": [
            "0.1026009539158643\n"
          ],
          "name": "stdout"
        }
      ]
    },
    {
      "cell_type": "markdown",
      "metadata": {
        "id": "6zepIJNvTTSs"
      },
      "source": [
        "# **Train-Test Split**"
      ]
    },
    {
      "cell_type": "code",
      "metadata": {
        "id": "qYlJPMPITSgr"
      },
      "source": [
        "X = data.drop(columns=['LeagueIndex','GameID']) #we keep all the other columns except from League Index,GameID\n",
        "y = data.iloc[:,1] #predicted value League Index"
      ],
      "execution_count": null,
      "outputs": []
    },
    {
      "cell_type": "code",
      "metadata": {
        "id": "DCAj3jDZWDKl"
      },
      "source": [
        "# Train-Test Split: 33% of our dataset->test data and the rest-> train data\n",
        "from sklearn.model_selection import train_test_split\n",
        "\n",
        "x_train, x_test, y_train, y_test = train_test_split(X,y,test_size=0.33)"
      ],
      "execution_count": null,
      "outputs": []
    },
    {
      "cell_type": "markdown",
      "metadata": {
        "id": "i5QEmJCJX4mz"
      },
      "source": [
        "# **Baseline Regressors**\n"
      ]
    },
    {
      "cell_type": "markdown",
      "metadata": {
        "id": "3LITbrg7C9CQ"
      },
      "source": [
        "**Generally Info for Regressors:**\n",
        "\n",
        "*  **Ridge Regressor**:Ridge regression addresses some of the problems of Ordinary Least Squares by imposing a penalty on the size of the coefficients. The ridge coefficients minimize a penalized residual sum of squares.\n",
        "\n",
        "*   **Lasso Regressor**: Linear Model trained with L1 prior as regularizer (aka the Lasso). Technically the Lasso model is optimizing the same objective function with l1_ratio=1.0 (no L2 penalty). \n",
        "* **Polynomial Regressor**: Generate polynomial and interaction features.Generate a new feature matrix consisting of all polynomial combinations of the features with degree less than or equal to the specified degree. \n",
        "* **Support Vector Machine Regressor**: Epsilon-Support Vector Regression. The free parameters in the model are C and epsilon.\n",
        "The implementation is based on libsvm. The fit time complexity is more than quadratic with the number of samples which makes it hard to scale to datasets with more than a couple of 10000 samples.\n",
        "*   **Decision Tree Regressor**: Decision Trees (DTs) are a non-parametric supervised learning method used for classification and regression. The goal is to create a model that predicts the value of a target variable by learning simple decision rules inferred from the data features. A tree can be seen as a piecewise constant approximation.\n",
        "* **Extra Tree Regressor**: An extra-trees regressor. This class implements a meta estimator that fits a number of randomized decision trees (a.k.a. extra-trees) on various sub-samples of the dataset and uses averaging to improve the predictive accuracy and control over-fitting.\n",
        "* **Gradient Boosting Regressor**: GB builds an additive model in a forward stage-wise fashion; it allows for the optimization of arbitrary differentiable loss functions. In each stage a regression tree is fit on the negative gradient of the given loss function.\n",
        "\n",
        "\n",
        "**Generally Info for Accuracy Metrics:**\n",
        "\n",
        "* **Mean Squared Error**: measures the average of the squares of the errors—that is, the average squared difference between the estimated values and the actual value. \n",
        "* **R-squared**:  is the proportion of the variance in the dependent variable that is predictable from the independent variable(s). The coefficient of determination normally ranges from 0 to 1. For instance, an R-squared equals to 1 means that all movements of dependent variable are completely explained by movements of independent variable(s). R-squared is negative only when the chosen model does not follow the trend of the data, so fits worse than a horizontal line.\n",
        "* **Mean absolute error**: is a measure of errors between paired observations expressing the same phenomenon."
      ]
    },
    {
      "cell_type": "markdown",
      "metadata": {
        "id": "rn9qlLi2kxUp"
      },
      "source": [
        "## **Ridge Regressor**"
      ]
    },
    {
      "cell_type": "code",
      "metadata": {
        "id": "Wb-ZcGTJX152"
      },
      "source": [
        "from sklearn.linear_model import Ridge\n",
        "\n",
        "rr = Ridge()\n",
        "\n",
        "start_time = time.time()\n",
        "\n",
        "rr.fit(x_train, y_train)\n",
        "\n",
        "times_train_bef['rr'] = time.time() - start_time\n",
        "\n",
        "start_time = time.time()\n",
        "\n",
        "rr_preds = rr.predict(x_test)\n",
        "\n",
        "times_test_bef['rr'] = time.time() - start_time\n",
        "\n",
        "rr_mse_score = mse(y_test, rr_preds)\n",
        "\n",
        "rr_r2_score = r2(y_test, rr_preds)\n",
        "\n",
        "rr_mae_score = mae(y_test, rr_preds)"
      ],
      "execution_count": null,
      "outputs": []
    },
    {
      "cell_type": "markdown",
      "metadata": {
        "id": "O0yyeIfJk0rd"
      },
      "source": [
        "## **Lasso Regressor**"
      ]
    },
    {
      "cell_type": "code",
      "metadata": {
        "id": "SUWOjt6-k3dq"
      },
      "source": [
        "from sklearn import linear_model\n",
        "\n",
        "lr = linear_model.Lasso()\n",
        "\n",
        "start_time = time.time()\n",
        "\n",
        "lr.fit(x_train, y_train)\n",
        "\n",
        "times_train_bef['lr'] = time.time() - start_time\n",
        "\n",
        "start_time = time.time()\n",
        "\n",
        "lr_preds = lr.predict(x_test)\n",
        "\n",
        "times_test_bef['rr'] = time.time() - start_time\n",
        "\n",
        "lr_mse_score = mse(y_test, lr_preds)\n",
        "\n",
        "lr_r2_score = r2(y_test, lr_preds)\n",
        "\n",
        "lr_mae_score = mae(y_test, lr_preds)"
      ],
      "execution_count": null,
      "outputs": []
    },
    {
      "cell_type": "markdown",
      "metadata": {
        "id": "0oOU-3_5QIw6"
      },
      "source": [
        "\n",
        "\n",
        "## **Elastic Net Regressor**\n",
        "\n",
        "\n"
      ]
    },
    {
      "cell_type": "code",
      "metadata": {
        "id": "lGFhJCzZQK01"
      },
      "source": [
        "from sklearn.linear_model import ElasticNet\n",
        "\n",
        "enr = ElasticNet()\n",
        "\n",
        "start_time = time.time()\n",
        "\n",
        "enr.fit(x_train, y_train)\n",
        "\n",
        "times_train_bef['enr'] = time.time() - start_time\n",
        "\n",
        "start_time = time.time()\n",
        "\n",
        "enr_preds = enr.predict(x_test)\n",
        "\n",
        "times_test_bef['enr'] = time.time() - start_time\n",
        "\n",
        "enr_mse_score = mse(y_test, enr_preds)\n",
        "\n",
        "enr_r2_score = r2(y_test, enr_preds)\n",
        "\n",
        "enr_mae_score = mae(y_test, enr_preds)"
      ],
      "execution_count": null,
      "outputs": []
    },
    {
      "cell_type": "markdown",
      "metadata": {
        "id": "1BQhiaYutZFP"
      },
      "source": [
        "## **Support Vector Machine Regressor**"
      ]
    },
    {
      "cell_type": "code",
      "metadata": {
        "id": "-h7Guuvntlmq"
      },
      "source": [
        "from sklearn import svm\n",
        "\n",
        "svmr = svm.SVR()\n",
        "\n",
        "start_time = time.time()\n",
        "\n",
        "svmr.fit(x_train,y_train)\n",
        "\n",
        "times_train_bef['svmr'] = time.time() - start_time\n",
        "\n",
        "start_time = time.time()\n",
        "\n",
        "svmr_preds = svmr.predict(x_test)\n",
        "\n",
        "times_test_bef['svmr'] = time.time() - start_time\n",
        "\n",
        "svmr_mse_score = mse(y_test, svmr_preds)\n",
        "\n",
        "svmr_r2_score = r2(y_test, svmr_preds)\n",
        "\n",
        "svmr_mae_score = mae(y_test, svmr_preds)"
      ],
      "execution_count": null,
      "outputs": []
    },
    {
      "cell_type": "markdown",
      "metadata": {
        "id": "2qQ_Kk8vunEa"
      },
      "source": [
        "## **Decision Tree Regressor**"
      ]
    },
    {
      "cell_type": "code",
      "metadata": {
        "id": "EFCXrG9hu4LT"
      },
      "source": [
        "from sklearn import tree\n",
        "\n",
        "dtr = tree.DecisionTreeRegressor()\n",
        "\n",
        "start_time = time.time()\n",
        "\n",
        "dtr = dtr.fit(x_train,y_train)\n",
        "\n",
        "times_train_bef['dtr'] = time.time() - start_time\n",
        "\n",
        "start_time = time.time()\n",
        "\n",
        "dtr_preds = dtr.predict(x_test)\n",
        "\n",
        "times_test_bef['dtr'] = time.time() - start_time\n",
        "\n",
        "dtr_mse_score = mse(y_test, dtr_preds)\n",
        "\n",
        "dtr_r2_score = r2(y_test, dtr_preds)\n",
        "\n",
        "dtr_mae_score = mae(y_test, dtr_preds)"
      ],
      "execution_count": null,
      "outputs": []
    },
    {
      "cell_type": "markdown",
      "metadata": {
        "id": "ZXukrS0fvbjk"
      },
      "source": [
        "## **Extra Tree Regressor**"
      ]
    },
    {
      "cell_type": "code",
      "metadata": {
        "id": "_gVMGsPtvvEG"
      },
      "source": [
        "from sklearn.ensemble import ExtraTreesRegressor\n",
        "\n",
        "etr = ExtraTreesRegressor()\n",
        "\n",
        "start_time = time.time()\n",
        "\n",
        "etr.fit(x_train,y_train)\n",
        "\n",
        "times_train_bef['etr'] = time.time() - start_time\n",
        "\n",
        "start_time = time.time()\n",
        "\n",
        "etr_preds = etr.predict(x_test)\n",
        "\n",
        "times_test_bef['etr'] = time.time() - start_time\n",
        "\n",
        "etr_mse_score = mse(y_test, etr_preds)\n",
        "\n",
        "etr_r2_score = r2(y_test, etr_preds)\n",
        "\n",
        "etr_mae_score = mae(y_test, etr_preds)"
      ],
      "execution_count": null,
      "outputs": []
    },
    {
      "cell_type": "markdown",
      "metadata": {
        "id": "nq9CQYonwQ-P"
      },
      "source": [
        "## **Gradient Boosting Regressor**"
      ]
    },
    {
      "cell_type": "code",
      "metadata": {
        "id": "7XYHfKAywVe9"
      },
      "source": [
        "from sklearn.ensemble import GradientBoostingRegressor\n",
        "\n",
        "gbr = GradientBoostingRegressor()\n",
        "\n",
        "start_time = time.time()\n",
        "\n",
        "gbr.fit(x_train,y_train)\n",
        "\n",
        "times_train_bef['gbr'] = time.time() - start_time\n",
        "\n",
        "start_time = time.time()\n",
        "\n",
        "gbr_preds = gbr.predict(x_test)\n",
        "\n",
        "times_test_bef['gbr'] = time.time() - start_time\n",
        "\n",
        "gbr_mse_score = mse(y_test, gbr_preds)\n",
        "\n",
        "gbr_r2_score = r2(y_test, gbr_preds)\n",
        "\n",
        "gbr_mae_score = mae(y_test, gbr_preds)"
      ],
      "execution_count": null,
      "outputs": []
    },
    {
      "cell_type": "markdown",
      "metadata": {
        "id": "qjSbGAf0x7my"
      },
      "source": [
        "# **Bar Plot**"
      ]
    },
    {
      "cell_type": "markdown",
      "metadata": {
        "id": "xlrn-sup4xnW"
      },
      "source": [
        "**Mean Squared Error**"
      ]
    },
    {
      "cell_type": "code",
      "metadata": {
        "colab": {
          "base_uri": "https://localhost:8080/",
          "height": 295
        },
        "id": "jwnDWSP1x6rf",
        "outputId": "50e71522-a010-40f6-8122-b5490a48afe0"
      },
      "source": [
        "# Mean Squared Error\n",
        "\n",
        "import matplotlib.pyplot as plt \n",
        "\n",
        "estimators = ('RR','LA','ENR','SVMR','DTR','ETR','GBR')\n",
        "\n",
        "mse_score1 = (rr_mse_score, lr_mse_score, enr_mse_score, svmr_mse_score,dtr_mse_score, etr_mse_score, gbr_mse_score)\n",
        "\n",
        "plt.bar(estimators , mse_score1, color=(0.6, 0.6, 0.6, 0.6),  edgecolor='black')\n",
        "\n",
        "plt.ylabel('MSE')\n",
        "\n",
        "plt.xlabel('Regressors')\n",
        "\n",
        "plt.title('Mean Square Error')\n",
        "\n",
        "plt.show()"
      ],
      "execution_count": null,
      "outputs": [
        {
          "output_type": "display_data",
          "data": {
            "image/png": "[encoded data removed]",
            "text/plain": [
              "<Figure size 432x288 with 1 Axes>"
            ]
          },
          "metadata": {
            "tags": [],
            "needs_background": "light"
          }
        }
      ]
    },
    {
      "cell_type": "markdown",
      "metadata": {
        "id": "EG_-NTlc40J_"
      },
      "source": [
        " **R² or Coefficient of Determination**"
      ]
    },
    {
      "cell_type": "code",
      "metadata": {
        "colab": {
          "base_uri": "https://localhost:8080/",
          "height": 295
        },
        "id": "Vw3mB7TG43SV",
        "outputId": "f51bd2f4-0a4e-412f-fb1b-35e7ca3a3775"
      },
      "source": [
        "# R²\n",
        "\n",
        "import matplotlib.pyplot as plt \n",
        "\n",
        "estimators = ('RR','LR','ENR','SVMR','DTR','ETR','GBR')\n",
        "\n",
        "r2_score1 = (rr_r2_score, lr_r2_score, enr_r2_score, svmr_r2_score, dtr_r2_score, etr_r2_score,gbr_r2_score)\n",
        "\n",
        "plt.bar(estimators, r2_score1,color=(0.6, 0.6, 0.6, 0.6),  edgecolor='grey')\n",
        "\n",
        "plt.ylabel('R²')\n",
        "\n",
        "plt.xlabel('Regressors')\n",
        "\n",
        "plt.title('R² or Coefficient of Determination')\n",
        "\n",
        "plt.show()"
      ],
      "execution_count": null,
      "outputs": [
        {
          "output_type": "display_data",
          "data": {
            "image/png": "[encoded data removed]",
            "text/plain": [
              "<Figure size 432x288 with 1 Axes>"
            ]
          },
          "metadata": {
            "tags": [],
            "needs_background": "light"
          }
        }
      ]
    },
    {
      "cell_type": "markdown",
      "metadata": {
        "id": "-CyOj7lV5Rru"
      },
      "source": [
        "**Median Absolute Error**"
      ]
    },
    {
      "cell_type": "code",
      "metadata": {
        "colab": {
          "base_uri": "https://localhost:8080/",
          "height": 295
        },
        "id": "Xj-0z9b85WF4",
        "outputId": "64bf0325-9ead-43e8-aac8-f76dd5498fb0"
      },
      "source": [
        "# Median Absolut Error\n",
        "\n",
        "import matplotlib.pyplot as plt \n",
        "\n",
        "estimators = ('RR','LR','ENR','SVMR','DTR','ETR','GBR')\n",
        "\n",
        "mae_score1 = (rr_mae_score, lr_mae_score, enr_mae_score, svmr_mae_score, dtr_mae_score, etr_mae_score,gbr_mae_score)\n",
        "\n",
        "plt.bar(estimators, mae_score1,color=(0.6, 0.6, 0.6, 0.6),  edgecolor='purple')\n",
        "\n",
        "plt.ylabel('MAE')\n",
        "\n",
        "plt.xlabel('Regressors')\n",
        "\n",
        "plt.title('Median Absolute Error')\n",
        "\n",
        "plt.show()"
      ],
      "execution_count": null,
      "outputs": [
        {
          "output_type": "display_data",
          "data": {
            "image/png": "[encoded data removed]",
            "text/plain": [
              "<Figure size 432x288 with 1 Axes>"
            ]
          },
          "metadata": {
            "tags": [],
            "needs_background": "light"
          }
        }
      ]
    },
    {
      "cell_type": "markdown",
      "metadata": {
        "id": "fRZ_ZF6Y6C72"
      },
      "source": [
        "# **Data Preprocessing**\n",
        "\n",
        "We will then do some pre-processing of the data to improve the performance of the classifiers.\n",
        "\n",
        "\n",
        "* A simple feature selection technique is the Variance threshold. In general, if the variability of an input characteristic is too low, it can not contribute significantly to the resolution of the classifier.\n",
        "*   A very important parameter for the performance of the classifiers is the dimensionality of the data, especially in relation to the available number of samples. As the dimensionality increases, the available data becomes sparse. \n",
        "* By unbalanced dataset we mean a dataset in which the sample numbers of each class differ significantly from each other. Most classifiers are best trained when the samples of all classes are relatively equal.\n",
        "* Features with very large differences in their absolute values ​​can cause problems in education and give classifiers with non-optimal performance. Standard score conversion is necessary for many classifiers to behave properly. It is also more resistant than the min-max to outliers, ie sporadic values ​​that are far from the average value and the rest of the feature values ​​(the min-max will compress most values ​​in a short time).\n",
        "\n",
        "\n"
      ]
    },
    {
      "cell_type": "markdown",
      "metadata": {
        "id": "xw59qeYKuBt4"
      },
      "source": [
        "## **Variance Threshold**"
      ]
    },
    {
      "cell_type": "markdown",
      "metadata": {
        "id": "Ds4dKf55mqWl"
      },
      "source": [
        "We see that with threshold= 0.5, we drop a large amount of data. For this reason we will not use it in data preprocessing"
      ]
    },
    {
      "cell_type": "code",
      "metadata": {
        "colab": {
          "base_uri": "https://localhost:8080/"
        },
        "id": "FuL3tjcFuA4g",
        "outputId": "50e7a136-8bbf-4fb8-ef13-11052c1d8cdf"
      },
      "source": [
        "from sklearn.feature_selection import VarianceThreshold\n",
        "\n",
        "vt = VarianceThreshold(threshold=0.5)\n",
        "\n",
        "x_train_reduced = vt.fit_transform(x_train)\n",
        "\n",
        "mask = vt.get_support()\n",
        "print(mask)\n",
        "\n",
        "x_test_reduced = vt.transform(x_test)\n"
      ],
      "execution_count": null,
      "outputs": [
        {
          "output_type": "stream",
          "text": [
            "[ True  True  True  True False False  True False False False  True  True\n",
            "  True  True False  True False False]\n"
          ],
          "name": "stdout"
        }
      ]
    },
    {
      "cell_type": "markdown",
      "metadata": {
        "id": "SkSBVYLM6I8S"
      },
      "source": [
        "## **Standard Scaler**"
      ]
    },
    {
      "cell_type": "code",
      "metadata": {
        "id": "OkwEwIrO6H-5"
      },
      "source": [
        "from sklearn import preprocessing\n",
        "\n",
        "x_train_scaled = preprocessing.scale(x_train)\n",
        "\n",
        "scaler = preprocessing.StandardScaler().fit(x_train)\n",
        "\n",
        "x_test_scaled = scaler.transform(x_test)"
      ],
      "execution_count": null,
      "outputs": []
    },
    {
      "cell_type": "markdown",
      "metadata": {
        "id": "1rt1kVl5q3aU"
      },
      "source": [
        "## **Random Over Sampler**"
      ]
    },
    {
      "cell_type": "code",
      "metadata": {
        "colab": {
          "base_uri": "https://localhost:8080/"
        },
        "id": "wzqlbALXqMiw",
        "outputId": "77c8c59a-b1af-41af-b0a8-bd0fa71bfc57"
      },
      "source": [
        "y_train.value_counts(dropna=False)"
      ],
      "execution_count": null,
      "outputs": [
        {
          "output_type": "execute_result",
          "data": {
            "text/plain": [
              "4    550\n",
              "5    545\n",
              "6    413\n",
              "3    370\n",
              "2    231\n",
              "1    106\n",
              "8     35\n",
              "7     24\n",
              "Name: LeagueIndex, dtype: int64"
            ]
          },
          "metadata": {
            "tags": []
          },
          "execution_count": 25
        }
      ]
    },
    {
      "cell_type": "code",
      "metadata": {
        "colab": {
          "base_uri": "https://localhost:8080/"
        },
        "id": "XcLgPwK6pvKJ",
        "outputId": "225adf70-e9cf-4b83-e551-5c7315cd2789"
      },
      "source": [
        "from imblearn.over_sampling import RandomOverSampler\n",
        "\n",
        "ros = RandomOverSampler()\n",
        "\n",
        "x_train_resampled, y_train_resampled = ros.fit_resample(x_train_scaled,y_train)"
      ],
      "execution_count": null,
      "outputs": [
        {
          "output_type": "stream",
          "text": [
            "/usr/local/lib/python3.7/dist-packages/sklearn/utils/deprecation.py:87: FutureWarning: Function safe_indexing is deprecated; safe_indexing is deprecated in version 0.22 and will be removed in version 0.24.\n",
            "  warnings.warn(msg, category=FutureWarning)\n"
          ],
          "name": "stderr"
        }
      ]
    },
    {
      "cell_type": "code",
      "metadata": {
        "colab": {
          "base_uri": "https://localhost:8080/"
        },
        "id": "glAsh7B1XQ6u",
        "outputId": "d6950d34-6964-4891-e0d2-3161ab51a915"
      },
      "source": [
        "y_train_resampled = pd.DataFrame(y_train_resampled)\n",
        "y_train_resampled.value_counts()"
      ],
      "execution_count": null,
      "outputs": [
        {
          "output_type": "execute_result",
          "data": {
            "text/plain": [
              "8    550\n",
              "7    550\n",
              "6    550\n",
              "5    550\n",
              "4    550\n",
              "3    550\n",
              "2    550\n",
              "1    550\n",
              "dtype: int64"
            ]
          },
          "metadata": {
            "tags": []
          },
          "execution_count": 27
        }
      ]
    },
    {
      "cell_type": "markdown",
      "metadata": {
        "id": "6lbBi4go6Xnk"
      },
      "source": [
        "## **PCA**"
      ]
    },
    {
      "cell_type": "code",
      "metadata": {
        "colab": {
          "base_uri": "https://localhost:8080/",
          "height": 453
        },
        "id": "zkLZl2z46ZKA",
        "outputId": "6a9209b7-2f3e-4e13-e9a2-56a916c6dc6d"
      },
      "source": [
        "# Import PCA from sklearn\n",
        "from sklearn.decomposition import PCA\n",
        "\n",
        "n = 18\n",
        "pca = PCA(n_components=n)\n",
        "\n",
        "\n",
        "trainPCA = pca.fit_transform(x_train_resampled)\n",
        "testPCA = pca.transform(x_test_scaled)\n",
        "\n",
        "print(x_train_resampled.shape)\n",
        "print(trainPCA.shape)\n",
        "print(x_test_scaled.shape)\n",
        "print(testPCA.shape)\n",
        "\n",
        "evar = pca.explained_variance_ratio_\n",
        "cum_evar = np.cumsum(evar)\n",
        "print(cum_evar)\n",
        "plt.figure(1, figsize=(5, 5))\n",
        "plt.xlabel(\"Principal Component number\")\n",
        "plt.ylabel('Cumulative Variance')\n",
        "plt.plot(cum_evar, linewidth=2)\n",
        "plt.show()"
      ],
      "execution_count": null,
      "outputs": [
        {
          "output_type": "stream",
          "text": [
            "(4400, 18)\n",
            "(4400, 18)\n",
            "(1121, 18)\n",
            "(1121, 18)\n",
            "[0.40398628 0.50241022 0.56860736 0.62920481 0.68329871 0.7310281\n",
            " 0.77382635 0.81092145 0.8441712  0.87697823 0.90467583 0.92834648\n",
            " 0.94901096 0.96729174 0.98335296 0.99396808 0.99938066 1.        ]\n"
          ],
          "name": "stdout"
        },
        {
          "output_type": "display_data",
          "data": {
            "image/png": "[encoded data removed]",
            "text/plain": [
              "<Figure size 360x360 with 1 Axes>"
            ]
          },
          "metadata": {
            "tags": [],
            "needs_background": "light"
          }
        }
      ]
    },
    {
      "cell_type": "markdown",
      "metadata": {
        "id": "6s4tGu2swpWk"
      },
      "source": [
        "\n",
        "\n",
        "# **Estimator Optimization**\n",
        "\n",
        "Below we will mention the selection of hyperparameters for each of our models. The selection of each hyperparameter for each model was made after a study of its \"offer\" in our model.\n"
      ]
    },
    {
      "cell_type": "code",
      "metadata": {
        "id": "9jljVahqw6Qu"
      },
      "source": [
        "from sklearn.metrics import mean_squared_error as mse\n",
        "from sklearn.metrics import r2_score as r2\n",
        "from sklearn.metrics import median_absolute_error as mae"
      ],
      "execution_count": null,
      "outputs": []
    },
    {
      "cell_type": "markdown",
      "metadata": {
        "id": "B8ZxmDiaw9Ue"
      },
      "source": [
        "## **Ridge Regressor**\n",
        "\n",
        "Selection of hyperparameters: \n",
        "* **alpha** :Regularization strength; must be a positive float. Regularization improves the conditioning of the problem and reduces the variance of the estimates. Larger values specify stronger regularization. \n",
        "* **solver**: Solver to use in the computational routines. Contains: auto, svd, cholesky, sparse_cg, sag and lsqr"
      ]
    },
    {
      "cell_type": "markdown",
      "metadata": {
        "id": "YexCs1QBxK7g"
      },
      "source": [
        "### Scoring **Mean Square Error**\n",
        "\n",
        "* For the hyperparameter alpha we initially chose a wide range of values ​​from 30 to 100. We noticed that the optimal value is in the range 87 to 94 so we chose the following values ​​for this parameter.\n",
        "* Regarding the hyperparameter solver, we have chosen all the possible options."
      ]
    },
    {
      "cell_type": "code",
      "metadata": {
        "colab": {
          "base_uri": "https://localhost:8080/"
        },
        "id": "Edzzk-VrmPb7",
        "outputId": "222637fb-86b4-4439-acda-2a22cb2610a1"
      },
      "source": [
        "from sklearn.pipeline import Pipeline\n",
        "\n",
        "n_components = [16,15,14,13,12,11,10,9]\n",
        "\n",
        "solver = ['auto', 'svd','cholesky','sparse_cg','sag','lsqr']\n",
        "\n",
        "alpha = [30,35,40,45,50,55,60,65,70,75,80,85,90,95,100,105,110]\n",
        "\n",
        "pipe = Pipeline(steps=[('pca', pca), ('rr', rr)], memory = 'tmp')\n",
        "\n",
        "estimator = GridSearchCV(pipe, dict( pca__n_components=n_components, rr__solver=solver,rr__alpha=alpha),scoring='neg_mean_squared_error',cv=10, n_jobs=-1)\n",
        "\n",
        "estimator.fit(x_train_scaled, y_train)\n",
        "\n",
        "print(estimator.best_params_)"
      ],
      "execution_count": null,
      "outputs": [
        {
          "output_type": "stream",
          "text": [
            "{'pca__n_components': 16, 'rr__alpha': 90, 'rr__solver': 'sag'}\n"
          ],
          "name": "stdout"
        }
      ]
    },
    {
      "cell_type": "code",
      "metadata": {
        "colab": {
          "base_uri": "https://localhost:8080/"
        },
        "id": "7eU0Uw0ey_ZO",
        "outputId": "7f9d660b-9567-4310-d460-afc89b8d8273"
      },
      "source": [
        "from sklearn.pipeline import Pipeline\n",
        "\n",
        "n_components = [16,15,14,13,12,11,10,9]\n",
        "\n",
        "solver = ['auto', 'svd','cholesky','sparse_cg','sag','lsqr']\n",
        "\n",
        "alpha = [87,88,89,90,91,92,93,94]\n",
        "\n",
        "pipe = Pipeline(steps=[('pca', pca), ('rr', rr)], memory = 'tmp')\n",
        "\n",
        "estimator = GridSearchCV(pipe, dict( pca__n_components=n_components, rr__solver=solver,rr__alpha=alpha),scoring='neg_mean_squared_error',cv=10, n_jobs=-1)\n",
        "\n",
        "estimator.fit(x_train_scaled, y_train)\n",
        "\n",
        "print(estimator.best_estimator_)\n",
        "\n",
        "print(estimator.best_params_)"
      ],
      "execution_count": null,
      "outputs": [
        {
          "output_type": "stream",
          "text": [
            "Pipeline(memory='tmp',\n",
            "         steps=[('pca',\n",
            "                 PCA(copy=True, iterated_power='auto', n_components=16,\n",
            "                     random_state=None, svd_solver='auto', tol=0.0,\n",
            "                     whiten=False)),\n",
            "                ('rr',\n",
            "                 Ridge(alpha=90, copy_X=True, fit_intercept=True, max_iter=None,\n",
            "                       normalize=False, random_state=None, solver='sag',\n",
            "                       tol=0.001))],\n",
            "         verbose=False)\n",
            "{'pca__n_components': 16, 'rr__alpha': 90, 'rr__solver': 'sag'}\n"
          ],
          "name": "stdout"
        }
      ]
    },
    {
      "cell_type": "markdown",
      "metadata": {
        "id": "KukoCR6cXQ6v"
      },
      "source": [
        "Without Resampling"
      ]
    },
    {
      "cell_type": "code",
      "metadata": {
        "id": "npWzfNkb32hR"
      },
      "source": [
        "start_time = time.time()\n",
        "\n",
        "estimator.fit(x_train_scaled, y_train)\n",
        "\n",
        "times_train_aft['rr_mse'] = time.time() - start_time\n",
        "\n",
        "start_time = time.time()\n",
        "\n",
        "rr_preds_mse= estimator.predict(x_test_scaled)\n",
        "\n",
        "times_test_aft['rr_mse'] = time.time() - start_time"
      ],
      "execution_count": null,
      "outputs": []
    },
    {
      "cell_type": "code",
      "metadata": {
        "colab": {
          "base_uri": "https://localhost:8080/"
        },
        "id": "3vh1VdZL7Arw",
        "outputId": "52dd661c-4edc-4fd1-c1c5-c711193a0630"
      },
      "source": [
        "rr_mse = mse(y_test, rr_preds_mse)\n",
        "\n",
        "print('Before:',rr_mse_score,'After:',rr_mse)"
      ],
      "execution_count": null,
      "outputs": [
        {
          "output_type": "stream",
          "text": [
            "Before: 1.026439360760079 After: 0.9579225576541655\n"
          ],
          "name": "stdout"
        }
      ]
    },
    {
      "cell_type": "markdown",
      "metadata": {
        "id": "N_TFSh4HXQ6w"
      },
      "source": [
        "With Resampling"
      ]
    },
    {
      "cell_type": "code",
      "metadata": {
        "colab": {
          "base_uri": "https://localhost:8080/"
        },
        "id": "eebsZxdJXQ6w",
        "outputId": "76e2d03f-6cc1-4a60-c3ff-0e23e5d56167"
      },
      "source": [
        "estimator.fit(x_train_resampled, y_train_resampled)\n",
        "\n",
        "rr_preds_mse_resampled= estimator.predict(x_test_scaled)\n",
        "\n",
        "print(estimator.best_estimator_)\n",
        "\n",
        "print(estimator.best_params_)"
      ],
      "execution_count": null,
      "outputs": [
        {
          "output_type": "stream",
          "text": [
            "Pipeline(memory='tmp',\n",
            "         steps=[('pca',\n",
            "                 PCA(copy=True, iterated_power='auto', n_components=16,\n",
            "                     random_state=None, svd_solver='auto', tol=0.0,\n",
            "                     whiten=False)),\n",
            "                ('rr',\n",
            "                 Ridge(alpha=89, copy_X=True, fit_intercept=True, max_iter=None,\n",
            "                       normalize=False, random_state=None, solver='sag',\n",
            "                       tol=0.001))],\n",
            "         verbose=False)\n",
            "{'pca__n_components': 16, 'rr__alpha': 89, 'rr__solver': 'sag'}\n"
          ],
          "name": "stdout"
        }
      ]
    },
    {
      "cell_type": "code",
      "metadata": {
        "colab": {
          "base_uri": "https://localhost:8080/"
        },
        "id": "5nREgJMYXQ6w",
        "outputId": "dc3c526b-93a1-42de-8390-95409d113911"
      },
      "source": [
        "print('Before:',rr_mse_score,'After:',mse(y_test, rr_preds_mse_resampled))"
      ],
      "execution_count": null,
      "outputs": [
        {
          "output_type": "stream",
          "text": [
            "Before: 1.026439360760079 After: 1.0216515373364181\n"
          ],
          "name": "stdout"
        }
      ]
    },
    {
      "cell_type": "markdown",
      "metadata": {
        "id": "zSqYfKE7ZIOd"
      },
      "source": [
        "The results without resampling are better than those with resampling, so we keep the the first ones."
      ]
    },
    {
      "cell_type": "markdown",
      "metadata": {
        "id": "dVCy8-R0yBKj"
      },
      "source": [
        "### Scoring **R² or Coefficient of Determination**\n",
        "  \n",
        "* For the hyperparameter alpha we initially chose a wide range of values ​​from 30 to 110. We noticed that the optimal value is in the range 103 to 111 so we chose the following values ​​for this parameter.\n",
        "* Regarding the hyperparameter solver, we have chosen all the possible options."
      ]
    },
    {
      "cell_type": "code",
      "metadata": {
        "colab": {
          "base_uri": "https://localhost:8080/"
        },
        "id": "h2gfHT0enluT",
        "outputId": "a79d9eca-3010-4a5a-d52a-28810ef1fb93"
      },
      "source": [
        "from sklearn.pipeline import Pipeline\n",
        "\n",
        "n_components = [16,15,14,13,12,11,10,9]\n",
        "\n",
        "sosolver = ['auto', 'svd','cholesky','sparse_cg','sag','lsqr']\n",
        "\n",
        "alpha =  [30,35,40,45,50,55,60,65,70,75,80,85,90,95,100,105,110]\n",
        "\n",
        "pipe = Pipeline(steps=[('pca', pca), ('rr', rr)], memory = 'tmp')\n",
        "\n",
        "estimator = GridSearchCV(pipe, dict( pca__n_components=n_components, rr__solver=solver,rr__alpha=alpha),scoring='r2',cv=10, n_jobs=-1)\n",
        "\n",
        "estimator.fit(x_train_scaled, y_train)\n",
        "\n",
        "print(estimator.best_params_)"
      ],
      "execution_count": null,
      "outputs": [
        {
          "output_type": "stream",
          "text": [
            "{'pca__n_components': 16, 'rr__alpha': 110, 'rr__solver': 'sag'}\n"
          ],
          "name": "stdout"
        }
      ]
    },
    {
      "cell_type": "code",
      "metadata": {
        "colab": {
          "base_uri": "https://localhost:8080/"
        },
        "id": "BVKbOzFoyB4k",
        "outputId": "ee8bee7d-e299-4f0b-8a41-a27001d13bdb"
      },
      "source": [
        "from sklearn.pipeline import Pipeline\n",
        "\n",
        "n_components = [16,15,14,13,12,11,10,9]\n",
        "\n",
        "solver = ['auto', 'svd','cholesky','sparse_cg','sag','lsqr']\n",
        "\n",
        "alpha = [103,104,105,106,107,108,109,110,111]\n",
        "\n",
        "pipe = Pipeline(steps=[('pca', pca), ('rr', rr)], memory = 'tmp')\n",
        "\n",
        "estimator = GridSearchCV(pipe, dict( pca__n_components=n_components, rr__solver=solver,rr__alpha=alpha),scoring='r2',cv=10, n_jobs=-1)\n",
        "\n",
        "estimator.fit(x_train_scaled, y_train)\n",
        "\n",
        "print(estimator.best_estimator_)\n",
        "\n",
        "print(estimator.best_params_)"
      ],
      "execution_count": null,
      "outputs": [
        {
          "output_type": "stream",
          "text": [
            "Pipeline(memory='tmp',\n",
            "         steps=[('pca',\n",
            "                 PCA(copy=True, iterated_power='auto', n_components=16,\n",
            "                     random_state=None, svd_solver='auto', tol=0.0,\n",
            "                     whiten=False)),\n",
            "                ('rr',\n",
            "                 Ridge(alpha=110, copy_X=True, fit_intercept=True,\n",
            "                       max_iter=None, normalize=False, random_state=None,\n",
            "                       solver='sag', tol=0.001))],\n",
            "         verbose=False)\n",
            "{'pca__n_components': 16, 'rr__alpha': 110, 'rr__solver': 'sag'}\n"
          ],
          "name": "stdout"
        }
      ]
    },
    {
      "cell_type": "markdown",
      "metadata": {
        "id": "dnKeCw_5XQ6x"
      },
      "source": [
        "Without Resampling"
      ]
    },
    {
      "cell_type": "code",
      "metadata": {
        "id": "FojPpqUYyEuj"
      },
      "source": [
        "start_time = time.time()\n",
        "\n",
        "estimator.fit(x_train_scaled, y_train)\n",
        "\n",
        "times_train_aft['rr_r2'] = time.time() - start_time\n",
        "\n",
        "start_time = time.time()\n",
        "\n",
        "rr_preds_r2= estimator.predict(x_test_scaled)\n",
        "\n",
        "times_test_aft['rr_r2'] = time.time() - start_time"
      ],
      "execution_count": null,
      "outputs": []
    },
    {
      "cell_type": "code",
      "metadata": {
        "colab": {
          "base_uri": "https://localhost:8080/"
        },
        "id": "mjXSwGkbA3pd",
        "outputId": "bacb844b-277c-47b5-d7c9-e80c52b30004"
      },
      "source": [
        "rr_r2 = r2(y_test, rr_preds_r2)\n",
        "\n",
        "print('Before:',rr_r2_score,'After:',rr_r2)"
      ],
      "execution_count": null,
      "outputs": [
        {
          "output_type": "stream",
          "text": [
            "Before: 0.5698732612251729 After: 0.5985868496165757\n"
          ],
          "name": "stdout"
        }
      ]
    },
    {
      "cell_type": "markdown",
      "metadata": {
        "id": "gHf9CZ4GXQ6x"
      },
      "source": [
        "With Resampling"
      ]
    },
    {
      "cell_type": "code",
      "metadata": {
        "colab": {
          "base_uri": "https://localhost:8080/"
        },
        "id": "rrsfSbWSXQ6x",
        "outputId": "0d95f249-cfed-4e0c-edae-c69542fbf9fc"
      },
      "source": [
        "estimator.fit(x_train_resampled, y_train_resampled)\n",
        "\n",
        "rr_preds_r2_resampled= estimator.predict(x_test_scaled)\n",
        "\n",
        "print(estimator.best_estimator_)\n",
        "\n",
        "print(estimator.best_params_)"
      ],
      "execution_count": null,
      "outputs": [
        {
          "output_type": "stream",
          "text": [
            "Pipeline(memory='tmp',\n",
            "         steps=[('pca',\n",
            "                 PCA(copy=True, iterated_power='auto', n_components=9,\n",
            "                     random_state=None, svd_solver='auto', tol=0.0,\n",
            "                     whiten=False)),\n",
            "                ('rr',\n",
            "                 Ridge(alpha=103, copy_X=True, fit_intercept=True,\n",
            "                       max_iter=None, normalize=False, random_state=None,\n",
            "                       solver='sag', tol=0.001))],\n",
            "         verbose=False)\n",
            "{'pca__n_components': 9, 'rr__alpha': 103, 'rr__solver': 'sag'}\n"
          ],
          "name": "stdout"
        }
      ]
    },
    {
      "cell_type": "code",
      "metadata": {
        "colab": {
          "base_uri": "https://localhost:8080/"
        },
        "id": "9VwVr1LRXQ6x",
        "outputId": "20a41329-e8e8-4b5a-885f-0a085982d306"
      },
      "source": [
        "print('Before:',rr_r2_score,'After:',r2(y_test, rr_preds_r2_resampled))"
      ],
      "execution_count": null,
      "outputs": [
        {
          "output_type": "stream",
          "text": [
            "Before: 0.5698732612251729 After: 0.5639438732971995\n"
          ],
          "name": "stdout"
        }
      ]
    },
    {
      "cell_type": "markdown",
      "metadata": {
        "id": "5a7dF4uRanKX"
      },
      "source": [
        "The results without resampling are better than those with resampling, so we keep the the first ones."
      ]
    },
    {
      "cell_type": "markdown",
      "metadata": {
        "id": "dLhQ_AHuBNOW"
      },
      "source": [
        "### Scoring **Median Absolute Error**\n",
        "\n",
        "* For the hyperparameter alpha we initially chose a wide range of values ​​from 5 to 110. We noticed that the optimal value is in the range 7 to 15 so we chose the following values ​​for this parameter.\n",
        "* Regarding the hyperparameter solver, we have chosen all the possible options."
      ]
    },
    {
      "cell_type": "code",
      "metadata": {
        "colab": {
          "base_uri": "https://localhost:8080/"
        },
        "id": "Xuqa2bUZn6aR",
        "outputId": "c5dad609-e095-4045-9f4f-6d3e59bf3569"
      },
      "source": [
        "from sklearn.pipeline import Pipeline\n",
        "\n",
        "n_components = [16,15,14,13,12,11,10,9]\n",
        "\n",
        "solver = ['auto', 'svd','cholesky','sparse_cg','sag','lsqr']\n",
        "\n",
        "alpha = [5,10,15,20,25,30,35,40,45,50,55,60,65,70,75,80,85,90,95,100,105,110]\n",
        "\n",
        "pipe = Pipeline(steps=[('pca', pca), ('rr', rr)], memory = 'tmp')\n",
        "\n",
        "estimator = GridSearchCV(pipe, dict( pca__n_components=n_components, rr__solver=solver,rr__alpha=alpha),scoring='neg_median_absolute_error',cv=10, n_jobs=-1)\n",
        "\n",
        "estimator.fit(x_train_scaled, y_train)\n",
        "\n",
        "print(estimator.best_params_)"
      ],
      "execution_count": null,
      "outputs": [
        {
          "output_type": "stream",
          "text": [
            "{'pca__n_components': 10, 'rr__alpha': 5, 'rr__solver': 'sag'}\n"
          ],
          "name": "stdout"
        }
      ]
    },
    {
      "cell_type": "code",
      "metadata": {
        "colab": {
          "base_uri": "https://localhost:8080/"
        },
        "id": "_RBjtLsjBO2j",
        "outputId": "be1d7226-d880-43cb-e622-8511ae4d6d9b"
      },
      "source": [
        "from sklearn.pipeline import Pipeline\n",
        "\n",
        "n_components = [16,15,14,13,12,11,10,9]\n",
        "\n",
        "solver = ['auto', 'svd','cholesky','sparse_cg','sag','lsqr']\n",
        "\n",
        "alpha = [7,8,9,10,11,12,13,14,15]\n",
        "\n",
        "pipe = Pipeline(steps=[('pca', pca), ('rr', rr)], memory = 'tmp')\n",
        "\n",
        "estimator = GridSearchCV(pipe, dict( pca__n_components=n_components, rr__solver=solver,rr__alpha=alpha),scoring='neg_median_absolute_error',cv=10, n_jobs=-1)\n",
        "\n",
        "estimator.fit(x_train_scaled, y_train)\n",
        "\n",
        "print(estimator.best_estimator_)\n",
        "\n",
        "print(estimator.best_params_)"
      ],
      "execution_count": null,
      "outputs": [
        {
          "output_type": "stream",
          "text": [
            "Pipeline(memory='tmp',\n",
            "         steps=[('pca',\n",
            "                 PCA(copy=True, iterated_power='auto', n_components=10,\n",
            "                     random_state=None, svd_solver='auto', tol=0.0,\n",
            "                     whiten=False)),\n",
            "                ('rr',\n",
            "                 Ridge(alpha=10, copy_X=True, fit_intercept=True, max_iter=None,\n",
            "                       normalize=False, random_state=None, solver='sag',\n",
            "                       tol=0.001))],\n",
            "         verbose=False)\n",
            "{'pca__n_components': 10, 'rr__alpha': 10, 'rr__solver': 'sag'}\n"
          ],
          "name": "stdout"
        }
      ]
    },
    {
      "cell_type": "markdown",
      "metadata": {
        "id": "Cnl5nCLYXQ6y"
      },
      "source": [
        "Without Resampling"
      ]
    },
    {
      "cell_type": "code",
      "metadata": {
        "id": "DC4z0A1tBrcR"
      },
      "source": [
        "start_time = time.time()\n",
        "\n",
        "estimator.fit(x_train_scaled, y_train)\n",
        "\n",
        "times_train_aft['rr_mae'] = time.time() - start_time\n",
        "\n",
        "start_time = time.time()\n",
        "\n",
        "rr_preds_mae= estimator.predict(x_test_scaled)\n",
        "\n",
        "times_test_aft['rr_mae'] = time.time() - start_time"
      ],
      "execution_count": null,
      "outputs": []
    },
    {
      "cell_type": "code",
      "metadata": {
        "colab": {
          "base_uri": "https://localhost:8080/"
        },
        "id": "CQiuGHTzBslo",
        "outputId": "e6081f81-49fc-48c4-bd0f-0683d4b8e388"
      },
      "source": [
        "rr_mae = mae(y_test, rr_preds_mae)\n",
        "print('Before:',rr_mae_score,'After:',rr_mae)"
      ],
      "execution_count": null,
      "outputs": [
        {
          "output_type": "stream",
          "text": [
            "Before: 0.7023837169722364 After: 0.6631599858914168\n"
          ],
          "name": "stdout"
        }
      ]
    },
    {
      "cell_type": "markdown",
      "metadata": {
        "id": "T0kdzjPfXQ6y"
      },
      "source": [
        "With Resampling"
      ]
    },
    {
      "cell_type": "code",
      "metadata": {
        "colab": {
          "base_uri": "https://localhost:8080/"
        },
        "id": "Kubr9wujXQ6y",
        "outputId": "143c00bd-2fcf-42c0-82ed-5a7f2fa3f458"
      },
      "source": [
        "estimator.fit(x_train_resampled, y_train_resampled)\n",
        "\n",
        "rr_preds_mae_resampled= estimator.predict(x_test_scaled)\n",
        "\n",
        "print(estimator.best_estimator_)\n",
        "\n",
        "print(estimator.best_params_)"
      ],
      "execution_count": null,
      "outputs": [
        {
          "output_type": "stream",
          "text": [
            "Pipeline(memory='tmp',\n",
            "         steps=[('pca',\n",
            "                 PCA(copy=True, iterated_power='auto', n_components=16,\n",
            "                     random_state=None, svd_solver='auto', tol=0.0,\n",
            "                     whiten=False)),\n",
            "                ('rr',\n",
            "                 Ridge(alpha=15, copy_X=True, fit_intercept=True, max_iter=None,\n",
            "                       normalize=False, random_state=None, solver='sag',\n",
            "                       tol=0.001))],\n",
            "         verbose=False)\n",
            "{'pca__n_components': 16, 'rr__alpha': 15, 'rr__solver': 'sag'}\n"
          ],
          "name": "stdout"
        }
      ]
    },
    {
      "cell_type": "code",
      "metadata": {
        "colab": {
          "base_uri": "https://localhost:8080/"
        },
        "id": "zg_LXuWwXQ6y",
        "outputId": "208465f0-59c9-4033-d848-8facdabad230"
      },
      "source": [
        "print('Before:',rr_mae_score,'After:',mae(y_test, rr_preds_mae_resampled))"
      ],
      "execution_count": null,
      "outputs": [
        {
          "output_type": "stream",
          "text": [
            "Before: 0.7023837169722364 After: 0.6838350348692881\n"
          ],
          "name": "stdout"
        }
      ]
    },
    {
      "cell_type": "markdown",
      "metadata": {
        "id": "PJ2DEATQfc7c"
      },
      "source": [
        "The results without resampling are better than those with resampling, so we keep the the first ones."
      ]
    },
    {
      "cell_type": "markdown",
      "metadata": {
        "id": "Wv7F7604EUcA"
      },
      "source": [
        "## **Lasso Regressor**"
      ]
    },
    {
      "cell_type": "markdown",
      "metadata": {
        "id": "VVvxcF0OHFMj"
      },
      "source": [
        "\n",
        "Selection of hyperparameters: \n",
        "* **alpha** :Regularization improves the conditioning of the problem and reduces the variance of the estimates. Larger values specify stronger regularization\n",
        "* **selection**: If set to ‘random’, a random coefficient is updated every iteration rather than looping over features sequentially by default. "
      ]
    },
    {
      "cell_type": "markdown",
      "metadata": {
        "id": "kGUPWvCIHJu-"
      },
      "source": [
        "### Scoring **Mean Square Error**\n",
        "\n",
        "* For the hyperparameter alpha we initially chose a wide range of values ​​from 0.0001 to 1. We noticed that the optimal value is in the range 0.007 to 0.07 so we chose the following values ​​for this parameter.\n",
        "* Regarding the hyperparameter selection, we have chosen all the possible options."
      ]
    },
    {
      "cell_type": "code",
      "metadata": {
        "colab": {
          "base_uri": "https://localhost:8080/"
        },
        "id": "4z4QQ_9noIzq",
        "outputId": "514b918c-e543-4fde-f2c6-e7f43487a962"
      },
      "source": [
        "from sklearn.pipeline import Pipeline\n",
        "\n",
        "n_components = [16,15,14,13,12,11]\n",
        "\n",
        "selection = ['cyclic']\n",
        "\n",
        "alpha = [0.0001,0.0002,0.0005,0.0008,0.001,0.002,0.005,0.008,0.01,0.02,0.05,0.08,1]\n",
        "\n",
        "pipe = Pipeline(steps=[('pca', pca), ('lr', lr)], memory = 'tmp')\n",
        "\n",
        "estimator = GridSearchCV(pipe, dict( pca__n_components=n_components, lr__selection=selection,lr__alpha=alpha),scoring='neg_mean_squared_error',cv=10, n_jobs=-1)\n",
        "\n",
        "estimator.fit(x_train_scaled, y_train)\n",
        "\n",
        "print(estimator.best_params_)"
      ],
      "execution_count": null,
      "outputs": [
        {
          "output_type": "stream",
          "text": [
            "{'lr__alpha': 0.01, 'lr__selection': 'cyclic', 'pca__n_components': 16}\n"
          ],
          "name": "stdout"
        }
      ]
    },
    {
      "cell_type": "code",
      "metadata": {
        "colab": {
          "base_uri": "https://localhost:8080/"
        },
        "id": "2has3KULEnR4",
        "outputId": "ba163234-fc9d-4168-9bda-00148ad5d305"
      },
      "source": [
        "from sklearn.pipeline import Pipeline\n",
        "\n",
        "n_components = [16,15,14,13,12,11]\n",
        "\n",
        "selection = ['cyclic', 'random']\n",
        "\n",
        "alpha = [0.007,0.008,0.009,0.01,0.02,0.03,0.04,0.05,0.06,0.07]\n",
        "pipe = Pipeline(steps=[('pca', pca), ('lr', lr)], memory = 'tmp')\n",
        "\n",
        "estimator = GridSearchCV(pipe, dict( pca__n_components=n_components, lr__selection=selection,lr__alpha=alpha),scoring='neg_mean_squared_error',cv=10, n_jobs=-1)\n",
        "\n",
        "estimator.fit(x_train_scaled, y_train)\n",
        "\n",
        "print(estimator.best_estimator_)\n",
        "\n",
        "print(estimator.best_params_)"
      ],
      "execution_count": null,
      "outputs": [
        {
          "output_type": "stream",
          "text": [
            "Pipeline(memory='tmp',\n",
            "         steps=[('pca',\n",
            "                 PCA(copy=True, iterated_power='auto', n_components=16,\n",
            "                     random_state=None, svd_solver='auto', tol=0.0,\n",
            "                     whiten=False)),\n",
            "                ('lr',\n",
            "                 Lasso(alpha=0.01, copy_X=True, fit_intercept=True,\n",
            "                       max_iter=1000, normalize=False, positive=False,\n",
            "                       precompute=False, random_state=None, selection='cyclic',\n",
            "                       tol=0.0001, warm_start=False))],\n",
            "         verbose=False)\n",
            "{'lr__alpha': 0.01, 'lr__selection': 'cyclic', 'pca__n_components': 16}\n"
          ],
          "name": "stdout"
        }
      ]
    },
    {
      "cell_type": "markdown",
      "metadata": {
        "id": "1wy-ysOqXQ6z"
      },
      "source": [
        "Without Oversampling"
      ]
    },
    {
      "cell_type": "code",
      "metadata": {
        "id": "6hsx8RL3F2Km"
      },
      "source": [
        "start_time = time.time()\n",
        "\n",
        "estimator.fit(x_train_scaled, y_train)\n",
        "\n",
        "times_train_aft['lr_mse'] = time.time() - start_time\n",
        "\n",
        "start_time = time.time()\n",
        "\n",
        "lr_preds_mse= estimator.predict(x_test_scaled)\n",
        "\n",
        "times_test_aft['lr_mse'] = time.time() - start_time"
      ],
      "execution_count": null,
      "outputs": []
    },
    {
      "cell_type": "code",
      "metadata": {
        "colab": {
          "base_uri": "https://localhost:8080/"
        },
        "id": "BzL6HfznGQT0",
        "outputId": "337cc622-24a5-43d6-9e2e-d5f73128ceb0"
      },
      "source": [
        "lr_mse = mse(y_test, lr_preds_mse)\n",
        "\n",
        "print('Before:',lr_mse_score,'After:',lr_mse)"
      ],
      "execution_count": null,
      "outputs": [
        {
          "output_type": "stream",
          "text": [
            "Before: 1.056355289576955 After: 0.9589923474640358\n"
          ],
          "name": "stdout"
        }
      ]
    },
    {
      "cell_type": "markdown",
      "metadata": {
        "id": "R6StY4REXQ60"
      },
      "source": [
        "With Oversampling"
      ]
    },
    {
      "cell_type": "code",
      "metadata": {
        "colab": {
          "base_uri": "https://localhost:8080/"
        },
        "id": "hJkMi4uJXQ60",
        "scrolled": true,
        "outputId": "ae3a0ca4-1ca3-4cef-b60f-887b76af8ea1"
      },
      "source": [
        "estimator.fit(x_train_resampled, y_train_resampled)\n",
        "\n",
        "lr_preds_mse_resampled= estimator.predict(x_test_scaled)\n",
        "\n",
        "print(estimator.best_estimator_)\n",
        "\n",
        "print(estimator.best_params_)"
      ],
      "execution_count": null,
      "outputs": [
        {
          "output_type": "stream",
          "text": [
            "Pipeline(memory='tmp',\n",
            "         steps=[('pca',\n",
            "                 PCA(copy=True, iterated_power='auto', n_components=16,\n",
            "                     random_state=None, svd_solver='auto', tol=0.0,\n",
            "                     whiten=False)),\n",
            "                ('lr',\n",
            "                 Lasso(alpha=0.01, copy_X=True, fit_intercept=True,\n",
            "                       max_iter=1000, normalize=False, positive=False,\n",
            "                       precompute=False, random_state=None, selection='cyclic',\n",
            "                       tol=0.0001, warm_start=False))],\n",
            "         verbose=False)\n",
            "{'lr__alpha': 0.01, 'lr__selection': 'cyclic', 'pca__n_components': 16}\n"
          ],
          "name": "stdout"
        }
      ]
    },
    {
      "cell_type": "code",
      "metadata": {
        "colab": {
          "base_uri": "https://localhost:8080/"
        },
        "id": "4_Thtjg8XQ60",
        "outputId": "f53a47b8-41cd-478f-9acf-dfe26664a7da"
      },
      "source": [
        "print('Before:',lr_mse_score,'After:',mse(y_test, lr_preds_mse_resampled))"
      ],
      "execution_count": null,
      "outputs": [
        {
          "output_type": "stream",
          "text": [
            "Before: 1.056355289576955 After: 1.0204582541219658\n"
          ],
          "name": "stdout"
        }
      ]
    },
    {
      "cell_type": "markdown",
      "metadata": {
        "id": "flbzXpJkfeyE"
      },
      "source": [
        "The results without resampling are better than those with resampling, so we keep the the first ones."
      ]
    },
    {
      "cell_type": "markdown",
      "metadata": {
        "id": "y5yI7qQkHMdg"
      },
      "source": [
        "### Scoring **R² or Coefficient of Determination**\n",
        "  \n",
        "* For the hyperparameter alpha we initially chose a wide range of values ​​from 0.0001 to 1. We noticed that the optimal value is in the range 0.005 to 0.08 so we chose the following values ​​for this parameter.\n",
        "* Regarding the hyperparameter selection, we have chosen all the possible options."
      ]
    },
    {
      "cell_type": "code",
      "metadata": {
        "colab": {
          "base_uri": "https://localhost:8080/"
        },
        "id": "GT_pKX8tod_G",
        "outputId": "434ba88d-3a1d-4176-f34c-1f79d0d52a4f"
      },
      "source": [
        "from sklearn.pipeline import Pipeline\n",
        "\n",
        "n_components = [16,15,14,13,12,11]\n",
        "\n",
        "selection = ['cyclic', 'random']\n",
        "\n",
        "alpha = [0.0001,0.0002,0.0005,0.0008,0.001,0.002,0.005,0.008,0.01,0.02,0.05,0.08,1]\n",
        "\n",
        "pipe = Pipeline(steps=[('pca', pca), ('lr', lr)], memory = 'tmp')\n",
        "\n",
        "estimator = GridSearchCV(pipe, dict( pca__n_components=n_components, lr__selection=selection,lr__alpha=alpha),scoring='r2',cv=10, n_jobs=-1)\n",
        "\n",
        "estimator.fit(x_train_scaled, y_train)\n",
        "\n",
        "print(estimator.best_params_)"
      ],
      "execution_count": null,
      "outputs": [
        {
          "output_type": "stream",
          "text": [
            "{'lr__alpha': 0.008, 'lr__selection': 'cyclic', 'pca__n_components': 16}\n"
          ],
          "name": "stdout"
        }
      ]
    },
    {
      "cell_type": "code",
      "metadata": {
        "colab": {
          "base_uri": "https://localhost:8080/"
        },
        "id": "Y_sr4wYdHQvz",
        "outputId": "f51de71b-85cd-48be-f40a-ff6e0d78cef4"
      },
      "source": [
        "from sklearn.pipeline import Pipeline\n",
        "\n",
        "n_components = [16,15,14,13,12,11]\n",
        "\n",
        "selection = ['cyclic', 'random']\n",
        "\n",
        "alpha = [0.005,0.006,0.007,0.008,0.009,0.01,0.02,0.03,0.04,0.05,0.06,0.07,0.08]\n",
        "\n",
        "pipe = Pipeline(steps=[('pca', pca), ('lr', lr)], memory = 'tmp')\n",
        "\n",
        "estimator = GridSearchCV(pipe, dict( pca__n_components=n_components, lr__selection=selection,lr__alpha=alpha),scoring='r2',cv=10, n_jobs=-1)\n",
        "\n",
        "estimator.fit(x_train_scaled, y_train)\n",
        "\n",
        "print(estimator.best_estimator_)\n",
        "\n",
        "print(estimator.best_params_)"
      ],
      "execution_count": null,
      "outputs": [
        {
          "output_type": "stream",
          "text": [
            "Pipeline(memory='tmp',\n",
            "         steps=[('pca',\n",
            "                 PCA(copy=True, iterated_power='auto', n_components=16,\n",
            "                     random_state=None, svd_solver='auto', tol=0.0,\n",
            "                     whiten=False)),\n",
            "                ('lr',\n",
            "                 Lasso(alpha=0.007, copy_X=True, fit_intercept=True,\n",
            "                       max_iter=1000, normalize=False, positive=False,\n",
            "                       precompute=False, random_state=None, selection='cyclic',\n",
            "                       tol=0.0001, warm_start=False))],\n",
            "         verbose=False)\n",
            "{'lr__alpha': 0.007, 'lr__selection': 'cyclic', 'pca__n_components': 16}\n"
          ],
          "name": "stdout"
        }
      ]
    },
    {
      "cell_type": "markdown",
      "metadata": {
        "id": "gsMzuuHLXQ60"
      },
      "source": [
        "Without Oversampling"
      ]
    },
    {
      "cell_type": "code",
      "metadata": {
        "id": "f7FV2gxOHQoj"
      },
      "source": [
        "start_time = time.time()\n",
        "\n",
        "estimator.fit(x_train_scaled, y_train)\n",
        "\n",
        "times_train_aft['lr_r2'] = time.time() - start_time\n",
        "\n",
        "start_time = time.time()\n",
        "\n",
        "lr_preds_r2= estimator.predict(x_test_scaled)\n",
        "\n",
        "times_test_aft['lr_r2'] = time.time() - start_time"
      ],
      "execution_count": null,
      "outputs": []
    },
    {
      "cell_type": "code",
      "metadata": {
        "colab": {
          "base_uri": "https://localhost:8080/"
        },
        "id": "JmVd2K7-HQgt",
        "outputId": "06e4d341-6969-4daf-d8eb-610d9149b41e"
      },
      "source": [
        "lr_r2 = r2(y_test, lr_preds_r2)\n",
        "\n",
        "print('Before:',lr_r2_score,'After:',lr_r2)"
      ],
      "execution_count": null,
      "outputs": [
        {
          "output_type": "stream",
          "text": [
            "Before: 0.5573370692285076 After: 0.5984073022404273\n"
          ],
          "name": "stdout"
        }
      ]
    },
    {
      "cell_type": "markdown",
      "metadata": {
        "id": "OARpwuUaXQ61"
      },
      "source": [
        "With Oversampling"
      ]
    },
    {
      "cell_type": "code",
      "metadata": {
        "colab": {
          "base_uri": "https://localhost:8080/"
        },
        "id": "hwdO_4BIXQ61",
        "outputId": "3192cb7d-ab28-40dc-e752-ed7d8132b92c"
      },
      "source": [
        "estimator.fit(x_train_resampled, y_train_resampled)\n",
        "\n",
        "lr_preds_r2_resampled= estimator.predict(x_test_scaled)\n",
        "\n",
        "print(estimator.best_estimator_)\n",
        "\n",
        "print(estimator.best_params_)"
      ],
      "execution_count": null,
      "outputs": [
        {
          "output_type": "stream",
          "text": [
            "Pipeline(memory='tmp',\n",
            "         steps=[('pca',\n",
            "                 PCA(copy=True, iterated_power='auto', n_components=16,\n",
            "                     random_state=None, svd_solver='auto', tol=0.0,\n",
            "                     whiten=False)),\n",
            "                ('lr',\n",
            "                 Lasso(alpha=0.005, copy_X=True, fit_intercept=True,\n",
            "                       max_iter=1000, normalize=False, positive=False,\n",
            "                       precompute=False, random_state=None, selection='cyclic',\n",
            "                       tol=0.0001, warm_start=False))],\n",
            "         verbose=False)\n",
            "{'lr__alpha': 0.005, 'lr__selection': 'cyclic', 'pca__n_components': 16}\n"
          ],
          "name": "stdout"
        }
      ]
    },
    {
      "cell_type": "code",
      "metadata": {
        "colab": {
          "base_uri": "https://localhost:8080/"
        },
        "id": "G38cV7s1XQ61",
        "outputId": "12cd0d58-914b-4e65-e1df-80060ff98ed0"
      },
      "source": [
        "print('Before:',lr_r2_score,'After:',r2(y_test, lr_preds_r2_resampled))"
      ],
      "execution_count": null,
      "outputs": [
        {
          "output_type": "stream",
          "text": [
            "Before: 0.5277524947253871 After: 0.5422230655572138\n"
          ],
          "name": "stdout"
        }
      ]
    },
    {
      "cell_type": "markdown",
      "metadata": {
        "id": "MqvYPZOKfg7j"
      },
      "source": [
        "The results without resampling are better than those with resampling, so we keep the the first ones."
      ]
    },
    {
      "cell_type": "markdown",
      "metadata": {
        "id": "sesaFb-WHPxz"
      },
      "source": [
        "### Scoring **Median Absolute Error**\n",
        "\n",
        "* For the hyperparameter alpha we initially chose a wide range of values ​​from 0.0001 to 1. We noticed that the optimal value is in the range 0.008 to 0.07 so we chose the following values ​​for this parameter.\n",
        "* Regarding the hyperparameter selection, we have chosen all the possible options."
      ]
    },
    {
      "cell_type": "code",
      "metadata": {
        "colab": {
          "base_uri": "https://localhost:8080/"
        },
        "id": "fwXubMGvo1fY",
        "outputId": "42bd8942-e419-42d5-c726-eedd9df811a3"
      },
      "source": [
        "from sklearn.pipeline import Pipeline\n",
        "\n",
        "n_components = [16,15,14,13,12,11]\n",
        "\n",
        "selection = ['cyclic', 'random']\n",
        "\n",
        "alpha = [0.0001,0.0002,0.0005,0.0008,0.001,0.002,0.005,0.008,0.01,0.02,0.05,0.08,1]\n",
        "\n",
        "pipe = Pipeline(steps=[('pca', pca), ('lr', lr)], memory = 'tmp')\n",
        "\n",
        "estimator = GridSearchCV(pipe, dict( pca__n_components=n_components, lr__selection=selection,lr__alpha=alpha),scoring='neg_median_absolute_error',cv=10, n_jobs=-1)\n",
        "\n",
        "estimator.fit(x_train_scaled, y_train)\n",
        "\n",
        "print(estimator.best_params_)"
      ],
      "execution_count": null,
      "outputs": [
        {
          "output_type": "stream",
          "text": [
            "{'lr__alpha': 0.01, 'lr__selection': 'cyclic', 'pca__n_components': 14}\n"
          ],
          "name": "stdout"
        }
      ]
    },
    {
      "cell_type": "code",
      "metadata": {
        "colab": {
          "base_uri": "https://localhost:8080/"
        },
        "id": "IwlFE52tHdVU",
        "outputId": "5730e18a-3856-4f34-eff7-40e1edad7e48"
      },
      "source": [
        "from sklearn.pipeline import Pipeline\n",
        "\n",
        "n_components = [16,15,14,13,12,11]\n",
        "\n",
        "selection = ['cyclic', 'random']\n",
        "\n",
        "alpha = [0.008,0.009,0.01,0.02,0.03,0.04,0.05,0.06,0.07]\n",
        "\n",
        "pipe = Pipeline(steps=[('pca', pca), ('lr', lr)], memory = 'tmp')\n",
        "\n",
        "estimator = GridSearchCV(pipe, dict( pca__n_components=n_components, lr__selection=selection,lr__alpha=alpha),scoring='neg_median_absolute_error',cv=10, n_jobs=-1)\n",
        "\n",
        "estimator.fit(x_train_scaled, y_train)\n",
        "\n",
        "print(estimator.best_estimator_)\n",
        "\n",
        "print(estimator.best_params_)"
      ],
      "execution_count": null,
      "outputs": [
        {
          "output_type": "stream",
          "text": [
            "Pipeline(memory='tmp',\n",
            "         steps=[('pca',\n",
            "                 PCA(copy=True, iterated_power='auto', n_components=14,\n",
            "                     random_state=None, svd_solver='auto', tol=0.0,\n",
            "                     whiten=False)),\n",
            "                ('lr',\n",
            "                 Lasso(alpha=0.01, copy_X=True, fit_intercept=True,\n",
            "                       max_iter=1000, normalize=False, positive=False,\n",
            "                       precompute=False, random_state=None, selection='random',\n",
            "                       tol=0.0001, warm_start=False))],\n",
            "         verbose=False)\n",
            "{'lr__alpha': 0.01, 'lr__selection': 'random', 'pca__n_components': 14}\n"
          ],
          "name": "stdout"
        }
      ]
    },
    {
      "cell_type": "markdown",
      "metadata": {
        "id": "tN23HhZ0XQ61"
      },
      "source": [
        "Without Resampling"
      ]
    },
    {
      "cell_type": "code",
      "metadata": {
        "id": "d8o3g-X_HeC0"
      },
      "source": [
        "start_time = time.time()\n",
        "\n",
        "estimator.fit(x_train_scaled, y_train)\n",
        "\n",
        "times_train_aft['lr_mae'] = time.time() - start_time\n",
        "\n",
        "start_time = time.time()\n",
        "\n",
        "lr_preds_mae= estimator.predict(x_test_scaled)\n",
        "\n",
        "times_test_aft['lr_mae'] = time.time() - start_time"
      ],
      "execution_count": null,
      "outputs": []
    },
    {
      "cell_type": "code",
      "metadata": {
        "colab": {
          "base_uri": "https://localhost:8080/"
        },
        "id": "WAlFklk1HfJC",
        "outputId": "b574ab4e-7342-4d29-8fce-6ce4a9e81e91"
      },
      "source": [
        "lr_mae = mae(y_test, lr_preds_mae)\n",
        "\n",
        "print('Before:',lr_mae_score,'After:',lr_mae)"
      ],
      "execution_count": null,
      "outputs": [
        {
          "output_type": "stream",
          "text": [
            "Before: 0.7312872104257115 After: 0.6625729218247791\n"
          ],
          "name": "stdout"
        }
      ]
    },
    {
      "cell_type": "markdown",
      "metadata": {
        "id": "sRgmeQI8XQ61"
      },
      "source": [
        "With Resampling"
      ]
    },
    {
      "cell_type": "code",
      "metadata": {
        "colab": {
          "base_uri": "https://localhost:8080/"
        },
        "id": "ntwcufdnXQ62",
        "outputId": "9b1893db-eb14-4c69-f56b-f950232d7a20"
      },
      "source": [
        "estimator.fit(x_train_resampled, y_train_resampled)\n",
        "\n",
        "lr_preds_mae_resampled= estimator.predict(x_test_scaled)\n",
        "\n",
        "print(estimator.best_estimator_)\n",
        "\n",
        "print(estimator.best_params_)"
      ],
      "execution_count": null,
      "outputs": [
        {
          "output_type": "stream",
          "text": [
            "Pipeline(memory='tmp',\n",
            "         steps=[('pca',\n",
            "                 PCA(copy=True, iterated_power='auto', n_components=15,\n",
            "                     random_state=None, svd_solver='auto', tol=0.0,\n",
            "                     whiten=False)),\n",
            "                ('lr',\n",
            "                 Lasso(alpha=0.03, copy_X=True, fit_intercept=True,\n",
            "                       max_iter=1000, normalize=False, positive=False,\n",
            "                       precompute=False, random_state=None, selection='cyclic',\n",
            "                       tol=0.0001, warm_start=False))],\n",
            "         verbose=False)\n",
            "{'lr__alpha': 0.03, 'lr__selection': 'cyclic', 'pca__n_components': 15}\n"
          ],
          "name": "stdout"
        }
      ]
    },
    {
      "cell_type": "code",
      "metadata": {
        "colab": {
          "base_uri": "https://localhost:8080/"
        },
        "id": "dX2y-KZiXQ62",
        "outputId": "04bfbb04-72e4-4d0a-94b0-3094fde06828"
      },
      "source": [
        "print('Before:',lr_mae_score,'After:',mae(y_test, lr_preds_mae_resampled))"
      ],
      "execution_count": null,
      "outputs": [
        {
          "output_type": "stream",
          "text": [
            "Before: 0.7312872104257115 After: 0.703378404895779\n"
          ],
          "name": "stdout"
        }
      ]
    },
    {
      "cell_type": "markdown",
      "metadata": {
        "id": "G93yv6r6fj8W"
      },
      "source": [
        "The results without resampling are better than those with resampling, so we keep the the first ones."
      ]
    },
    {
      "cell_type": "markdown",
      "metadata": {
        "id": "wPvZjxSzkglv"
      },
      "source": [
        "## **Elastic Net Regressor**\n",
        "\n",
        "Selection of hyperparameters: \n",
        "* **alpha** :Regularization improves the conditioning of the problem and reduces the variance of the estimates. Larger values specify stronger regularization\n",
        "* **l1_ratio**: The ElasticNet mixing parameter, with 0 <= l1_ratio <= 1. For l1_ratio = 0 the penalty is an L2 penalty. For l1_ratio = 1 it is an L1 penalty. For 0 < l1_ratio < 1, the penalty is a combination of L1 and L2.\n",
        "* **selction**: If set to ‘random’, a random coefficient is updated every iteration rather than looping over features sequentially by default. This often leads to significantly faster convergence especially when tol is higher than 1e-4 (default tolerance).\n"
      ]
    },
    {
      "cell_type": "markdown",
      "metadata": {
        "id": "tLPo8Qkyk1uj"
      },
      "source": [
        "### Scoring **Mean Square Error**\n",
        "\n",
        "* For the alpha hyperparameter we initially chose a wide range of values ​​from 0.001 to 1. We noticed that the optimal value is in the range 0.007 to 0.05 so we chose the following values ​​for this parameter.\n",
        "* For the hyperparameter l1_ratio we chose a wide range of values ​​from 0 to 1\n",
        "* Regarding the hyperparameter selection, we chose all the possible options"
      ]
    },
    {
      "cell_type": "code",
      "metadata": {
        "colab": {
          "base_uri": "https://localhost:8080/"
        },
        "id": "OPdRVwL7plB_",
        "outputId": "7cc05f2b-18e2-4607-e729-7d5b02439ccd"
      },
      "source": [
        "from sklearn.pipeline import Pipeline\n",
        "\n",
        "parameters_enr = { 'pca__n_components' : [16,15,14,13,12,11],\n",
        "                  'enr__selection' : ['cyclic', 'random'],\n",
        "                  'enr__alpha' : [0.001,0.005,0.01,0.05,0.1,0.5,1],\n",
        "                  'enr__l1_ratio' : [0,0.1,0.2,0.5,0.7,0.8,0.9,1]\n",
        "                }\n",
        "\n",
        "pipe = Pipeline(steps=[('pca', pca), ('enr', enr)], memory = 'tmp')\n",
        "\n",
        "estimator = GridSearchCV(pipe, param_grid = parameters_enr, cv = 10, scoring='neg_mean_squared_error', n_jobs=-1)\n",
        "\n",
        "estimator.fit(x_train_scaled, y_train)\n",
        "\n",
        "print(estimator.best_params_)"
      ],
      "execution_count": null,
      "outputs": [
        {
          "output_type": "stream",
          "text": [
            "{'enr__alpha': 0.01, 'enr__l1_ratio': 0.7, 'enr__selection': 'cyclic', 'pca__n_components': 16}\n"
          ],
          "name": "stdout"
        }
      ]
    },
    {
      "cell_type": "code",
      "metadata": {
        "colab": {
          "base_uri": "https://localhost:8080/"
        },
        "id": "QO-zuUqtk3SM",
        "outputId": "6163bec8-25dc-4066-af76-7818a2163a6b"
      },
      "source": [
        "from sklearn.pipeline import Pipeline\n",
        "\n",
        "parameters_enr = { 'pca__n_components' : [16,15,14,13,12,11],\n",
        "                  'enr__selection' : ['cyclic', 'random'],\n",
        "                  'enr__alpha' : [0.01,0.02,0.03,0.04,0.05,0.06,0.07,0.08],\n",
        "                  'enr__l1_ratio' : [0,0.1,0.2,0.5,0.7,0.8,0.9,1]\n",
        "                }\n",
        "\n",
        "pipe = Pipeline(steps=[('pca', pca), ('enr', enr)], memory = 'tmp')\n",
        "\n",
        "estimator = GridSearchCV(pipe, param_grid = parameters_enr, cv = 10, scoring='neg_mean_squared_error', n_jobs=-1)\n",
        "\n",
        "estimator.fit(x_train_scaled, y_train)\n",
        "\n",
        "print(estimator.best_estimator_)\n",
        "\n",
        "print(estimator.best_params_)"
      ],
      "execution_count": null,
      "outputs": [
        {
          "output_type": "stream",
          "text": [
            "Pipeline(memory='tmp',\n",
            "         steps=[('pca',\n",
            "                 PCA(copy=True, iterated_power='auto', n_components=16,\n",
            "                     random_state=None, svd_solver='auto', tol=0.0,\n",
            "                     whiten=False)),\n",
            "                ('enr',\n",
            "                 ElasticNet(alpha=0.05, copy_X=True, fit_intercept=True,\n",
            "                            l1_ratio=0.1, max_iter=1000, normalize=False,\n",
            "                            positive=False, precompute=False, random_state=None,\n",
            "                            selection='cyclic', tol=0.0001,\n",
            "                            warm_start=False))],\n",
            "         verbose=False)\n",
            "{'enr__alpha': 0.05, 'enr__l1_ratio': 0.1, 'enr__selection': 'cyclic', 'pca__n_components': 16}\n"
          ],
          "name": "stdout"
        }
      ]
    },
    {
      "cell_type": "markdown",
      "metadata": {
        "id": "Z5DlBgRk1bXA"
      },
      "source": [
        "Without Resampling"
      ]
    },
    {
      "cell_type": "code",
      "metadata": {
        "id": "BNlC5ARDA0t2"
      },
      "source": [
        "start_time = time.time()\n",
        "\n",
        "estimator.fit(x_train_scaled, y_train)\n",
        "\n",
        "times_train_aft['enr_mse'] = time.time() - start_time\n",
        "\n",
        "start_time = time.time()\n",
        "\n",
        "enr_preds_mse = estimator.predict(x_test_scaled)\n",
        "\n",
        "times_test_aft['enr_mse'] = time.time() - start_time"
      ],
      "execution_count": null,
      "outputs": []
    },
    {
      "cell_type": "code",
      "metadata": {
        "colab": {
          "base_uri": "https://localhost:8080/"
        },
        "id": "nCzQw-nT0f1w",
        "outputId": "79c6bed8-6202-4ee8-a268-d98f539e4442"
      },
      "source": [
        "enr_mse = mse(y_test, enr_preds_mse)\n",
        "\n",
        "print('Before:',enr_mse_score,'After:',enr_mse)"
      ],
      "execution_count": null,
      "outputs": [
        {
          "output_type": "stream",
          "text": [
            "Before: 1.046897894903197 After: 0.958386544379006\n"
          ],
          "name": "stdout"
        }
      ]
    },
    {
      "cell_type": "markdown",
      "metadata": {
        "id": "4dkVgdyr1fNN"
      },
      "source": [
        "With Resampling"
      ]
    },
    {
      "cell_type": "code",
      "metadata": {
        "colab": {
          "base_uri": "https://localhost:8080/"
        },
        "id": "zr_8kr5b1fiE",
        "outputId": "10dd10c4-c7ee-4551-acf3-ee546b588c4c"
      },
      "source": [
        "estimator.fit(x_train_resampled, y_train_resampled)\n",
        "\n",
        "enr_preds_mse_resampled= estimator.predict(x_test_scaled)\n",
        "\n",
        "print(estimator.best_estimator_)\n",
        "\n",
        "print(estimator.best_params_)"
      ],
      "execution_count": null,
      "outputs": [
        {
          "output_type": "stream",
          "text": [
            "Pipeline(memory='tmp',\n",
            "         steps=[('pca',\n",
            "                 PCA(copy=True, iterated_power='auto', n_components=16,\n",
            "                     random_state=None, svd_solver='auto', tol=0.0,\n",
            "                     whiten=False)),\n",
            "                ('enr',\n",
            "                 ElasticNet(alpha=0.001, copy_X=True, fit_intercept=True,\n",
            "                            l1_ratio=1, max_iter=1000, normalize=False,\n",
            "                            positive=False, precompute=False, random_state=None,\n",
            "                            selection='cyclic', tol=0.0001,\n",
            "                            warm_start=False))],\n",
            "         verbose=False)\n",
            "{'enr__alpha': 0.001, 'enr__l1_ratio': 1, 'enr__selection': 'cyclic', 'pca__n_components': 16}\n"
          ],
          "name": "stdout"
        }
      ]
    },
    {
      "cell_type": "code",
      "metadata": {
        "colab": {
          "base_uri": "https://localhost:8080/"
        },
        "id": "v8kW08zC1f01",
        "outputId": "7e41295d-04ff-4981-dc05-ec2f2ddd7d75"
      },
      "source": [
        "print('Before:',enr_mse_score,'After:',mse(y_test, enr_preds_mse_resampled))"
      ],
      "execution_count": null,
      "outputs": [
        {
          "output_type": "stream",
          "text": [
            "Before: 1.046897894903197 After: 1.0231501949719926\n"
          ],
          "name": "stdout"
        }
      ]
    },
    {
      "cell_type": "markdown",
      "metadata": {
        "id": "OuMA71hqiePi"
      },
      "source": [
        "The results without resampling are better than those with resampling, so we keep the the first ones."
      ]
    },
    {
      "cell_type": "markdown",
      "metadata": {
        "id": "TXsl2SHEBxyX"
      },
      "source": [
        "### Scoring **R² or Coefficient of Determination**\n",
        "\n",
        "* For the alpha hyperparameter we initially chose a wide range of values ​​from 0.001 to 1. We noticed that the optimal value is in the range 0.007 to 0.05 so we chose the following values ​​for this parameter.\n",
        "* For the hyperparameter l1_ratio we chose a wide range of values ​​from 0 to 1.\n",
        "* Regarding the hyperparameter selection, we chose all the possible options\n"
      ]
    },
    {
      "cell_type": "code",
      "metadata": {
        "colab": {
          "base_uri": "https://localhost:8080/"
        },
        "id": "zR-asyGYp1dS",
        "outputId": "0a31e9b0-9c23-467d-90e4-66c1bf3a4c45"
      },
      "source": [
        "from sklearn.pipeline import Pipeline\n",
        "\n",
        "parameters_enr = { 'pca__n_components' : [16,15,14,13,12,11],\n",
        "                  'enr__selection' : ['cyclic', 'random'],\n",
        "                  'enr__alpha' : [0.001,0.005,0.01,0.05,0.1,0.5,1],\n",
        "                  'enr__l1_ratio' : [0,0.1,0.2,0.5,0.7,0.8,0.9,1]\n",
        "                }\n",
        "\n",
        "pipe = Pipeline(steps=[('pca', pca), ('enr', enr)], memory = 'tmp')\n",
        "\n",
        "estimator = GridSearchCV(pipe, param_grid = parameters_enr, cv = 10, scoring='r2', n_jobs=-1)\n",
        "\n",
        "estimator.fit(x_train_scaled, y_train)\n",
        "\n",
        "print(estimator.best_params_)"
      ],
      "execution_count": null,
      "outputs": [
        {
          "output_type": "stream",
          "text": [
            "{'enr__alpha': 0.01, 'enr__l1_ratio': 0.7, 'enr__selection': 'cyclic', 'pca__n_components': 16}\n"
          ],
          "name": "stdout"
        }
      ]
    },
    {
      "cell_type": "code",
      "metadata": {
        "colab": {
          "base_uri": "https://localhost:8080/"
        },
        "id": "Z-zifGt4k3ks",
        "outputId": "5ffc4f8a-78a7-43cf-ac3a-56ab40a64a07"
      },
      "source": [
        "from sklearn.pipeline import Pipeline\n",
        "\n",
        "parameters_enr = { 'pca__n_components' : [16,15,14,13,12,11],\n",
        "                  'enr__selection' : ['cyclic', 'random'],\n",
        "                  'enr__alpha' : [0.007,0.008,0.009,0.01,0.02,0.03,0.04,0.05],\n",
        "                  'enr__l1_ratio' : [0,0.1,0.2,0.5,0.7,0.8,0.9,1]\n",
        "                }\n",
        "\n",
        "pipe = Pipeline(steps=[('pca', pca), ('enr', enr)], memory = 'tmp')\n",
        "\n",
        "estimator = GridSearchCV(pipe, param_grid = parameters_enr, cv = 10, scoring='r2', n_jobs=-1)\n",
        "\n",
        "estimator.fit(x_train_scaled, y_train)\n",
        "\n",
        "print(estimator.best_estimator_)\n",
        "\n",
        "print(estimator.best_params_)"
      ],
      "execution_count": null,
      "outputs": [
        {
          "output_type": "stream",
          "text": [
            "Pipeline(memory='tmp',\n",
            "         steps=[('pca',\n",
            "                 PCA(copy=True, iterated_power='auto', n_components=16,\n",
            "                     random_state=None, svd_solver='auto', tol=0.0,\n",
            "                     whiten=False)),\n",
            "                ('enr',\n",
            "                 ElasticNet(alpha=0.008, copy_X=True, fit_intercept=True,\n",
            "                            l1_ratio=0.9, max_iter=1000, normalize=False,\n",
            "                            positive=False, precompute=False, random_state=None,\n",
            "                            selection='cyclic', tol=0.0001,\n",
            "                            warm_start=False))],\n",
            "         verbose=False)\n",
            "{'enr__alpha': 0.008, 'enr__l1_ratio': 0.9, 'enr__selection': 'cyclic', 'pca__n_components': 16}\n"
          ],
          "name": "stdout"
        }
      ]
    },
    {
      "cell_type": "markdown",
      "metadata": {
        "id": "cpV-iJnu011b"
      },
      "source": [
        "Without Resampling"
      ]
    },
    {
      "cell_type": "code",
      "metadata": {
        "id": "bq4AMKyuB7Pr"
      },
      "source": [
        "start_time = time.time()\n",
        "\n",
        "estimator.fit(x_train_scaled, y_train)\n",
        "\n",
        "times_train_aft['enr_r2'] = time.time() - start_time\n",
        "\n",
        "start_time = time.time()\n",
        "\n",
        "enr_preds_r2 = estimator.predict(x_test_scaled)\n",
        "\n",
        "times_test_aft['enr_r2'] = time.time() - start_time"
      ],
      "execution_count": null,
      "outputs": []
    },
    {
      "cell_type": "code",
      "metadata": {
        "colab": {
          "base_uri": "https://localhost:8080/"
        },
        "id": "_6dX5rVl0rei",
        "outputId": "021c9b82-da6d-4e49-e70f-5e3db73aa0f3"
      },
      "source": [
        "enr_r2 = r2(y_test, enr_preds_r2)\n",
        "\n",
        "print('Before:',enr_r2_score,'After:',enr_r2)"
      ],
      "execution_count": null,
      "outputs": [
        {
          "output_type": "stream",
          "text": [
            "Before: 0.5613001658164227 After: 0.5983868617148475\n"
          ],
          "name": "stdout"
        }
      ]
    },
    {
      "cell_type": "markdown",
      "metadata": {
        "id": "KYm0mKns04_b"
      },
      "source": [
        "With Resampling"
      ]
    },
    {
      "cell_type": "code",
      "metadata": {
        "colab": {
          "base_uri": "https://localhost:8080/"
        },
        "id": "vSSJ8-Vn04MV",
        "outputId": "8b5442eb-6eaf-4c23-ed21-3c9ee0ebe3fb"
      },
      "source": [
        "estimator.fit(x_train_resampled, y_train_resampled)\n",
        "\n",
        "enr_preds_r2_resampled= estimator.predict(x_test_scaled)\n",
        "\n",
        "print(estimator.best_estimator_)\n",
        "\n",
        "print(estimator.best_params_)"
      ],
      "execution_count": null,
      "outputs": [
        {
          "output_type": "stream",
          "text": [
            "Pipeline(memory='tmp',\n",
            "         steps=[('pca',\n",
            "                 PCA(copy=True, iterated_power='auto', n_components=16,\n",
            "                     random_state=None, svd_solver='auto', tol=0.0,\n",
            "                     whiten=False)),\n",
            "                ('enr',\n",
            "                 ElasticNet(alpha=0.007, copy_X=True, fit_intercept=True,\n",
            "                            l1_ratio=0, max_iter=1000, normalize=False,\n",
            "                            positive=False, precompute=False, random_state=None,\n",
            "                            selection='random', tol=0.0001,\n",
            "                            warm_start=False))],\n",
            "         verbose=False)\n",
            "{'enr__alpha': 0.007, 'enr__l1_ratio': 0, 'enr__selection': 'random', 'pca__n_components': 16}\n"
          ],
          "name": "stdout"
        },
        {
          "output_type": "stream",
          "text": [
            "/usr/local/lib/python3.7/dist-packages/sklearn/linear_model/_coordinate_descent.py:476: ConvergenceWarning: Objective did not converge. You might want to increase the number of iterations. Duality gap: 2581.107785173951, tolerance: 2.31\n",
            "  positive)\n"
          ],
          "name": "stderr"
        }
      ]
    },
    {
      "cell_type": "code",
      "metadata": {
        "colab": {
          "base_uri": "https://localhost:8080/"
        },
        "id": "p2R7zakK1CRa",
        "outputId": "7c0ab6c4-c6e4-4794-9d2b-8aed9e3d1da3"
      },
      "source": [
        "print('Before:',enr_r2_score,'After:',r2(y_test, enr_preds_r2_resampled))"
      ],
      "execution_count": null,
      "outputs": [
        {
          "output_type": "stream",
          "text": [
            "Before: 0.5613001658164227 After: 0.5714041917164454\n"
          ],
          "name": "stdout"
        }
      ]
    },
    {
      "cell_type": "markdown",
      "metadata": {
        "id": "lEmBBoJypHM1"
      },
      "source": [
        "The results without resampling are better than those with resampling, so we keep the the first ones."
      ]
    },
    {
      "cell_type": "markdown",
      "metadata": {
        "id": "uE32OXUPDiTW"
      },
      "source": [
        "### Scoring **Median Absolute Error**\n",
        "\n",
        "* For the alpha hyperparameter we initially chose a wide range of values ​​from 0.001 to 1. We noticed that the optimal value is in the range 0.01 to 0.08 so we chose the following values ​​for this parameter.\n",
        "* For the hyperparameter l1_ratio we chose a wide range of values ​​from 0 to 1.\n",
        "* Regarding the hyperparameter selection, we chose all the possible options"
      ]
    },
    {
      "cell_type": "code",
      "metadata": {
        "colab": {
          "base_uri": "https://localhost:8080/"
        },
        "id": "52_QfzeOp_LB",
        "outputId": "970b6ca8-386a-4184-82c1-0d6e54c72e17"
      },
      "source": [
        "from sklearn.pipeline import Pipeline\n",
        "\n",
        "parameters_enr = { 'pca__n_components' : [16,15,14,13,12,11],\n",
        "                  'enr__selection' : ['cyclic', 'random'],\n",
        "                  'enr__alpha' : [0.001,0.005,0.01,0.05,0.1,0.5,1],\n",
        "                  'enr__l1_ratio' : [0,0.1,0.2,0.5,0.7,0.8,0.9,1]\n",
        "                }\n",
        "\n",
        "pipe = Pipeline(steps=[('pca', pca), ('enr', enr)], memory = 'tmp')\n",
        "\n",
        "estimator = GridSearchCV(pipe, param_grid = parameters_enr, cv = 10, scoring='neg_median_absolute_error', n_jobs=-1)\n",
        "\n",
        "estimator.fit(x_train_scaled, y_train)\n",
        "\n",
        "print(estimator.best_params_)"
      ],
      "execution_count": null,
      "outputs": [
        {
          "output_type": "stream",
          "text": [
            "{'enr__alpha': 0.05, 'enr__l1_ratio': 0.1, 'enr__selection': 'cyclic', 'pca__n_components': 14}\n"
          ],
          "name": "stdout"
        }
      ]
    },
    {
      "cell_type": "code",
      "metadata": {
        "colab": {
          "base_uri": "https://localhost:8080/"
        },
        "id": "fSCFawj3DjtL",
        "outputId": "ca00aac7-10ec-449a-b40a-1f158fce9c2b"
      },
      "source": [
        "from sklearn.pipeline import Pipeline\n",
        "\n",
        "parameters_enr = { 'pca__n_components' : [16,15,14,13,12,11],\n",
        "                  'enr__selection' : ['cyclic', 'random'],\n",
        "                  'enr__alpha' : [0.01,0.02,0.03,0.04,0.05,0.06,0.07,0.08],\n",
        "                  'enr__l1_ratio' : [0,0.1,0.3,0.5,0.7,0.8,0.9,1]\n",
        "                }\n",
        "\n",
        "\n",
        "pipe = Pipeline(steps=[('pca', pca), ('enr', enr)], memory = 'tmp')\n",
        "\n",
        "estimator = GridSearchCV(pipe, param_grid = parameters_enr, cv = 10, scoring='neg_median_absolute_error', n_jobs=-1)\n",
        "\n",
        "estimator.fit(x_train_scaled, y_train)\n",
        "\n",
        "print(estimator.best_estimator_)\n",
        "\n",
        "print(estimator.best_params_)"
      ],
      "execution_count": null,
      "outputs": [
        {
          "output_type": "stream",
          "text": [
            "Pipeline(memory='tmp',\n",
            "         steps=[('pca',\n",
            "                 PCA(copy=True, iterated_power='auto', n_components=14,\n",
            "                     random_state=None, svd_solver='auto', tol=0.0,\n",
            "                     whiten=False)),\n",
            "                ('enr',\n",
            "                 ElasticNet(alpha=0.05, copy_X=True, fit_intercept=True,\n",
            "                            l1_ratio=0.1, max_iter=1000, normalize=False,\n",
            "                            positive=False, precompute=False, random_state=None,\n",
            "                            selection='random', tol=0.0001,\n",
            "                            warm_start=False))],\n",
            "         verbose=False)\n",
            "{'enr__alpha': 0.05, 'enr__l1_ratio': 0.1, 'enr__selection': 'random', 'pca__n_components': 14}\n"
          ],
          "name": "stdout"
        }
      ]
    },
    {
      "cell_type": "code",
      "metadata": {
        "id": "WaYLt_0ZDts8"
      },
      "source": [
        "start_time = time.time()\n",
        "\n",
        "estimator.fit(x_train_scaled, y_train)\n",
        "\n",
        "times_train_aft['enr_mae'] = time.time() - start_time\n",
        "\n",
        "start_time = time.time()\n",
        "\n",
        "enr_preds_mae = estimator.predict(x_test_scaled)\n",
        "\n",
        "times_test_aft['enr_mae'] = time.time() - start_time"
      ],
      "execution_count": null,
      "outputs": []
    },
    {
      "cell_type": "code",
      "metadata": {
        "colab": {
          "base_uri": "https://localhost:8080/"
        },
        "id": "5Hb-R_Cj0w_s",
        "outputId": "c7d880ec-19e6-4abf-f5cc-1633d10d6c55"
      },
      "source": [
        "enr_mae = mae(y_test, enr_preds_mae)\n",
        "\n",
        "print('Before:',enr_mae_score,'After:',enr_mae)"
      ],
      "execution_count": null,
      "outputs": [
        {
          "output_type": "stream",
          "text": [
            "Before: 0.7248121335376689 After: 0.6630373083768308\n"
          ],
          "name": "stdout"
        }
      ]
    },
    {
      "cell_type": "markdown",
      "metadata": {
        "id": "1t5XMlPv1JJW"
      },
      "source": [
        "With Resampling"
      ]
    },
    {
      "cell_type": "code",
      "metadata": {
        "colab": {
          "base_uri": "https://localhost:8080/"
        },
        "id": "Q5ac5vrr1I2D",
        "outputId": "9c700a6d-f646-4b50-c553-8017eb345c3a"
      },
      "source": [
        "estimator.fit(x_train_resampled, y_train_resampled)\n",
        "\n",
        "enr_preds_mae_resampled= estimator.predict(x_test_scaled)\n",
        "\n",
        "print(estimator.best_estimator_)\n",
        "\n",
        "print(estimator.best_params_)"
      ],
      "execution_count": null,
      "outputs": [
        {
          "output_type": "stream",
          "text": [
            "Pipeline(memory='tmp',\n",
            "         steps=[('pca',\n",
            "                 PCA(copy=True, iterated_power='auto', n_components=16,\n",
            "                     random_state=None, svd_solver='auto', tol=0.0,\n",
            "                     whiten=False)),\n",
            "                ('enr',\n",
            "                 ElasticNet(alpha=0.05, copy_X=True, fit_intercept=True,\n",
            "                            l1_ratio=0, max_iter=1000, normalize=False,\n",
            "                            positive=False, precompute=False, random_state=None,\n",
            "                            selection='cyclic', tol=0.0001,\n",
            "                            warm_start=False))],\n",
            "         verbose=False)\n",
            "{'enr__alpha': 0.05, 'enr__l1_ratio': 0, 'enr__selection': 'cyclic', 'pca__n_components': 16}\n"
          ],
          "name": "stdout"
        },
        {
          "output_type": "stream",
          "text": [
            "/usr/local/lib/python3.7/dist-packages/sklearn/linear_model/_coordinate_descent.py:476: ConvergenceWarning: Objective did not converge. You might want to increase the number of iterations. Duality gap: 2627.397309799964, tolerance: 2.31\n",
            "  positive)\n"
          ],
          "name": "stderr"
        }
      ]
    },
    {
      "cell_type": "code",
      "metadata": {
        "colab": {
          "base_uri": "https://localhost:8080/"
        },
        "id": "6S4G8Di81IpF",
        "outputId": "5da0e9bf-d134-4a1d-efc8-77a44c1fc4c8"
      },
      "source": [
        "print('Before:',enr_mae_score,'After:',mae(y_test, enr_preds_mae_resampled))"
      ],
      "execution_count": null,
      "outputs": [
        {
          "output_type": "stream",
          "text": [
            "Before: 0.7248121335376689 After: 0.6873260739816622\n"
          ],
          "name": "stdout"
        }
      ]
    },
    {
      "cell_type": "markdown",
      "metadata": {
        "id": "lvQFCG3fsGYI"
      },
      "source": [
        "The results without resampling are better than those with resampling, so we keep the the first ones."
      ]
    },
    {
      "cell_type": "markdown",
      "metadata": {
        "id": "Mz74sTVaXQ63"
      },
      "source": [
        "## **Support Vector Machine Regressor**\n",
        "\n",
        "Selection of hyperparameters: \n",
        "* **kernel** :Specifies the kernel type to be used in the algorithm. It must be one of ‘linear’, ‘poly’, ‘rbf’, ‘sigmoid’, ‘precomputed’ or a callable. If none is given, ‘rbf’ will be used. If a callable is given it is used to precompute the kernel matrix.\n",
        "* **C**: Regularization parameter. The strength of the regularization is inversely proportional to C. Must be strictly positive. The penalty is a squared l2 penalty.\n",
        "* **gamma**: Kernel coefficient for ‘rbf’, ‘poly’ and ‘sigmoid’."
      ]
    },
    {
      "cell_type": "markdown",
      "metadata": {
        "id": "F6Pqpx9pXQ63"
      },
      "source": [
        "### Scoring **Mean Squared Error**\n",
        "\n",
        "* For the hyperparameter C we initially chose a wide range of values ​​from 1 to 10. We noticed that the optimal value is in the range 2 to 5 so we chose the following values ​​for this parameter.\n",
        "*  For the hyperparameter C we initially chose a wide range of values ​​from 0.0001 to 0.1. We noticed that the optimal value is in the range 0.001 to 0.1 so we chose the following values ​​for this parameter.\n",
        "* Regarding the hyperparameter kernel, we have chosen all the possible options."
      ]
    },
    {
      "cell_type": "code",
      "metadata": {
        "colab": {
          "base_uri": "https://localhost:8080/"
        },
        "id": "UXSw-dqRqPYF",
        "outputId": "59bfa39c-3b66-4646-d40d-74447731d980"
      },
      "source": [
        "from sklearn.pipeline import Pipeline\n",
        "\n",
        "param_grid_svmr = {'pca__n_components': [16,15,14,13,12,11,10,9],\n",
        "              'svmr__kernel': ['rbf'],\n",
        "              'svmr__C': [1,5,10],\n",
        "              'svmr__gamma':[0.0001,0.001,0.01,0.1] }\n",
        "              \n",
        "pipe = Pipeline(steps=[ ('pca', pca), ('svmr', svmr)])\n",
        "\n",
        "estimator = GridSearchCV(pipe, param_grid_svmr, cv=10, scoring='neg_mean_squared_error', n_jobs=-1)\n",
        "\n",
        "estimator.fit(x_train_scaled, y_train)\n",
        "\n",
        "print(estimator.best_params_)"
      ],
      "execution_count": null,
      "outputs": [
        {
          "output_type": "stream",
          "text": [
            "{'pca__n_components': 16, 'svmr__C': 5, 'svmr__gamma': 0.01, 'svmr__kernel': 'rbf'}\n"
          ],
          "name": "stdout"
        }
      ]
    },
    {
      "cell_type": "code",
      "metadata": {
        "colab": {
          "base_uri": "https://localhost:8080/"
        },
        "id": "EqRPXdt0XQ64",
        "outputId": "4dd8a63f-0032-43bc-fd3f-be0619b44629"
      },
      "source": [
        "from sklearn.pipeline import Pipeline\n",
        "\n",
        "param_grid_svmr = {'pca__n_components': [16,15,14,13,12,11,10,9],\n",
        "              'svmr__kernel': ['rbf'],\n",
        "              'svmr__C': [2,3,4,5],\n",
        "              'svmr__gamma':[0.001,0.01,0.1] }\n",
        "              \n",
        "pipe = Pipeline(steps=[ ('pca', pca), ('svmr', svmr)])\n",
        "\n",
        "estimator = GridSearchCV(pipe, param_grid_svmr, cv=10, scoring='neg_mean_squared_error', n_jobs=-1)\n",
        "\n",
        "estimator.fit(x_train_scaled, y_train)\n",
        "\n",
        "print(estimator.best_estimator_)\n",
        "\n",
        "print(estimator.best_params_)"
      ],
      "execution_count": null,
      "outputs": [
        {
          "output_type": "stream",
          "text": [
            "Pipeline(memory=None,\n",
            "         steps=[('pca',\n",
            "                 PCA(copy=True, iterated_power='auto', n_components=16,\n",
            "                     random_state=None, svd_solver='auto', tol=0.0,\n",
            "                     whiten=False)),\n",
            "                ('svmr',\n",
            "                 SVR(C=4, cache_size=200, coef0=0.0, degree=3, epsilon=0.1,\n",
            "                     gamma=0.01, kernel='rbf', max_iter=-1, shrinking=True,\n",
            "                     tol=0.001, verbose=False))],\n",
            "         verbose=False)\n",
            "{'pca__n_components': 16, 'svmr__C': 4, 'svmr__gamma': 0.01, 'svmr__kernel': 'rbf'}\n"
          ],
          "name": "stdout"
        }
      ]
    },
    {
      "cell_type": "markdown",
      "metadata": {
        "id": "O-pKCr_GH8kx"
      },
      "source": [
        "Without Resampling"
      ]
    },
    {
      "cell_type": "code",
      "metadata": {
        "id": "sL2h0XB1XQ64"
      },
      "source": [
        "start_time = time.time()\n",
        "\n",
        "estimator.fit(x_train_scaled, y_train)\n",
        "\n",
        "times_train_aft['svmr_mse'] = time.time() - start_time\n",
        "\n",
        "start_time = time.time()\n",
        "\n",
        "svmr_preds_mse= estimator.predict(x_test_scaled)\n",
        "\n",
        "times_test_aft['svmr_mse'] = time.time() - start_time"
      ],
      "execution_count": null,
      "outputs": []
    },
    {
      "cell_type": "code",
      "metadata": {
        "colab": {
          "base_uri": "https://localhost:8080/"
        },
        "id": "xEIHnsH4XQ64",
        "outputId": "7b56f098-3425-418d-b9eb-9069fc3907db"
      },
      "source": [
        "svmr_mse = mse(y_test, svmr_preds_mse)\n",
        "\n",
        "print('Before:',svmr_mse_score,'After:',svmr_mse)"
      ],
      "execution_count": null,
      "outputs": [
        {
          "output_type": "stream",
          "text": [
            "Before: 2.09930337359493 After: 0.924617269604936\n"
          ],
          "name": "stdout"
        }
      ]
    },
    {
      "cell_type": "markdown",
      "metadata": {
        "id": "PYeYok3NH_md"
      },
      "source": [
        "With Resampling"
      ]
    },
    {
      "cell_type": "code",
      "metadata": {
        "colab": {
          "base_uri": "https://localhost:8080/"
        },
        "id": "X_jLQzVGXQ64",
        "outputId": "67e72813-d685-4421-ceb3-df3c30f1ff7c"
      },
      "source": [
        "estimator.fit(x_train_resampled, y_train_resampled.values.ravel())\n",
        "\n",
        "svmr_preds_mse_resampled= estimator.predict(x_test_scaled)\n",
        "\n",
        "print(estimator.best_estimator_)\n",
        "\n",
        "print(estimator.best_params_)"
      ],
      "execution_count": null,
      "outputs": [
        {
          "output_type": "stream",
          "text": [
            "Pipeline(memory=None,\n",
            "         steps=[('pca',\n",
            "                 PCA(copy=True, iterated_power='auto', n_components=16,\n",
            "                     random_state=None, svd_solver='auto', tol=0.0,\n",
            "                     whiten=False)),\n",
            "                ('svmr',\n",
            "                 SVR(C=5, cache_size=200, coef0=0.0, degree=3, epsilon=0.1,\n",
            "                     gamma=0.1, kernel='rbf', max_iter=-1, shrinking=True,\n",
            "                     tol=0.001, verbose=False))],\n",
            "         verbose=False)\n",
            "{'pca__n_components': 16, 'svmr__C': 5, 'svmr__gamma': 0.1, 'svmr__kernel': 'rbf'}\n"
          ],
          "name": "stdout"
        }
      ]
    },
    {
      "cell_type": "code",
      "metadata": {
        "colab": {
          "base_uri": "https://localhost:8080/"
        },
        "id": "yNYwViL7XQ64",
        "outputId": "566ce741-c5da-444c-a749-b096a5629c15"
      },
      "source": [
        "print('Before:',svmr_mse_score,'After:',mse(y_test, svmr_preds_mse_resampled))"
      ],
      "execution_count": null,
      "outputs": [
        {
          "output_type": "stream",
          "text": [
            "Before: 2.09930337359493 After: 1.2850510134920987\n"
          ],
          "name": "stdout"
        }
      ]
    },
    {
      "cell_type": "markdown",
      "metadata": {
        "id": "5hHMuYyXxXX7"
      },
      "source": [
        "The results without resampling are better than those with resampling, so we keep the the first ones."
      ]
    },
    {
      "cell_type": "markdown",
      "metadata": {
        "id": "OlY3fPVKmT3r"
      },
      "source": [
        "### Scoring **R² or Coefficient of Determination**\n",
        "  \n",
        "* For the hyperparameter C we initially chose a wide range of values ​​from 1 to 10. We noticed that the optimal value is in the range 2 to 5 so we chose the following values ​​for this parameter.\n",
        "*  For the hyperparameter C we initially chose a wide range of values ​​from 0.0001 to 0.1. We noticed that the optimal value is in the range 0.001 to 0.1 so we chose the following values ​​for this parameter.\n",
        "* Regarding the hyperparameter kernel, we have chosen all the possible options."
      ]
    },
    {
      "cell_type": "code",
      "metadata": {
        "colab": {
          "base_uri": "https://localhost:8080/"
        },
        "id": "7JbECcb9quSK",
        "outputId": "e3c764d5-4f8d-4911-ed88-d39304c90757"
      },
      "source": [
        "from sklearn.pipeline import Pipeline\n",
        "\n",
        "param_grid_svmr = {'pca__n_components': [16,15,14,13,12,11,10,9],\n",
        "              'svmr__kernel': ['rbf'],\n",
        "              'svmr__C': [1,5,10],\n",
        "              'svmr__gamma':[0.0001,0.001,0.01,0.1] }\n",
        "              \n",
        "pipe = Pipeline(steps=[ ('pca', pca), ('svmr', svmr)])\n",
        "\n",
        "estimator = GridSearchCV(pipe, param_grid_svmr, cv=10, scoring='r2', n_jobs=-1)\n",
        "\n",
        "estimator.fit(x_train_scaled, y_train)\n",
        "\n",
        "print(estimator.best_params_)"
      ],
      "execution_count": null,
      "outputs": [
        {
          "output_type": "stream",
          "text": [
            "{'pca__n_components': 16, 'svmr__C': 5, 'svmr__gamma': 0.01, 'svmr__kernel': 'rbf'}\n"
          ],
          "name": "stdout"
        }
      ]
    },
    {
      "cell_type": "markdown",
      "metadata": {
        "id": "uPvpSsv6quSL"
      },
      "source": [
        "Without Resampling"
      ]
    },
    {
      "cell_type": "code",
      "metadata": {
        "colab": {
          "base_uri": "https://localhost:8080/"
        },
        "id": "JJQVAEdFXQ64",
        "outputId": "149c2e3c-8880-466a-d5fe-284f7581ec54"
      },
      "source": [
        "from sklearn.pipeline import Pipeline\n",
        "\n",
        "param_grid_svmr = {'pca__n_components': [16,15,14,13,12,11,10,9],\n",
        "              'svmr__kernel': ['rbf'],\n",
        "              'svmr__C': [2,3,4,5],\n",
        "              'svmr__gamma':[0.001,0.01,0.1] }\n",
        "              \n",
        "pipe = Pipeline(steps=[ ('pca', pca), ('svmr', svmr)])\n",
        "\n",
        "estimator = GridSearchCV(pipe, param_grid_svmr, cv=10, scoring='r2', n_jobs=-1)\n",
        "\n",
        "estimator.fit(x_train_scaled, y_train)\n",
        "\n",
        "print(estimator.best_estimator_)\n",
        "\n",
        "print(estimator.best_params_)"
      ],
      "execution_count": null,
      "outputs": [
        {
          "output_type": "stream",
          "text": [
            "Pipeline(memory=None,\n",
            "         steps=[('pca',\n",
            "                 PCA(copy=True, iterated_power='auto', n_components=16,\n",
            "                     random_state=None, svd_solver='auto', tol=0.0,\n",
            "                     whiten=False)),\n",
            "                ('svmr',\n",
            "                 SVR(C=4, cache_size=200, coef0=0.0, degree=3, epsilon=0.1,\n",
            "                     gamma=0.01, kernel='rbf', max_iter=-1, shrinking=True,\n",
            "                     tol=0.001, verbose=False))],\n",
            "         verbose=False)\n",
            "{'pca__n_components': 16, 'svmr__C': 4, 'svmr__gamma': 0.01, 'svmr__kernel': 'rbf'}\n"
          ],
          "name": "stdout"
        }
      ]
    },
    {
      "cell_type": "markdown",
      "metadata": {
        "id": "q_PlHBeymgkz"
      },
      "source": [
        "Without Resampling"
      ]
    },
    {
      "cell_type": "code",
      "metadata": {
        "id": "0DnOj49Qmi0-"
      },
      "source": [
        "start_time = time.time()\n",
        "\n",
        "estimator.fit(x_train_scaled, y_train)\n",
        "\n",
        "times_train_aft['svmr_r2'] = time.time() - start_time\n",
        "\n",
        "start_time = time.time()\n",
        "\n",
        "svmr_preds_r2= estimator.predict(x_test_scaled)\n",
        "\n",
        "times_test_aft['svmr_r2'] = time.time() - start_time"
      ],
      "execution_count": null,
      "outputs": []
    },
    {
      "cell_type": "code",
      "metadata": {
        "colab": {
          "base_uri": "https://localhost:8080/"
        },
        "id": "uQSn_5xPnEmn",
        "outputId": "30f2689d-7be3-4b95-cf3b-9b0cf4c168af"
      },
      "source": [
        "svmr_r2 = r2(y_test, svmr_preds_r2)\n",
        "\n",
        "print('Before:',svmr_r2_score,'After:',svmr_r2)"
      ],
      "execution_count": null,
      "outputs": [
        {
          "output_type": "stream",
          "text": [
            "Before: 0.12029239300144101 After: 0.612541543130656\n"
          ],
          "name": "stdout"
        }
      ]
    },
    {
      "cell_type": "markdown",
      "metadata": {
        "id": "QKcJBFoXmjnp"
      },
      "source": [
        "With Resampling"
      ]
    },
    {
      "cell_type": "code",
      "metadata": {
        "colab": {
          "base_uri": "https://localhost:8080/"
        },
        "id": "apTvF8nNmozT",
        "outputId": "4ec33104-e865-457f-bd2e-301ea522f975"
      },
      "source": [
        "estimator.fit(x_train_resampled, y_train_resampled.values.ravel())\n",
        "\n",
        "svmr_preds_r2_resampled = estimator.predict(x_test_scaled)\n",
        "\n",
        "print(estimator.best_estimator_)\n",
        "\n",
        "print(estimator.best_params_)"
      ],
      "execution_count": null,
      "outputs": [
        {
          "output_type": "stream",
          "text": [
            "Pipeline(memory=None,\n",
            "         steps=[('pca',\n",
            "                 PCA(copy=True, iterated_power='auto', n_components=16,\n",
            "                     random_state=None, svd_solver='auto', tol=0.0,\n",
            "                     whiten=False)),\n",
            "                ('svmr',\n",
            "                 SVR(C=5, cache_size=200, coef0=0.0, degree=3, epsilon=0.1,\n",
            "                     gamma=0.1, kernel='rbf', max_iter=-1, shrinking=True,\n",
            "                     tol=0.001, verbose=False))],\n",
            "         verbose=False)\n",
            "{'pca__n_components': 16, 'svmr__C': 5, 'svmr__gamma': 0.1, 'svmr__kernel': 'rbf'}\n"
          ],
          "name": "stdout"
        }
      ]
    },
    {
      "cell_type": "code",
      "metadata": {
        "colab": {
          "base_uri": "https://localhost:8080/"
        },
        "id": "gcPnOn8FmqFu",
        "outputId": "27905b0d-f8c8-49b5-dbf2-a73c1b86e123"
      },
      "source": [
        "print('Before:', svmr_r2_score ,'After:', r2(y_test, svmr_preds_r2_resampled))"
      ],
      "execution_count": null,
      "outputs": [
        {
          "output_type": "stream",
          "text": [
            "Before: 0.11920673660340797 After: 0.44102677052018724\n"
          ],
          "name": "stdout"
        }
      ]
    },
    {
      "cell_type": "markdown",
      "metadata": {
        "id": "d5mB1mZv2cTA"
      },
      "source": [
        "The results without resampling are better than those with resampling, so we keep the the first ones."
      ]
    },
    {
      "cell_type": "markdown",
      "metadata": {
        "id": "44Nx4Ljum3Xa"
      },
      "source": [
        "### Scoring **Median Absolute Error**\n",
        "\n",
        "* For the hyperparameter C we initially chose a wide range of values ​​from 1 to 10. We noticed that the optimal value is in the range 2 to 5 so we chose the following values ​​for this parameter.\n",
        "*  For the hyperparameter C we initially chose a wide range of values ​​from 0.0001 to 0.1. We noticed that the optimal value is in the range 0.001 to 0.1 so we chose the following values ​​for this parameter.\n",
        "* Regarding the hyperparameter kernel, we have chosen all the possible options."
      ]
    },
    {
      "cell_type": "code",
      "metadata": {
        "colab": {
          "base_uri": "https://localhost:8080/"
        },
        "id": "sX0ZegHOrA_l",
        "outputId": "f1625837-998b-4612-fa2a-354cb4081766"
      },
      "source": [
        "from sklearn.pipeline import Pipeline\n",
        "\n",
        "param_grid_svmr = {'pca__n_components': [16,15,14,13,12,11,10,9],\n",
        "              'svmr__kernel': ['rbf'],\n",
        "              'svmr__C': [1,5,10],\n",
        "              'svmr__gamma':[0.0001,0.001,0.01,0.1]}\n",
        "              \n",
        "pipe = Pipeline(steps = [ ('pca', pca), ('svmr', svmr)])\n",
        "\n",
        "estimator = GridSearchCV(pipe, param_grid_svmr, cv=10, scoring='neg_median_absolute_error', n_jobs=-1)\n",
        "\n",
        "estimator.fit(x_train_scaled, y_train)\n",
        "\n",
        "print(estimator.best_params_)"
      ],
      "execution_count": null,
      "outputs": [
        {
          "output_type": "stream",
          "text": [
            "{'pca__n_components': 13, 'svmr__C': 5, 'svmr__gamma': 0.01, 'svmr__kernel': 'rbf'}\n"
          ],
          "name": "stdout"
        }
      ]
    },
    {
      "cell_type": "code",
      "metadata": {
        "colab": {
          "base_uri": "https://localhost:8080/"
        },
        "id": "Ai7gQVCXm5qi",
        "outputId": "dc6d1c10-471c-4785-bc41-6eec28dfd34e"
      },
      "source": [
        "from sklearn.pipeline import Pipeline\n",
        "\n",
        "param_grid_svmr = {'pca__n_components': [16,15,14,13,12,11,10,9],\n",
        "              'svmr__kernel': ['rbf'],\n",
        "              'svmr__C': [2,3,4,5],\n",
        "              'svmr__gamma':[0.001,0.01,0.1] }\n",
        "              \n",
        "pipe = Pipeline(steps=[ ('pca', pca), ('svmr', svmr)])\n",
        "\n",
        "estimator = GridSearchCV(pipe, param_grid_svmr, cv=10, scoring='neg_median_absolute_error', n_jobs=-1)\n",
        "\n",
        "estimator.fit(x_train_scaled, y_train)\n",
        "\n",
        "print(estimator.best_estimator_)\n",
        "\n",
        "print(estimator.best_params_)"
      ],
      "execution_count": null,
      "outputs": [
        {
          "output_type": "stream",
          "text": [
            "Pipeline(memory=None,\n",
            "         steps=[('pca',\n",
            "                 PCA(copy=True, iterated_power='auto', n_components=13,\n",
            "                     random_state=None, svd_solver='auto', tol=0.0,\n",
            "                     whiten=False)),\n",
            "                ('svmr',\n",
            "                 SVR(C=5, cache_size=200, coef0=0.0, degree=3, epsilon=0.1,\n",
            "                     gamma=0.01, kernel='rbf', max_iter=-1, shrinking=True,\n",
            "                     tol=0.001, verbose=False))],\n",
            "         verbose=False)\n",
            "{'pca__n_components': 13, 'svmr__C': 5, 'svmr__gamma': 0.01, 'svmr__kernel': 'rbf'}\n"
          ],
          "name": "stdout"
        }
      ]
    },
    {
      "cell_type": "markdown",
      "metadata": {
        "id": "P22FYSqum8lr"
      },
      "source": [
        "Without Resampling"
      ]
    },
    {
      "cell_type": "code",
      "metadata": {
        "id": "jFX4ByiFm9Yx"
      },
      "source": [
        "start_time = time.time()\n",
        "\n",
        "estimator.fit(x_train_scaled, y_train)\n",
        "\n",
        "times_train_aft['svmr_mae'] = time.time() - start_time\n",
        "\n",
        "start_time = time.time()\n",
        "\n",
        "svmr_preds_mae= estimator.predict(x_test_scaled)\n",
        "\n",
        "times_test_aft['svmr_mae'] = time.time() - start_time"
      ],
      "execution_count": null,
      "outputs": []
    },
    {
      "cell_type": "code",
      "metadata": {
        "colab": {
          "base_uri": "https://localhost:8080/"
        },
        "id": "nmhqca2SnmKY",
        "outputId": "9bff0872-9e9c-4c5e-90c9-22d59c489c7b"
      },
      "source": [
        "svmr_mae = mae(y_test, svmr_preds_mse)\n",
        "\n",
        "print('Before:',svmr_mae_score,'After:',svmr_mae)"
      ],
      "execution_count": null,
      "outputs": [
        {
          "output_type": "stream",
          "text": [
            "Before: 0.9900865801267624 After: 0.649420120953291\n"
          ],
          "name": "stdout"
        }
      ]
    },
    {
      "cell_type": "markdown",
      "metadata": {
        "id": "R1k3OCdMn2Gn"
      },
      "source": [
        "With Resampling"
      ]
    },
    {
      "cell_type": "code",
      "metadata": {
        "colab": {
          "base_uri": "https://localhost:8080/"
        },
        "id": "xtMAOCxpnctJ",
        "outputId": "99e110f5-3523-4a8a-fa40-d3dc2d50bb50"
      },
      "source": [
        "estimator.fit(x_train_resampled, y_train_resampled.values.ravel())\n",
        "\n",
        "svmr_preds_mae_resampled= estimator.predict(x_test_scaled)\n",
        "\n",
        "print(estimator.best_estimator_)\n",
        "\n",
        "print(estimator.best_params_)"
      ],
      "execution_count": null,
      "outputs": [
        {
          "output_type": "stream",
          "text": [
            "Pipeline(memory=None,\n",
            "         steps=[('pca',\n",
            "                 PCA(copy=True, iterated_power='auto', n_components=16,\n",
            "                     random_state=None, svd_solver='auto', tol=0.0,\n",
            "                     whiten=False)),\n",
            "                ('svmr',\n",
            "                 SVR(C=5, cache_size=200, coef0=0.0, degree=3, epsilon=0.1,\n",
            "                     gamma=0.1, kernel='rbf', max_iter=-1, shrinking=True,\n",
            "                     tol=0.001, verbose=False))],\n",
            "         verbose=False)\n",
            "{'pca__n_components': 16, 'svmr__C': 5, 'svmr__gamma': 0.1, 'svmr__kernel': 'rbf'}\n"
          ],
          "name": "stdout"
        }
      ]
    },
    {
      "cell_type": "code",
      "metadata": {
        "colab": {
          "base_uri": "https://localhost:8080/"
        },
        "id": "Fqc6sfminhCf",
        "outputId": "96c61bc4-06be-441f-8dfa-46fbac388caf"
      },
      "source": [
        "print('Before:',svmr_mae_score,'After:',mae(y_test, svmr_preds_mae_resampled))"
      ],
      "execution_count": null,
      "outputs": [
        {
          "output_type": "stream",
          "text": [
            "Before: 0.9900865801267624 After: 0.7440306614077556\n"
          ],
          "name": "stdout"
        }
      ]
    },
    {
      "cell_type": "markdown",
      "metadata": {
        "id": "eOMRWDFP2dxK"
      },
      "source": [
        "The results without resampling are better than those with resampling, so we keep the the first ones."
      ]
    },
    {
      "cell_type": "markdown",
      "metadata": {
        "id": "of8mZtZH5gFX"
      },
      "source": [
        "## **Decision Tree Regressor**\n",
        "Selection of hyperparameters: \n",
        "* **splitter** :The strategy used to choose the split at each node. Supported strategies are “best” to choose the best split and “random” to choose the best random split.\n",
        "* **criterion**: The function to measure the quality of a split. \n",
        "* **min samples spit**: The minimum number of samples required to split an internal node.\n",
        "* **max depth**: The maximum depth of the tree.\n",
        "* **min samples leaf**: The minimum number of samples required to be at a leaf node.\n",
        "* **max leaf nodes**: Best nodes are defined as relative reduction in impurity."
      ]
    },
    {
      "cell_type": "markdown",
      "metadata": {
        "id": "loCMEftc5peg"
      },
      "source": [
        "### Scoring **Mean Squared Error**\n",
        "\n",
        "* Regarding the hyperparameter splitter, we have chosen all the possible options.\n",
        "* Regarding the hyperparameter criterion, we have chosen mse.\n",
        "* For the hyperparameter min_samples_split we initially chose a wide range of values ​​from 1 to 10. We noticed that the optimal value is in the range 2 to 8 so we chose the following values ​​for this parameter.\n",
        "* For the hyperparameter max_depth we initially chose a wide range of values ​​from 1 to 20. We noticed that the optimal value is in the range 5 to 9 so we chose the following values ​​for this parameter.\n",
        "* For the hyperparameter min_samples_leaf we initially chose a wide range of values ​​from 80 to 120. We noticed that the optimal value is in the range 95 to 98 so we chose the following values ​​for this parameter.\n",
        "* For the hyperparameter max_leaf_nodes we initially chose a wide range of values ​​from 10 to 30. We noticed that the optimal value is in the range 14 to 18 so we chose the following values ​​for this parameter."
      ]
    },
    {
      "cell_type": "code",
      "metadata": {
        "colab": {
          "base_uri": "https://localhost:8080/"
        },
        "id": "a6KjtiGRrQiu",
        "outputId": "9d887d3a-24c2-4e16-8956-023c819a95c4"
      },
      "source": [
        "from sklearn.pipeline import Pipeline\n",
        "\n",
        "\n",
        "param_grid_dtr = {'pca__n_components': [16,15,14,13,12,11,10,9],\n",
        "              'dtr__splitter':['best','random'],\n",
        "              'dtr__criterion' : ['mse'],\n",
        "              'dtr__min_samples_split' : [1,3,5,8,10],\n",
        "              'dtr__max_depth':[1,5,10,15,20],\n",
        "              'dtr__min_samples_leaf': [80,85,90,95,100,105,110,115,120],\n",
        "               'dtr__max_leaf_nodes': [10,15,20,25,30]}\n",
        "\n",
        "\n",
        "pipe = Pipeline(steps=[ ('pca', pca), ('dtr', dtr)])\n",
        "\n",
        "estimator = GridSearchCV(pipe, param_grid_dtr, cv=10, scoring='neg_mean_squared_error', n_jobs=-1)\n",
        "\n",
        "estimator.fit(x_train_scaled, y_train)\n",
        "\n",
        "print(estimator.best_params_)"
      ],
      "execution_count": null,
      "outputs": [
        {
          "output_type": "stream",
          "text": [
            "{'dtr__criterion': 'mse', 'dtr__max_depth': 5, 'dtr__max_leaf_nodes': 15, 'dtr__min_samples_leaf': 120, 'dtr__min_samples_split': 3, 'dtr__splitter': 'best', 'pca__n_components': 10}\n"
          ],
          "name": "stdout"
        }
      ]
    },
    {
      "cell_type": "code",
      "metadata": {
        "colab": {
          "base_uri": "https://localhost:8080/"
        },
        "id": "NpIGNmQX5wYC",
        "outputId": "6da6f4f8-36bc-4d62-f3e4-fc58014eac38"
      },
      "source": [
        "from sklearn.pipeline import Pipeline\n",
        "\n",
        "param_grid_dtr = {'pca__n_components': [16,15,14,13,12,11,10,9],\n",
        "              'dtr__splitter':['best','random'],\n",
        "              'dtr__criterion' : ['mse'],\n",
        "              'dtr__min_samples_split' : [2,3,4,5,6,7,8],\n",
        "              'dtr__max_depth':[5, 6, 7,8,9],\n",
        "              'dtr__min_samples_leaf': [ 95,96,97,98],\n",
        "               'dtr__max_leaf_nodes': [14,15,16,17,18]\n",
        "               }\n",
        "\n",
        "\n",
        "pipe = Pipeline(steps=[ ('pca', pca), ('dtr', dtr)])\n",
        "\n",
        "estimator = GridSearchCV(pipe, param_grid_dtr, cv=10, scoring='neg_mean_squared_error', n_jobs=-1)\n",
        "\n",
        "estimator.fit(x_train_scaled, y_train)\n",
        "\n",
        "print(estimator.best_estimator_)\n",
        "\n",
        "print(estimator.best_params_)"
      ],
      "execution_count": null,
      "outputs": [
        {
          "output_type": "stream",
          "text": [
            "Pipeline(memory=None,\n",
            "         steps=[('pca',\n",
            "                 PCA(copy=True, iterated_power='auto', n_components=13,\n",
            "                     random_state=None, svd_solver='auto', tol=0.0,\n",
            "                     whiten=False)),\n",
            "                ('dtr',\n",
            "                 DecisionTreeRegressor(ccp_alpha=0.0, criterion='mse',\n",
            "                                       max_depth=5, max_features=None,\n",
            "                                       max_leaf_nodes=16,\n",
            "                                       min_impurity_decrease=0.0,\n",
            "                                       min_impurity_split=None,\n",
            "                                       min_samples_leaf=97, min_samples_split=2,\n",
            "                                       min_weight_fraction_leaf=0.0,\n",
            "                                       presort='deprecated', random_state=None,\n",
            "                                       splitter='best'))],\n",
            "         verbose=False)\n",
            "{'dtr__criterion': 'mse', 'dtr__max_depth': 5, 'dtr__max_leaf_nodes': 16, 'dtr__min_samples_leaf': 97, 'dtr__min_samples_split': 2, 'dtr__splitter': 'best', 'pca__n_components': 13}\n"
          ],
          "name": "stdout"
        }
      ]
    },
    {
      "cell_type": "markdown",
      "metadata": {
        "id": "KfaI_Jai5xnC"
      },
      "source": [
        "Without Resampling"
      ]
    },
    {
      "cell_type": "code",
      "metadata": {
        "id": "O0f8g3XU5xN8"
      },
      "source": [
        "start_time = time.time()\n",
        "\n",
        "estimator.fit(x_train_scaled, y_train)\n",
        "\n",
        "times_train_aft['dtr_mse'] = time.time() - start_time\n",
        "\n",
        "start_time = time.time()\n",
        "\n",
        "dtr_preds_mse= estimator.predict(x_test_scaled)\n",
        "\n",
        "times_test_aft['dtr_mse'] = time.time() - start_time"
      ],
      "execution_count": null,
      "outputs": []
    },
    {
      "cell_type": "code",
      "metadata": {
        "colab": {
          "base_uri": "https://localhost:8080/"
        },
        "id": "DDD15On753Q7",
        "outputId": "5efa5196-c911-4dd8-b9c7-60b15d9f3884"
      },
      "source": [
        "dtr_mse = mse(y_test, dtr_preds_mse)\n",
        "\n",
        "print('Before:',dtr_mse_score,'After:',dtr_mse)"
      ],
      "execution_count": null,
      "outputs": [
        {
          "output_type": "stream",
          "text": [
            "Before: 1.7056199821587867 After: 1.0883640214847774\n"
          ],
          "name": "stdout"
        }
      ]
    },
    {
      "cell_type": "markdown",
      "metadata": {
        "id": "6O-D9afq55ym"
      },
      "source": [
        "With Resampling"
      ]
    },
    {
      "cell_type": "code",
      "metadata": {
        "colab": {
          "base_uri": "https://localhost:8080/"
        },
        "id": "fEpnTkYr57OC",
        "outputId": "2720558c-54be-48c7-b687-5e3a1d130959"
      },
      "source": [
        "estimator.fit(x_train_resampled, y_train_resampled)\n",
        "\n",
        "dtr_preds_mse_resampled= estimator.predict(x_test_scaled)\n",
        "\n",
        "print(estimator.best_estimator_)\n",
        "\n",
        "print(estimator.best_params_)"
      ],
      "execution_count": null,
      "outputs": [
        {
          "output_type": "stream",
          "text": [
            "Pipeline(memory=None,\n",
            "         steps=[('pca',\n",
            "                 PCA(copy=True, iterated_power='auto', n_components=14,\n",
            "                     random_state=None, svd_solver='auto', tol=0.0,\n",
            "                     whiten=False)),\n",
            "                ('dtr',\n",
            "                 DecisionTreeRegressor(ccp_alpha=0.0, criterion='mse',\n",
            "                                       max_depth=5, max_features=None,\n",
            "                                       max_leaf_nodes=18,\n",
            "                                       min_impurity_decrease=0.0,\n",
            "                                       min_impurity_split=None,\n",
            "                                       min_samples_leaf=98, min_samples_split=2,\n",
            "                                       min_weight_fraction_leaf=0.0,\n",
            "                                       presort='deprecated', random_state=None,\n",
            "                                       splitter='best'))],\n",
            "         verbose=False)\n",
            "{'dtr__criterion': 'mse', 'dtr__max_depth': 5, 'dtr__max_leaf_nodes': 18, 'dtr__min_samples_leaf': 98, 'dtr__min_samples_split': 2, 'dtr__splitter': 'best', 'pca__n_components': 14}\n"
          ],
          "name": "stdout"
        }
      ]
    },
    {
      "cell_type": "code",
      "metadata": {
        "colab": {
          "base_uri": "https://localhost:8080/"
        },
        "id": "4e-K8p6b58bn",
        "outputId": "9477f671-31b1-4efe-c40a-3813ec4e39dd"
      },
      "source": [
        "print('Before:',dtr_mse_score,'After:',mse(y_test, dtr_preds_mse_resampled))"
      ],
      "execution_count": null,
      "outputs": [
        {
          "output_type": "stream",
          "text": [
            "Before: 1.7056199821587867 After: 1.287078604025575\n"
          ],
          "name": "stdout"
        }
      ]
    },
    {
      "cell_type": "markdown",
      "metadata": {
        "id": "OBkGyTWPd7-K"
      },
      "source": [
        "The results without resampling are better than those with resampling, so we keep the the first ones."
      ]
    },
    {
      "cell_type": "markdown",
      "metadata": {
        "id": "mMYnVIL8NWJr"
      },
      "source": [
        "### Scoring **R² or Coefficient of Determination**\n",
        "  \n",
        "* Regarding the hyperparameter splitter, we have chosen all the possible options.\n",
        "* Regarding the hyperparameter criterion, we have chosen mse.\n",
        "* For the hyperparameter min_samples_split we initially chose a wide range of values ​​from 1 to 10. We noticed that the optimal value is in the range 1 to 3 so we chose the following values ​​for this parameter.\n",
        "* For the hyperparameter max_depth we initially chose a wide range of values ​​from 1 to 20. We noticed that the optimal value is in the range 5 to 9 so we chose the following values ​​for this parameter.\n",
        "* For the hyperparameter min_samples_leaf we initially chose a wide range of values ​​from 80 to 120. We noticed that the optimal value is in the range 95 to 98 so we chose the following values ​​for this parameter.\n",
        "* For the hyperparameter max_leaf_nodes we initially chose a wide range of values ​​from 10 to 30. We noticed that the optimal value is in the range 14 to 18 so we chose the following values ​​for this parameter."
      ]
    },
    {
      "cell_type": "code",
      "metadata": {
        "colab": {
          "base_uri": "https://localhost:8080/"
        },
        "id": "ap-30TPWrsiw",
        "outputId": "8c3bad19-0826-4af0-c42b-227e061033ae"
      },
      "source": [
        "from sklearn.pipeline import Pipeline\n",
        "\n",
        "param_grid_dtr = {'pca__n_components': [16,15,14,13,12,11,10,9],\n",
        "              'dtr__splitter':['best','random'],\n",
        "              'dtr__criterion' : ['mse'],\n",
        "              'dtr__min_samples_split' : [1,3,5,8,10],\n",
        "              'dtr__max_depth':[1,5,10,15,20],\n",
        "              'dtr__min_samples_leaf': [80,85,90,95,100,105,110,115,120],\n",
        "               'dtr__max_leaf_nodes': [10,15,20,25,30]}\n",
        "\n",
        "\n",
        "pipe = Pipeline(steps=[ ('pca', pca), ('dtr', dtr)])\n",
        "\n",
        "estimator = GridSearchCV(pipe, param_grid_dtr, cv=10, scoring='r2', n_jobs=-1)\n",
        "\n",
        "estimator.fit(x_train_scaled, y_train)\n",
        "\n",
        "print(estimator.best_params_)"
      ],
      "execution_count": null,
      "outputs": [
        {
          "output_type": "stream",
          "text": [
            "{'dtr__criterion': 'mse', 'dtr__max_depth': 5, 'dtr__max_leaf_nodes': 20, 'dtr__min_samples_leaf': 85, 'dtr__min_samples_split': 3, 'dtr__splitter': 'best', 'pca__n_components': 12}\n"
          ],
          "name": "stdout"
        }
      ]
    },
    {
      "cell_type": "code",
      "metadata": {
        "colab": {
          "base_uri": "https://localhost:8080/"
        },
        "id": "nkFDHUNJNafu",
        "outputId": "3f6bf4a7-da68-4ead-a11f-2d0a0026f6a4"
      },
      "source": [
        "from sklearn.pipeline import Pipeline\n",
        "\n",
        "param_grid_dtr = {'pca__n_components': [16,15,14,13,12,11,10,9],\n",
        "              'dtr__splitter':['best','random'],\n",
        "              'dtr__criterion' : ['mse'],\n",
        "              'dtr__min_samples_split' : [1,2,3],\n",
        "              'dtr__max_depth':[5, 6, 7,8,9],\n",
        "              'dtr__min_samples_leaf': [ 95,96,97,98],\n",
        "               'dtr__max_leaf_nodes': [14,15,16,17,18]}\n",
        "\n",
        "\n",
        "pipe = Pipeline(steps=[ ('pca', pca), ('dtr', dtr)])\n",
        "\n",
        "estimator = GridSearchCV(pipe, param_grid_dtr, cv=10, scoring='r2', n_jobs=-1)\n",
        "\n",
        "estimator.fit(x_train_scaled, y_train)\n",
        "\n",
        "print(estimator.best_estimator_)\n",
        "\n",
        "print(estimator.best_params_)"
      ],
      "execution_count": null,
      "outputs": [
        {
          "output_type": "stream",
          "text": [
            "Pipeline(memory=None,\n",
            "         steps=[('pca',\n",
            "                 PCA(copy=True, iterated_power='auto', n_components=13,\n",
            "                     random_state=None, svd_solver='auto', tol=0.0,\n",
            "                     whiten=False)),\n",
            "                ('dtr',\n",
            "                 DecisionTreeRegressor(ccp_alpha=0.0, criterion='mse',\n",
            "                                       max_depth=5, max_features=None,\n",
            "                                       max_leaf_nodes=16,\n",
            "                                       min_impurity_decrease=0.0,\n",
            "                                       min_impurity_split=None,\n",
            "                                       min_samples_leaf=97, min_samples_split=2,\n",
            "                                       min_weight_fraction_leaf=0.0,\n",
            "                                       presort='deprecated', random_state=None,\n",
            "                                       splitter='best'))],\n",
            "         verbose=False)\n",
            "{'dtr__criterion': 'mse', 'dtr__max_depth': 5, 'dtr__max_leaf_nodes': 16, 'dtr__min_samples_leaf': 97, 'dtr__min_samples_split': 2, 'dtr__splitter': 'best', 'pca__n_components': 13}\n"
          ],
          "name": "stdout"
        }
      ]
    },
    {
      "cell_type": "markdown",
      "metadata": {
        "id": "hGH16g62Ngzz"
      },
      "source": [
        "Without Resampling"
      ]
    },
    {
      "cell_type": "code",
      "metadata": {
        "id": "uh4OtZN6Ne_6"
      },
      "source": [
        "start_time = time.time()\n",
        "\n",
        "estimator.fit(x_train_scaled, y_train)\n",
        "\n",
        "times_train_aft['dtr_r2'] = time.time() - start_time\n",
        "\n",
        "start_time = time.time()\n",
        "\n",
        "dtr_preds_r2= estimator.predict(x_test_scaled)\n",
        "\n",
        "times_test_aft['dtr_r2'] = time.time() - start_time"
      ],
      "execution_count": null,
      "outputs": []
    },
    {
      "cell_type": "code",
      "metadata": {
        "colab": {
          "base_uri": "https://localhost:8080/"
        },
        "id": "OSLgr8vsNljj",
        "outputId": "bd463440-a131-4976-d606-eb7f1938e07a"
      },
      "source": [
        "dtr_r2 = r2(y_test, dtr_preds_r2)\n",
        "\n",
        "print('Before:',dtr_r2_score,'After:',dtr_r2)"
      ],
      "execution_count": null,
      "outputs": [
        {
          "output_type": "stream",
          "text": [
            "Before: 0.2852643920709723 After: 0.5439238935513451\n"
          ],
          "name": "stdout"
        }
      ]
    },
    {
      "cell_type": "markdown",
      "metadata": {
        "id": "lF28p__EORtJ"
      },
      "source": [
        "With Resampling"
      ]
    },
    {
      "cell_type": "code",
      "metadata": {
        "colab": {
          "base_uri": "https://localhost:8080/"
        },
        "id": "NPo1BXYjOT7M",
        "outputId": "5d0f3e7b-d539-452b-82af-90efdead405a"
      },
      "source": [
        "estimator.fit(x_train_resampled, y_train_resampled)\n",
        "\n",
        "dtr_preds_r2_resampled= estimator.predict(x_test_scaled)\n",
        "\n",
        "print(estimator.best_estimator_)\n",
        "\n",
        "print(estimator.best_params_)"
      ],
      "execution_count": null,
      "outputs": [
        {
          "output_type": "stream",
          "text": [
            "Pipeline(memory=None,\n",
            "         steps=[('pca',\n",
            "                 PCA(copy=True, iterated_power='auto', n_components=11,\n",
            "                     random_state=None, svd_solver='auto', tol=0.0,\n",
            "                     whiten=False)),\n",
            "                ('dtr',\n",
            "                 DecisionTreeRegressor(ccp_alpha=0.0, criterion='mse',\n",
            "                                       max_depth=5, max_features=None,\n",
            "                                       max_leaf_nodes=17,\n",
            "                                       min_impurity_decrease=0.0,\n",
            "                                       min_impurity_split=None,\n",
            "                                       min_samples_leaf=96, min_samples_split=2,\n",
            "                                       min_weight_fraction_leaf=0.0,\n",
            "                                       presort='deprecated', random_state=None,\n",
            "                                       splitter='best'))],\n",
            "         verbose=False)\n",
            "{'dtr__criterion': 'mse', 'dtr__max_depth': 5, 'dtr__max_leaf_nodes': 17, 'dtr__min_samples_leaf': 96, 'dtr__min_samples_split': 2, 'dtr__splitter': 'best', 'pca__n_components': 11}\n"
          ],
          "name": "stdout"
        }
      ]
    },
    {
      "cell_type": "code",
      "metadata": {
        "colab": {
          "base_uri": "https://localhost:8080/"
        },
        "id": "81P8QireOTne",
        "outputId": "d678d6e7-807e-40da-9479-9e1464858755"
      },
      "source": [
        "print('Before:',dtr_r2_score,'After:',r2(y_test, dtr_preds_r2_resampled))"
      ],
      "execution_count": null,
      "outputs": [
        {
          "output_type": "stream",
          "text": [
            "Before: 0.2688224921656187 After: 0.4649764626734777\n"
          ],
          "name": "stdout"
        }
      ]
    },
    {
      "cell_type": "markdown",
      "metadata": {
        "id": "hqgwFbLlNpbq"
      },
      "source": [
        "### Scoring **Median Absolute Error**\n",
        "\n",
        "* Regarding the hyperparameter splitter, we have chosen all the possible options.\n",
        "* Regarding the hyperparameter criterion, we have chosen mse.\n",
        "* For the hyperparameter min_samples_split we initially chose a wide range of values ​​from 1 to 10. We noticed that the optimal value is in the range 1 to 3 so we chose the following values ​​for this parameter.\n",
        "* For the hyperparameter max_depth we initially chose a wide range of values ​​from 1 to 20. We noticed that the optimal value is in the range 5 to 9 so we chose the following values ​​for this parameter.\n",
        "* For the hyperparameter min_samples_leaf we initially chose a wide range of values ​​from 80 to 120. We noticed that the optimal value is in the range 95 to 98 so we chose the following values ​​for this parameter.\n",
        "* For the hyperparameter max_leaf_nodes we initially chose a wide range of values ​​from 10 to 30. We noticed that the optimal value is in the range 14 to 18 so we chose the following values ​​for this parameter."
      ]
    },
    {
      "cell_type": "code",
      "metadata": {
        "colab": {
          "base_uri": "https://localhost:8080/"
        },
        "id": "CcX9sbMRr2H7",
        "outputId": "8339bc07-1cf1-4829-c7df-e6ea56918d21"
      },
      "source": [
        "from sklearn.pipeline import Pipeline\n",
        "\n",
        "param_grid_dtr = {'pca__n_components': [16,15,14,13,12,11,10,9],\n",
        "              'dtr__splitter':['best','random'],\n",
        "              'dtr__criterion' : ['mse'],\n",
        "              'dtr__min_samples_split' : [1,3,5,8,10],\n",
        "              'dtr__max_depth':[1,5,10,15,20],\n",
        "              'dtr__min_samples_leaf': [80,85,90,95,100,105,110,115,120],\n",
        "               'dtr__max_leaf_nodes': [10,15,20,25,30]}\n",
        "\n",
        "pipe = Pipeline(steps=[ ('pca', pca), ('dtr', dtr)])\n",
        "\n",
        "estimator = GridSearchCV(pipe, param_grid_dtr, cv=10, scoring='neg_median_absolute_error', n_jobs=-1)\n",
        "\n",
        "estimator.fit(x_train_scaled, y_train)\n",
        "\n",
        "print(estimator.best_params_)"
      ],
      "execution_count": null,
      "outputs": [
        {
          "output_type": "stream",
          "text": [
            "{'dtr__criterion': 'mse', 'dtr__max_depth': 5, 'dtr__max_leaf_nodes': 10, 'dtr__min_samples_leaf': 80, 'dtr__min_samples_split': 3, 'dtr__splitter': 'best', 'pca__n_components': 9}\n"
          ],
          "name": "stdout"
        }
      ]
    },
    {
      "cell_type": "code",
      "metadata": {
        "colab": {
          "base_uri": "https://localhost:8080/"
        },
        "id": "b7tLa38vNvET",
        "outputId": "e35166a5-0ed8-4af3-a8ae-b139279b3107"
      },
      "source": [
        "from sklearn.pipeline import Pipeline\n",
        "\n",
        "param_grid_dtr = {'pca__n_components': [16,15,14,13,12,11,10,9],\n",
        "              'dtr__splitter':['best','random'],\n",
        "              'dtr__criterion' : ['mse'],\n",
        "              'dtr__min_samples_split' : [1,2,3],\n",
        "              'dtr__max_depth':[5, 6, 7,8,9],\n",
        "              'dtr__min_samples_leaf': [ 95,96,97,98],\n",
        "               'dtr__max_leaf_nodes': [14,15,16,17,18]}\n",
        "\n",
        "\n",
        "pipe = Pipeline(steps=[ ('pca', pca), ('dtr', dtr)])\n",
        "\n",
        "estimator = GridSearchCV(pipe, param_grid_dtr, cv=10, scoring='neg_median_absolute_error', n_jobs=-1)\n",
        "\n",
        "estimator.fit(x_train_scaled, y_train)\n",
        "\n",
        "print(estimator.best_estimator_)\n",
        "\n",
        "print(estimator.best_params_)"
      ],
      "execution_count": null,
      "outputs": [
        {
          "output_type": "stream",
          "text": [
            "Pipeline(memory=None,\n",
            "         steps=[('pca',\n",
            "                 PCA(copy=True, iterated_power='auto', n_components=9,\n",
            "                     random_state=None, svd_solver='auto', tol=0.0,\n",
            "                     whiten=False)),\n",
            "                ('dtr',\n",
            "                 DecisionTreeRegressor(ccp_alpha=0.0, criterion='mse',\n",
            "                                       max_depth=5, max_features=None,\n",
            "                                       max_leaf_nodes=14,\n",
            "                                       min_impurity_decrease=0.0,\n",
            "                                       min_impurity_split=None,\n",
            "                                       min_samples_leaf=96, min_samples_split=2,\n",
            "                                       min_weight_fraction_leaf=0.0,\n",
            "                                       presort='deprecated', random_state=None,\n",
            "                                       splitter='best'))],\n",
            "         verbose=False)\n",
            "{'dtr__criterion': 'mse', 'dtr__max_depth': 5, 'dtr__max_leaf_nodes': 14, 'dtr__min_samples_leaf': 96, 'dtr__min_samples_split': 2, 'dtr__splitter': 'best', 'pca__n_components': 9}\n"
          ],
          "name": "stdout"
        }
      ]
    },
    {
      "cell_type": "markdown",
      "metadata": {
        "id": "yst8u6GjN0dT"
      },
      "source": [
        "Without Resampling"
      ]
    },
    {
      "cell_type": "code",
      "metadata": {
        "id": "Pv4U3iHWNyL7"
      },
      "source": [
        "start_time = time.time()\n",
        "\n",
        "estimator.fit(x_train_scaled, y_train)\n",
        "\n",
        "times_train_aft['dtr_mae'] = time.time() - start_time\n",
        "\n",
        "start_time = time.time()\n",
        "\n",
        "dtr_preds_mae= estimator.predict(x_test_scaled)\n",
        "\n",
        "times_test_aft['dtr_mae'] = time.time() - start_time"
      ],
      "execution_count": null,
      "outputs": []
    },
    {
      "cell_type": "code",
      "metadata": {
        "colab": {
          "base_uri": "https://localhost:8080/"
        },
        "id": "49nXAG9ZN2LX",
        "outputId": "0a3bbb50-28a0-46f6-e9e8-a747e9f1c0cd"
      },
      "source": [
        "dtr_mae = mae(y_test, dtr_preds_mae)\n",
        "\n",
        "print('Before:',dtr_mae_score,'After:',dtr_mae)"
      ],
      "execution_count": null,
      "outputs": [
        {
          "output_type": "stream",
          "text": [
            "Before: 1.0 After: 0.5773195876288657\n"
          ],
          "name": "stdout"
        }
      ]
    },
    {
      "cell_type": "markdown",
      "metadata": {
        "id": "ay-OL6xnN-az"
      },
      "source": [
        "With Resampling"
      ]
    },
    {
      "cell_type": "code",
      "metadata": {
        "colab": {
          "base_uri": "https://localhost:8080/"
        },
        "id": "8JOhNTF2N-vi",
        "outputId": "2eddaf56-300a-4ce7-f7f2-1f47b38c5d89"
      },
      "source": [
        "estimator.fit(x_train_resampled, y_train_resampled)\n",
        "\n",
        "dtr_preds_mae_resampled= estimator.predict(x_test_scaled)\n",
        "\n",
        "print(estimator.best_estimator_)\n",
        "\n",
        "print(estimator.best_params_)"
      ],
      "execution_count": null,
      "outputs": [
        {
          "output_type": "stream",
          "text": [
            "Pipeline(memory=None,\n",
            "         steps=[('pca',\n",
            "                 PCA(copy=True, iterated_power='auto', n_components=14,\n",
            "                     random_state=None, svd_solver='auto', tol=0.0,\n",
            "                     whiten=False)),\n",
            "                ('dtr',\n",
            "                 DecisionTreeRegressor(ccp_alpha=0.0, criterion='mse',\n",
            "                                       max_depth=7, max_features=None,\n",
            "                                       max_leaf_nodes=16,\n",
            "                                       min_impurity_decrease=0.0,\n",
            "                                       min_impurity_split=None,\n",
            "                                       min_samples_leaf=97, min_samples_split=3,\n",
            "                                       min_weight_fraction_leaf=0.0,\n",
            "                                       presort='deprecated', random_state=None,\n",
            "                                       splitter='random'))],\n",
            "         verbose=False)\n",
            "{'dtr__criterion': 'mse', 'dtr__max_depth': 7, 'dtr__max_leaf_nodes': 16, 'dtr__min_samples_leaf': 97, 'dtr__min_samples_split': 3, 'dtr__splitter': 'random', 'pca__n_components': 14}\n"
          ],
          "name": "stdout"
        }
      ]
    },
    {
      "cell_type": "code",
      "metadata": {
        "colab": {
          "background_save": true
        },
        "id": "2daVygO8OE22",
        "outputId": "6b9a8918-72df-4627-9275-fad15324b850"
      },
      "source": [
        "print('Before:',dtr_mae_score,'After:',mae(y_test, dtr_preds_mae_resampled))"
      ],
      "execution_count": null,
      "outputs": [
        {
          "output_type": "stream",
          "text": [
            "Before: 1.0 After: 0.7881773399014778\n"
          ],
          "name": "stdout"
        }
      ]
    },
    {
      "cell_type": "markdown",
      "metadata": {
        "id": "PSpGZR11xcvC"
      },
      "source": [
        "## **Extra Tree Regressor**\n",
        "Selection of hyperparameters: \n",
        "* **n_estimators**: The number of trees in the forest.\n",
        "* **max_depth**: The maximum depth of the tree. "
      ]
    },
    {
      "cell_type": "markdown",
      "metadata": {
        "id": "sqNs5jTlxs-e"
      },
      "source": [
        "### Scoring **Mean Squared Error**\n",
        "\n",
        "* For the hyperparameter n_estimators we initially chose a wide range of values ​​from 10 to 50. We noticed that the optimal value is in the range 32 to 36 so we chose the following values ​​for this parameter.\n",
        "* For the hyperparameter max_depth we initially chose a wide range of values ​​from 10 to 70. We noticed that the optimal value is in the range 14 to 18 so we chose the following values ​​for this parameter.\n"
      ]
    },
    {
      "cell_type": "code",
      "metadata": {
        "colab": {
          "base_uri": "https://localhost:8080/"
        },
        "id": "YOxzh8NquH4-",
        "outputId": "11097faa-94e2-4bb6-9253-747da0591d84"
      },
      "source": [
        "from sklearn.pipeline import Pipeline\n",
        "\n",
        "param_grid_etr = {'pca__n_components': [16,15,14,13,12,11,10,9],\n",
        "              'etr__n_estimators': [10,20,30,40,50],\n",
        "              'etr__max_depth': [10,20,30,40,50,60,70]}\n",
        "              \n",
        "pipe = Pipeline(steps=[ ('pca', pca), ('etr', etr)])\n",
        "\n",
        "estimator = GridSearchCV(pipe, param_grid_etr, cv=10, scoring='neg_mean_squared_error', n_jobs=-1)\n",
        "\n",
        "estimator.fit(x_train_scaled, y_train)\n",
        "\n",
        "print(estimator.best_params_)"
      ],
      "execution_count": null,
      "outputs": [
        {
          "output_type": "stream",
          "text": [
            "{'etr__max_depth': 40, 'etr__n_estimators': 50, 'pca__n_components': 13}\n"
          ],
          "name": "stdout"
        }
      ]
    },
    {
      "cell_type": "code",
      "metadata": {
        "colab": {
          "base_uri": "https://localhost:8080/"
        },
        "id": "CX1LR9qhxZKX",
        "outputId": "624ec99a-2ec8-4b20-92c8-d5aab6f36a02"
      },
      "source": [
        "from sklearn.pipeline import Pipeline\n",
        "\n",
        "param_grid_etr = {'pca__n_components': [16,15,14,13,12,11,10,9],\n",
        "              'etr__n_estimators': [50,51,52,53,54,55,56,57,58,59,60],\n",
        "              'etr__max_depth': [14,15,16,17,18]}\n",
        "              \n",
        "pipe = Pipeline(steps=[ ('pca', pca), ('etr', etr)])\n",
        "\n",
        "estimator = GridSearchCV(pipe, param_grid_etr, cv=10, scoring='neg_mean_squared_error', n_jobs=-1)\n",
        "\n",
        "estimator.fit(x_train_scaled, y_train)\n",
        "\n",
        "print(estimator.best_estimator_)\n",
        "\n",
        "print(estimator.best_params_)"
      ],
      "execution_count": null,
      "outputs": [
        {
          "output_type": "stream",
          "text": [
            "Pipeline(memory=None,\n",
            "         steps=[('pca',\n",
            "                 PCA(copy=True, iterated_power='auto', n_components=13,\n",
            "                     random_state=None, svd_solver='auto', tol=0.0,\n",
            "                     whiten=False)),\n",
            "                ('etr',\n",
            "                 ExtraTreesRegressor(bootstrap=False, ccp_alpha=0.0,\n",
            "                                     criterion='mse', max_depth=16,\n",
            "                                     max_features='auto', max_leaf_nodes=None,\n",
            "                                     max_samples=None,\n",
            "                                     min_impurity_decrease=0.0,\n",
            "                                     min_impurity_split=None,\n",
            "                                     min_samples_leaf=1, min_samples_split=2,\n",
            "                                     min_weight_fraction_leaf=0.0,\n",
            "                                     n_estimators=51, n_jobs=None,\n",
            "                                     oob_score=False, random_state=None,\n",
            "                                     verbose=0, warm_start=False))],\n",
            "         verbose=False)\n",
            "{'etr__max_depth': 16, 'etr__n_estimators': 51, 'pca__n_components': 13}\n"
          ],
          "name": "stdout"
        }
      ]
    },
    {
      "cell_type": "markdown",
      "metadata": {
        "id": "HOo5RYJg1O4A"
      },
      "source": [
        "Without Resampling"
      ]
    },
    {
      "cell_type": "code",
      "metadata": {
        "id": "gqhlfVJdz-s6"
      },
      "source": [
        "estimator.fit(x_train_scaled, y_train)\n",
        "\n",
        "etr_preds_mse= estimator.predict(x_test_scaled)"
      ],
      "execution_count": null,
      "outputs": []
    },
    {
      "cell_type": "code",
      "metadata": {
        "colab": {
          "base_uri": "https://localhost:8080/"
        },
        "id": "UBrc4PFr0MTF",
        "outputId": "4fffe311-55e9-4142-f465-377bd18f4169"
      },
      "source": [
        "etr_mse = mse(y_test, etr_preds_mse)\n",
        "\n",
        "print('Before:',etr_mse_score,'After:',etr_mse)"
      ],
      "execution_count": null,
      "outputs": [
        {
          "output_type": "stream",
          "text": [
            "Before: 0.84875637823372 After: 0.9815625413435952\n"
          ],
          "name": "stdout"
        }
      ]
    },
    {
      "cell_type": "markdown",
      "metadata": {
        "id": "HY0QkyUT1N1W"
      },
      "source": [
        "With Resampling"
      ]
    },
    {
      "cell_type": "code",
      "metadata": {
        "colab": {
          "base_uri": "https://localhost:8080/"
        },
        "id": "qkrt4_9k1TLm",
        "outputId": "10018f7b-b93a-4baa-c88b-a9c5b65c1379"
      },
      "source": [
        "start_time = time.time()\n",
        "\n",
        "estimator.fit(x_train_resampled, y_train_resampled)\n",
        "\n",
        "times_train_aft['etr_mse'] = time.time() - start_time\n",
        "\n",
        "start_time = time.time()\n",
        "\n",
        "etr_preds_mse_resampled= estimator.predict(x_test_scaled)\n",
        "\n",
        "times_test_aft['etr_mse'] = time.time() - start_time\n",
        "\n",
        "print(estimator.best_estimator_)\n",
        "\n",
        "print(estimator.best_params_)"
      ],
      "execution_count": null,
      "outputs": [
        {
          "output_type": "stream",
          "text": [
            "/usr/local/lib/python3.7/dist-packages/sklearn/pipeline.py:354: DataConversionWarning: A column-vector y was passed when a 1d array was expected. Please change the shape of y to (n_samples,), for example using ravel().\n",
            "  self._final_estimator.fit(Xt, y, **fit_params)\n"
          ],
          "name": "stderr"
        },
        {
          "output_type": "stream",
          "text": [
            "Pipeline(memory=None,\n",
            "         steps=[('pca',\n",
            "                 PCA(copy=True, iterated_power='auto', n_components=16,\n",
            "                     random_state=None, svd_solver='auto', tol=0.0,\n",
            "                     whiten=False)),\n",
            "                ('etr',\n",
            "                 ExtraTreesRegressor(bootstrap=False, ccp_alpha=0.0,\n",
            "                                     criterion='mse', max_depth=18,\n",
            "                                     max_features='auto', max_leaf_nodes=None,\n",
            "                                     max_samples=None,\n",
            "                                     min_impurity_decrease=0.0,\n",
            "                                     min_impurity_split=None,\n",
            "                                     min_samples_leaf=1, min_samples_split=2,\n",
            "                                     min_weight_fraction_leaf=0.0,\n",
            "                                     n_estimators=60, n_jobs=None,\n",
            "                                     oob_score=False, random_state=None,\n",
            "                                     verbose=0, warm_start=False))],\n",
            "         verbose=False)\n",
            "{'etr__max_depth': 18, 'etr__n_estimators': 60, 'pca__n_components': 16}\n"
          ],
          "name": "stdout"
        }
      ]
    },
    {
      "cell_type": "code",
      "metadata": {
        "colab": {
          "base_uri": "https://localhost:8080/"
        },
        "id": "LfzltIqe1c56",
        "outputId": "20d3c32f-00b4-417a-cc6f-aa677a11acc2"
      },
      "source": [
        "etr_mse_resampled = mse(y_test, etr_preds_mse_resampled)\n",
        "\n",
        "print('Before:',etr_mse_score,'After:',etr_mse_resampled)"
      ],
      "execution_count": null,
      "outputs": [
        {
          "output_type": "stream",
          "text": [
            "Before: 0.84875637823372 After: 0.9725670715417838\n"
          ],
          "name": "stdout"
        }
      ]
    },
    {
      "cell_type": "markdown",
      "metadata": {
        "id": "pxaNTXNE0C10"
      },
      "source": [
        "In this metric our result is better with resampling, so we will keep this one, although the result remains worse than the first one."
      ]
    },
    {
      "cell_type": "markdown",
      "metadata": {
        "id": "u9RNmaFJ08ff"
      },
      "source": [
        "### Scoring **R² or Coefficient of Determination**\n",
        "  \n",
        "* For the hyperparameter n_estimators we initially chose a wide range of values ​​from 10 to 50. We noticed that the optimal value is in the range 32 to 36 so we chose the following values ​​for this parameter.\n",
        "* For the hyperparameter max_depth we initially chose a wide range of values ​​from 10 to 70. We noticed that the optimal value is in the range 15 to 40 so we chose the following values ​​for this parameter."
      ]
    },
    {
      "cell_type": "code",
      "metadata": {
        "colab": {
          "base_uri": "https://localhost:8080/"
        },
        "id": "D8pmL-LYuDqn",
        "outputId": "ff907c3f-c474-4cf5-f63c-67b162103080"
      },
      "source": [
        "from sklearn.pipeline import Pipeline\n",
        "\n",
        "param_grid_etr = {'pca__n_components': [16,15,14,13,12,11,10,9],\n",
        "              'etr__n_estimators': [10,20,30,40,50],\n",
        "              'etr__max_depth': [10,20,30,40,50,60,70]}\n",
        "              \n",
        "pipe = Pipeline(steps=[ ('pca', pca), ('etr', etr)])\n",
        "\n",
        "estimator = GridSearchCV(pipe, param_grid_etr, cv=10, scoring='r2', n_jobs=-1)\n",
        "\n",
        "estimator.fit(x_train_scaled, y_train)\n",
        "\n",
        "print(estimator.best_params_)"
      ],
      "execution_count": null,
      "outputs": [
        {
          "output_type": "stream",
          "text": [
            "{'etr__max_depth': 10, 'etr__n_estimators': 50, 'pca__n_components': 16}\n"
          ],
          "name": "stdout"
        }
      ]
    },
    {
      "cell_type": "code",
      "metadata": {
        "colab": {
          "base_uri": "https://localhost:8080/"
        },
        "id": "JAiRhJCv0_KU",
        "outputId": "e8f4b51e-bc28-4154-fc4e-e5536eac37fd"
      },
      "source": [
        "from sklearn.pipeline import Pipeline\n",
        "\n",
        "param_grid_etr = {'pca__n_components': [16,15,14,13,12,11,10,9],\n",
        "              'etr__n_estimators': [32,33,34,35,36],\n",
        "              'etr__max_depth': [14,15,16,17,18]}\n",
        "              \n",
        "pipe = Pipeline(steps=[ ('pca', pca), ('etr', etr)])\n",
        "\n",
        "estimator = GridSearchCV(pipe, param_grid_etr, cv=10, scoring='r2', n_jobs=-1)\n",
        "\n",
        "estimator.fit(x_train_scaled, y_train)\n",
        "\n",
        "print(estimator.best_estimator_)\n",
        "\n",
        "print(estimator.best_params_)"
      ],
      "execution_count": null,
      "outputs": [
        {
          "output_type": "stream",
          "text": [
            "Pipeline(memory=None,\n",
            "         steps=[('pca',\n",
            "                 PCA(copy=True, iterated_power='auto', n_components=13,\n",
            "                     random_state=None, svd_solver='auto', tol=0.0,\n",
            "                     whiten=False)),\n",
            "                ('etr',\n",
            "                 ExtraTreesRegressor(bootstrap=False, ccp_alpha=0.0,\n",
            "                                     criterion='mse', max_depth=14,\n",
            "                                     max_features='auto', max_leaf_nodes=None,\n",
            "                                     max_samples=None,\n",
            "                                     min_impurity_decrease=0.0,\n",
            "                                     min_impurity_split=None,\n",
            "                                     min_samples_leaf=1, min_samples_split=2,\n",
            "                                     min_weight_fraction_leaf=0.0,\n",
            "                                     n_estimators=33, n_jobs=None,\n",
            "                                     oob_score=False, random_state=None,\n",
            "                                     verbose=0, warm_start=False))],\n",
            "         verbose=False)\n",
            "{'etr__max_depth': 14, 'etr__n_estimators': 33, 'pca__n_components': 13}\n"
          ],
          "name": "stdout"
        }
      ]
    },
    {
      "cell_type": "markdown",
      "metadata": {
        "id": "o_ClXLSR1iiA"
      },
      "source": [
        "Without Resampling"
      ]
    },
    {
      "cell_type": "code",
      "metadata": {
        "id": "eBExX84N1C63"
      },
      "source": [
        "start_time = time.time()\n",
        "\n",
        "estimator.fit(x_train_scaled, y_train)\n",
        "\n",
        "times_train_aft['etr_r2'] = time.time() - start_time\n",
        "\n",
        "start_time = time.time()\n",
        "\n",
        "etr_preds_r2 = estimator.predict(x_test_scaled)\n",
        "\n",
        "times_test_aft['etr_r2'] = time.time() - start_time"
      ],
      "execution_count": null,
      "outputs": []
    },
    {
      "cell_type": "code",
      "metadata": {
        "colab": {
          "base_uri": "https://localhost:8080/"
        },
        "id": "ig1DVnrV1HTD",
        "outputId": "0f2d1be9-5c5f-4e10-ce44-0bbc461d0673"
      },
      "source": [
        "etr_r2 = r2(y_test, etr_preds_r2)\n",
        "\n",
        "print('Before:',etr_r2_score,'After:',etr_r2)"
      ],
      "execution_count": null,
      "outputs": [
        {
          "output_type": "stream",
          "text": [
            "Before: 0.6443308519329706 After: 0.586245179363512\n"
          ],
          "name": "stdout"
        }
      ]
    },
    {
      "cell_type": "markdown",
      "metadata": {
        "id": "YrUBHVV41mqI"
      },
      "source": [
        "With Resampling"
      ]
    },
    {
      "cell_type": "code",
      "metadata": {
        "colab": {
          "base_uri": "https://localhost:8080/"
        },
        "id": "zj7lANBp1pAC",
        "outputId": "ab3945e7-0fbe-4c09-c279-6ff06d426a87"
      },
      "source": [
        "estimator.fit(x_train_resampled, y_train_resampled)\n",
        "\n",
        "etr_preds_r2_resampled= estimator.predict(x_test_scaled)\n",
        "\n",
        "print(estimator.best_estimator_)\n",
        "\n",
        "print(estimator.best_params_)"
      ],
      "execution_count": null,
      "outputs": [
        {
          "output_type": "stream",
          "text": [
            "/usr/local/lib/python3.7/dist-packages/sklearn/pipeline.py:354: DataConversionWarning: A column-vector y was passed when a 1d array was expected. Please change the shape of y to (n_samples,), for example using ravel().\n",
            "  self._final_estimator.fit(Xt, y, **fit_params)\n"
          ],
          "name": "stderr"
        },
        {
          "output_type": "stream",
          "text": [
            "Pipeline(memory=None,\n",
            "         steps=[('pca',\n",
            "                 PCA(copy=True, iterated_power='auto', n_components=15,\n",
            "                     random_state=None, svd_solver='auto', tol=0.0,\n",
            "                     whiten=False)),\n",
            "                ('etr',\n",
            "                 ExtraTreesRegressor(bootstrap=False, ccp_alpha=0.0,\n",
            "                                     criterion='mse', max_depth=18,\n",
            "                                     max_features='auto', max_leaf_nodes=None,\n",
            "                                     max_samples=None,\n",
            "                                     min_impurity_decrease=0.0,\n",
            "                                     min_impurity_split=None,\n",
            "                                     min_samples_leaf=1, min_samples_split=2,\n",
            "                                     min_weight_fraction_leaf=0.0,\n",
            "                                     n_estimators=36, n_jobs=None,\n",
            "                                     oob_score=False, random_state=None,\n",
            "                                     verbose=0, warm_start=False))],\n",
            "         verbose=False)\n",
            "{'etr__max_depth': 18, 'etr__n_estimators': 36, 'pca__n_components': 15}\n"
          ],
          "name": "stdout"
        }
      ]
    },
    {
      "cell_type": "code",
      "metadata": {
        "colab": {
          "base_uri": "https://localhost:8080/"
        },
        "id": "m9bcY1V21tIO",
        "outputId": "60753ca8-cf68-4143-b3de-ed3657b80716"
      },
      "source": [
        "etr_r2_resampled = r2(y_test, etr_preds_r2_resampled)\n",
        "\n",
        "print('Before:',etr_r2_score,'After:',etr_r2_resampled)"
      ],
      "execution_count": null,
      "outputs": [
        {
          "output_type": "stream",
          "text": [
            "Before: 0.6443308519329706 After: 0.5890088797019177\n"
          ],
          "name": "stdout"
        }
      ]
    },
    {
      "cell_type": "markdown",
      "metadata": {
        "id": "BcXar5h9q3s-"
      },
      "source": [
        "In this metric our result is better without resampling,so we will keep this one, although the result remains worse than the first one."
      ]
    },
    {
      "cell_type": "markdown",
      "metadata": {
        "id": "BATMSdapxSDQ"
      },
      "source": [
        "### Scoring **Median Absolute Error**\n",
        "\n",
        "* For the hyperparameter n_estimators we initially chose a wide range of values ​​from 10 to 50. We noticed that the optimal value is in the range 29 to 36 so we chose the following values ​​for this parameter.\n",
        "* For the hyperparameter max_depth we initially chose a wide range of values ​​from 10 to 70. We noticed that the optimal value is in the range 68 to 76 so we chose the following values ​​for this parameter."
      ]
    },
    {
      "cell_type": "code",
      "metadata": {
        "colab": {
          "base_uri": "https://localhost:8080/"
        },
        "id": "20WP6C1Kt_Us",
        "outputId": "3f2d53ed-a7a9-460d-95fd-fc6f11742dd6"
      },
      "source": [
        "from sklearn.pipeline import Pipeline\n",
        "\n",
        "param_grid_etr = {'pca__n_components': [16,15,14,13,12,11,10,9],\n",
        "              'etr__n_estimators': [10,20,30,40,50],\n",
        "              'etr__max_depth': [10,20,30,40,50,60,70]}\n",
        "              \n",
        "pipe = Pipeline(steps=[ ('pca', pca), ('etr', etr)])\n",
        "\n",
        "estimator = GridSearchCV(pipe, param_grid_etr, cv=10, scoring='neg_median_absolute_error', n_jobs=-1)\n",
        "\n",
        "estimator.fit(x_train_scaled, y_train)\n",
        "\n",
        "print(estimator.best_params_)"
      ],
      "execution_count": null,
      "outputs": [
        {
          "output_type": "stream",
          "text": [
            "{'etr__max_depth': 70, 'etr__n_estimators': 30, 'pca__n_components': 14}\n"
          ],
          "name": "stdout"
        }
      ]
    },
    {
      "cell_type": "code",
      "metadata": {
        "colab": {
          "base_uri": "https://localhost:8080/"
        },
        "id": "Aawf1CPT2A32",
        "outputId": "6da6e067-158a-4d71-fa43-268909b7fdb4"
      },
      "source": [
        "from sklearn.pipeline import Pipeline\n",
        "\n",
        "param_grid_etr = {'pca__n_components': [16,15,14,13,12,11,10,9],\n",
        "              'etr__n_estimators': [29,30,31,32,33,34,35,36],\n",
        "              'etr__max_depth': [68,69,70,71,72,73,74,75,76]}\n",
        "              \n",
        "pipe = Pipeline(steps=[ ('pca', pca), ('etr', etr)])\n",
        "\n",
        "estimator = GridSearchCV(pipe, param_grid_etr, cv=10, scoring='neg_median_absolute_error', n_jobs=-1)\n",
        "\n",
        "estimator.fit(x_train_scaled, y_train)\n",
        "\n",
        "print(estimator.best_estimator_)\n",
        "\n",
        "print(estimator.best_params_)"
      ],
      "execution_count": null,
      "outputs": [
        {
          "output_type": "stream",
          "text": [
            "Pipeline(memory=None,\n",
            "         steps=[('pca',\n",
            "                 PCA(copy=True, iterated_power='auto', n_components=13,\n",
            "                     random_state=None, svd_solver='auto', tol=0.0,\n",
            "                     whiten=False)),\n",
            "                ('etr',\n",
            "                 ExtraTreesRegressor(bootstrap=False, ccp_alpha=0.0,\n",
            "                                     criterion='mse', max_depth=73,\n",
            "                                     max_features='auto', max_leaf_nodes=None,\n",
            "                                     max_samples=None,\n",
            "                                     min_impurity_decrease=0.0,\n",
            "                                     min_impurity_split=None,\n",
            "                                     min_samples_leaf=1, min_samples_split=2,\n",
            "                                     min_weight_fraction_leaf=0.0,\n",
            "                                     n_estimators=34, n_jobs=None,\n",
            "                                     oob_score=False, random_state=None,\n",
            "                                     verbose=0, warm_start=False))],\n",
            "         verbose=False)\n",
            "{'etr__max_depth': 73, 'etr__n_estimators': 34, 'pca__n_components': 13}\n"
          ],
          "name": "stdout"
        }
      ]
    },
    {
      "cell_type": "markdown",
      "metadata": {
        "id": "ONiBjJgk2IO8"
      },
      "source": [
        "Without Resampling"
      ]
    },
    {
      "cell_type": "code",
      "metadata": {
        "id": "C8CGcDpl2KcL"
      },
      "source": [
        "start_time = time.time()\n",
        "\n",
        "estimator.fit(x_train_scaled, y_train)\n",
        "\n",
        "times_train_aft['etr_mae'] = time.time() - start_time\n",
        "\n",
        "start_time = time.time()\n",
        "\n",
        "etr_preds_mae= estimator.predict(x_test_scaled)\n",
        "\n",
        "times_test_aft['etr_mae'] = time.time() - start_time"
      ],
      "execution_count": null,
      "outputs": []
    },
    {
      "cell_type": "code",
      "metadata": {
        "id": "65SL1zvv2Mb-",
        "colab": {
          "base_uri": "https://localhost:8080/"
        },
        "outputId": "cd505df2-de89-4904-b9b1-6dfd75c2e68f"
      },
      "source": [
        "etr_mae = mae(y_test, etr_preds_mae)\n",
        "\n",
        "print('Before:',etr_mae_score,'After:',etr_mae)"
      ],
      "execution_count": null,
      "outputs": [
        {
          "output_type": "stream",
          "text": [
            "Before: 0.6299999999999999 After: 0.65625\n"
          ],
          "name": "stdout"
        }
      ]
    },
    {
      "cell_type": "markdown",
      "metadata": {
        "id": "C_Q8nqlT2YU5"
      },
      "source": [
        "With Resampling"
      ]
    },
    {
      "cell_type": "code",
      "metadata": {
        "id": "JV3KMzMJ2bZr",
        "colab": {
          "base_uri": "https://localhost:8080/"
        },
        "outputId": "562cde79-742c-48e3-aaf4-de7c33efa40b"
      },
      "source": [
        "estimator.fit(x_train_resampled, y_train_resampled)\n",
        "\n",
        "etr_preds_mae_resampled= estimator.predict(x_test_scaled)\n",
        "\n",
        "print(estimator.best_estimator_)\n",
        "\n",
        "print(estimator.best_params_)"
      ],
      "execution_count": null,
      "outputs": [
        {
          "output_type": "stream",
          "text": [
            "/usr/local/lib/python3.7/dist-packages/sklearn/pipeline.py:354: DataConversionWarning: A column-vector y was passed when a 1d array was expected. Please change the shape of y to (n_samples,), for example using ravel().\n",
            "  self._final_estimator.fit(Xt, y, **fit_params)\n"
          ],
          "name": "stderr"
        },
        {
          "output_type": "stream",
          "text": [
            "Pipeline(memory=None,\n",
            "         steps=[('pca',\n",
            "                 PCA(copy=True, iterated_power='auto', n_components=12,\n",
            "                     random_state=None, svd_solver='auto', tol=0.0,\n",
            "                     whiten=False)),\n",
            "                ('etr',\n",
            "                 ExtraTreesRegressor(bootstrap=False, ccp_alpha=0.0,\n",
            "                                     criterion='mse', max_depth=73,\n",
            "                                     max_features='auto', max_leaf_nodes=None,\n",
            "                                     max_samples=None,\n",
            "                                     min_impurity_decrease=0.0,\n",
            "                                     min_impurity_split=None,\n",
            "                                     min_samples_leaf=1, min_samples_split=2,\n",
            "                                     min_weight_fraction_leaf=0.0,\n",
            "                                     n_estimators=32, n_jobs=None,\n",
            "                                     oob_score=False, random_state=None,\n",
            "                                     verbose=0, warm_start=False))],\n",
            "         verbose=False)\n",
            "{'etr__max_depth': 73, 'etr__n_estimators': 32, 'pca__n_components': 12}\n"
          ],
          "name": "stdout"
        }
      ]
    },
    {
      "cell_type": "code",
      "metadata": {
        "id": "xGmUNbW52b-B",
        "colab": {
          "base_uri": "https://localhost:8080/"
        },
        "outputId": "e6adc6d9-9b18-4231-ab57-b1d57d40ac18"
      },
      "source": [
        "print('Before:',etr_mae_score,'After:',mae(y_test, etr_preds_mae_resampled))"
      ],
      "execution_count": null,
      "outputs": [
        {
          "output_type": "stream",
          "text": [
            "Before: 0.6299999999999999 After: 0.65625\n"
          ],
          "name": "stdout"
        }
      ]
    },
    {
      "cell_type": "markdown",
      "metadata": {
        "id": "Lf-A6vl0zdEY"
      },
      "source": [
        "In this metric the result between resampling and without resampling is the same. Still worse than the first one."
      ]
    },
    {
      "cell_type": "markdown",
      "metadata": {
        "id": "7EaravW_T7Id"
      },
      "source": [
        "## **Gradient Boosting Regressor**\n",
        "Selection of hyperparameters: \n",
        "* **n_estimators**: The number of boosting stages to perform. \n",
        "* **max_depth**: Maximum depth of the individual regression estimators."
      ]
    },
    {
      "cell_type": "markdown",
      "metadata": {
        "id": "rmHR9Lv1u3oC"
      },
      "source": [
        "### Scoring **Mean Square Error**\n",
        "\n",
        "* For the hyperparameter n_estimators we initially chose a wide range of values ​​from 30 to 60. We noticed that the optimal value is in the range 31 to 37 so we chose the following values ​​for this parameter.\n",
        "* For the hyperparameter max_depth we initially chose a wide range of values ​​from 1 to 10. We noticed that the optimal value is in the range 2 to 6 so we chose the following values ​​for this parameter."
      ]
    },
    {
      "cell_type": "code",
      "metadata": {
        "id": "6UM5ddABuyZe",
        "colab": {
          "base_uri": "https://localhost:8080/"
        },
        "outputId": "fb3a884a-fec9-4e43-9657-8317c5fa669d"
      },
      "source": [
        "from sklearn.pipeline import Pipeline\n",
        "\n",
        "param_grid_gbr = {'pca__n_components': [16,15,14,13,12,11,10,9],\n",
        "              'gbr__n_estimators':[30,40,50,60],\n",
        "              'gbr__max_depth':[1,3,5,7,10]}\n",
        "              \n",
        "pipe = Pipeline(steps=[ ('pca', pca), ('gbr', gbr)])\n",
        "\n",
        "estimator = GridSearchCV(pipe, param_grid_gbr, cv=10, scoring='r2', n_jobs=-1)\n",
        "\n",
        "estimator.fit(x_train_scaled, y_train)\n",
        "\n",
        "print(estimator.best_params_)"
      ],
      "execution_count": null,
      "outputs": [
        {
          "output_type": "stream",
          "text": [
            "{'gbr__max_depth': 5, 'gbr__n_estimators': 30, 'pca__n_components': 12}\n"
          ],
          "name": "stdout"
        }
      ]
    },
    {
      "cell_type": "code",
      "metadata": {
        "id": "IPTsXQPfT-fF",
        "colab": {
          "base_uri": "https://localhost:8080/"
        },
        "outputId": "1e37fc18-c0cd-4314-cbaa-ee277441815d"
      },
      "source": [
        "from sklearn.pipeline import Pipeline\n",
        "\n",
        "param_grid_gbr = {'pca__n_components': [16,15,14,13,12,11,10,9],\n",
        "              'gbr__n_estimators':[31,32,33,34,35,36,37],\n",
        "              'gbr__max_depth':[2,3,4,5,6]}\n",
        "              \n",
        "pipe = Pipeline(steps=[ ('pca', pca), ('gbr', gbr)])\n",
        "\n",
        "estimator = GridSearchCV(pipe, param_grid_gbr, cv=10, scoring='neg_mean_squared_error', n_jobs=-1)\n",
        "\n",
        "estimator.fit(x_train_scaled, y_train)\n",
        "\n",
        "print(estimator.best_estimator_)\n",
        "\n",
        "print(estimator.best_params_)"
      ],
      "execution_count": null,
      "outputs": [
        {
          "output_type": "stream",
          "text": [
            "Pipeline(memory=None,\n",
            "         steps=[('pca',\n",
            "                 PCA(copy=True, iterated_power='auto', n_components=13,\n",
            "                     random_state=None, svd_solver='auto', tol=0.0,\n",
            "                     whiten=False)),\n",
            "                ('gbr',\n",
            "                 GradientBoostingRegressor(alpha=0.9, ccp_alpha=0.0,\n",
            "                                           criterion='friedman_mse', init=None,\n",
            "                                           learning_rate=0.1, loss='ls',\n",
            "                                           max_depth=4, max_features=None,\n",
            "                                           max_leaf_nodes=None,\n",
            "                                           min_impurity_decrease=0.0,\n",
            "                                           min_impurity_split=None,\n",
            "                                           min_samples_leaf=1,\n",
            "                                           min_samples_split=2,\n",
            "                                           min_weight_fraction_leaf=0.0,\n",
            "                                           n_estimators=34,\n",
            "                                           n_iter_no_change=None,\n",
            "                                           presort='deprecated',\n",
            "                                           random_state=None, subsample=1.0,\n",
            "                                           tol=0.0001, validation_fraction=0.1,\n",
            "                                           verbose=0, warm_start=False))],\n",
            "         verbose=False)\n",
            "{'gbr__max_depth': 4, 'gbr__n_estimators': 34, 'pca__n_components': 13}\n"
          ],
          "name": "stdout"
        }
      ]
    },
    {
      "cell_type": "markdown",
      "metadata": {
        "id": "9W-Lx0b5VaDQ"
      },
      "source": [
        "Without Resampling"
      ]
    },
    {
      "cell_type": "code",
      "metadata": {
        "id": "CkEPh_ntT_dQ"
      },
      "source": [
        "start_time = time.time()\n",
        "\n",
        "estimator.fit(x_train_scaled, y_train)\n",
        "\n",
        "times_train_aft['gbr_mse'] = time.time() - start_time\n",
        "\n",
        "start_time = time.time()\n",
        "\n",
        "gbr_preds_mse= estimator.predict(x_test_scaled)\n",
        "\n",
        "times_test_aft['gbr_mse'] = time.time() - start_time"
      ],
      "execution_count": null,
      "outputs": []
    },
    {
      "cell_type": "code",
      "metadata": {
        "id": "XKxSGJ4oVfEP",
        "colab": {
          "base_uri": "https://localhost:8080/"
        },
        "outputId": "6f037fe6-34f2-4136-f391-cb9d1f824aa7"
      },
      "source": [
        "gbr_mse = mse(y_test, gbr_preds_mse)\n",
        "\n",
        "print('Before:',gbr_mse_score,'After:',gbr_mse)"
      ],
      "execution_count": null,
      "outputs": [
        {
          "output_type": "stream",
          "text": [
            "Before: 0.8310359663210434 After: 0.9733756012702587\n"
          ],
          "name": "stdout"
        }
      ]
    },
    {
      "cell_type": "markdown",
      "metadata": {
        "id": "aCdJg5o3VazB"
      },
      "source": [
        "With Resampling"
      ]
    },
    {
      "cell_type": "code",
      "metadata": {
        "id": "UAnR1mv2T_IJ",
        "colab": {
          "base_uri": "https://localhost:8080/"
        },
        "outputId": "cbbe1227-e5af-497e-c683-036045374075"
      },
      "source": [
        "estimator.fit(x_train_resampled, y_train_resampled)\n",
        "\n",
        "gbr_preds_mse_resampled= estimator.predict(x_test_scaled)\n",
        "\n",
        "print(estimator.best_estimator_)\n",
        "\n",
        "print(estimator.best_params_)"
      ],
      "execution_count": null,
      "outputs": [
        {
          "output_type": "stream",
          "text": [
            "/usr/local/lib/python3.7/dist-packages/sklearn/ensemble/_gb.py:1454: DataConversionWarning: A column-vector y was passed when a 1d array was expected. Please change the shape of y to (n_samples, ), for example using ravel().\n",
            "  y = column_or_1d(y, warn=True)\n"
          ],
          "name": "stderr"
        },
        {
          "output_type": "stream",
          "text": [
            "Pipeline(memory=None,\n",
            "         steps=[('pca',\n",
            "                 PCA(copy=True, iterated_power='auto', n_components=15,\n",
            "                     random_state=None, svd_solver='auto', tol=0.0,\n",
            "                     whiten=False)),\n",
            "                ('gbr',\n",
            "                 GradientBoostingRegressor(alpha=0.9, ccp_alpha=0.0,\n",
            "                                           criterion='friedman_mse', init=None,\n",
            "                                           learning_rate=0.1, loss='ls',\n",
            "                                           max_depth=6, max_features=None,\n",
            "                                           max_leaf_nodes=None,\n",
            "                                           min_impurity_decrease=0.0,\n",
            "                                           min_impurity_split=None,\n",
            "                                           min_samples_leaf=1,\n",
            "                                           min_samples_split=2,\n",
            "                                           min_weight_fraction_leaf=0.0,\n",
            "                                           n_estimators=34,\n",
            "                                           n_iter_no_change=None,\n",
            "                                           presort='deprecated',\n",
            "                                           random_state=None, subsample=1.0,\n",
            "                                           tol=0.0001, validation_fraction=0.1,\n",
            "                                           verbose=0, warm_start=False))],\n",
            "         verbose=False)\n",
            "{'gbr__max_depth': 6, 'gbr__n_estimators': 34, 'pca__n_components': 15}\n"
          ],
          "name": "stdout"
        }
      ]
    },
    {
      "cell_type": "code",
      "metadata": {
        "id": "hSYa2arVVf1a",
        "colab": {
          "base_uri": "https://localhost:8080/"
        },
        "outputId": "062545f1-d6ba-47d1-feef-aef302eb7ea6"
      },
      "source": [
        "print('Before:',gbr_mse_score,'After:',mse(y_test, gbr_preds_mse_resampled))\n"
      ],
      "execution_count": null,
      "outputs": [
        {
          "output_type": "stream",
          "text": [
            "Before: 0.8310359663210434 After: 1.0244028560696083\n"
          ],
          "name": "stdout"
        }
      ]
    },
    {
      "cell_type": "markdown",
      "metadata": {
        "id": "wagMKG4IRgMh"
      },
      "source": [
        "In this metric our result is better without resampling,so we will keep this one, although the result remains worse than the first one."
      ]
    },
    {
      "cell_type": "markdown",
      "metadata": {
        "id": "bGWKo5D0YvLp"
      },
      "source": [
        "### Scoring **R² or Coefficient of Determination**\n",
        "\n",
        "* For the hyperparameter n_estimators we initially chose a wide range of values ​​from 30 to 60. We noticed that the optimal value is in the range 39 to 45 so we chose the following values ​​for this parameter.\n",
        "* For the hyperparameter max_depth we initially chose a wide range of values ​​from 1 to 10. We noticed that the optimal value is in the range 2 to 6 so we chose the following values ​​for this parameter."
      ]
    },
    {
      "cell_type": "code",
      "metadata": {
        "id": "d2vfyBKCv12w",
        "colab": {
          "base_uri": "https://localhost:8080/"
        },
        "outputId": "29b0ddc4-415e-471d-8197-ca76d1c659e7"
      },
      "source": [
        "from sklearn.pipeline import Pipeline\n",
        "\n",
        "param_grid_gbr = {'pca__n_components': [16,15,14,13,12,11,10,9],\n",
        "              'gbr__n_estimators':[30,40,50,60],\n",
        "              'gbr__max_depth':[1,3,5,7,10]}\n",
        "              \n",
        "pipe = Pipeline(steps=[ ('pca', pca), ('gbr', gbr)])\n",
        "\n",
        "estimator = GridSearchCV(pipe, param_grid_gbr, cv=10, scoring='r2', n_jobs=-1)\n",
        "\n",
        "estimator.fit(x_train_scaled, y_train)\n",
        "\n",
        "print(estimator.best_params_)"
      ],
      "execution_count": null,
      "outputs": [
        {
          "output_type": "stream",
          "text": [
            "{'gbr__max_depth': 5, 'gbr__n_estimators': 40, 'pca__n_components': 14}\n"
          ],
          "name": "stdout"
        }
      ]
    },
    {
      "cell_type": "code",
      "metadata": {
        "id": "r3vBP5ZUYz9A",
        "colab": {
          "base_uri": "https://localhost:8080/"
        },
        "outputId": "6c87c2c4-4a12-493e-d3cc-b995a98c0da3"
      },
      "source": [
        "from sklearn.pipeline import Pipeline\n",
        "\n",
        "param_grid_gbr = {'pca__n_components': [16,15,14,13,12,11,10,9],\n",
        "              'gbr__n_estimators':[39,40,41,42,43,44,45],\n",
        "              'gbr__max_depth':[2,3,4,5,6]}\n",
        "              \n",
        "pipe = Pipeline(steps=[ ('pca', pca), ('gbr', gbr)])\n",
        "\n",
        "estimator = GridSearchCV(pipe, param_grid_gbr, cv=10, scoring='r2', n_jobs=-1)\n",
        "\n",
        "estimator.fit(x_train_scaled, y_train)\n",
        "\n",
        "print(estimator.best_estimator_)\n",
        "\n",
        "print(estimator.best_params_)"
      ],
      "execution_count": null,
      "outputs": [
        {
          "output_type": "stream",
          "text": [
            "Pipeline(memory=None,\n",
            "         steps=[('pca',\n",
            "                 PCA(copy=True, iterated_power='auto', n_components=13,\n",
            "                     random_state=None, svd_solver='auto', tol=0.0,\n",
            "                     whiten=False)),\n",
            "                ('gbr',\n",
            "                 GradientBoostingRegressor(alpha=0.9, ccp_alpha=0.0,\n",
            "                                           criterion='friedman_mse', init=None,\n",
            "                                           learning_rate=0.1, loss='ls',\n",
            "                                           max_depth=4, max_features=None,\n",
            "                                           max_leaf_nodes=None,\n",
            "                                           min_impurity_decrease=0.0,\n",
            "                                           min_impurity_split=None,\n",
            "                                           min_samples_leaf=1,\n",
            "                                           min_samples_split=2,\n",
            "                                           min_weight_fraction_leaf=0.0,\n",
            "                                           n_estimators=41,\n",
            "                                           n_iter_no_change=None,\n",
            "                                           presort='deprecated',\n",
            "                                           random_state=None, subsample=1.0,\n",
            "                                           tol=0.0001, validation_fraction=0.1,\n",
            "                                           verbose=0, warm_start=False))],\n",
            "         verbose=False)\n",
            "{'gbr__max_depth': 4, 'gbr__n_estimators': 41, 'pca__n_components': 13}\n"
          ],
          "name": "stdout"
        }
      ]
    },
    {
      "cell_type": "markdown",
      "metadata": {
        "id": "k5RJ8gDeZfvv"
      },
      "source": [
        "Without Resampling"
      ]
    },
    {
      "cell_type": "code",
      "metadata": {
        "id": "RTZnLNR5Y47e"
      },
      "source": [
        "start_time = time.time()\n",
        "\n",
        "estimator.fit(x_train_scaled, y_train)\n",
        "\n",
        "times_train_aft['gbr_r2'] = time.time() - start_time\n",
        "\n",
        "start_time = time.time()\n",
        "\n",
        "gbr_preds_r2= estimator.predict(x_test_scaled)\n",
        "\n",
        "times_test_aft['gbr_r2'] = time.time() - start_time"
      ],
      "execution_count": null,
      "outputs": []
    },
    {
      "cell_type": "code",
      "metadata": {
        "id": "xo19zGJoY-7R",
        "colab": {
          "base_uri": "https://localhost:8080/"
        },
        "outputId": "8450aeb3-950b-40f6-a8df-2570a145da8a"
      },
      "source": [
        "gbr_r2 = r2(y_test, gbr_preds_r2)\n",
        "\n",
        "print('Before:',gbr_r2_score,'After:',gbr_r2)"
      ],
      "execution_count": null,
      "outputs": [
        {
          "output_type": "stream",
          "text": [
            "Before: 0.6517565443578033 After: 0.5919688581889739\n"
          ],
          "name": "stdout"
        }
      ]
    },
    {
      "cell_type": "markdown",
      "metadata": {
        "id": "w6mPAUBXZld3"
      },
      "source": [
        "With Resampling"
      ]
    },
    {
      "cell_type": "code",
      "metadata": {
        "id": "AXeAciDEZOah",
        "colab": {
          "base_uri": "https://localhost:8080/"
        },
        "outputId": "5870df82-ce2b-4b6a-cce5-b3b61db8182a"
      },
      "source": [
        "estimator.fit(x_train_resampled, y_train_resampled)\n",
        "\n",
        "gbr_preds_r2_resampled= estimator.predict(x_test_scaled)\n",
        "\n",
        "print(estimator.best_estimator_)\n",
        "\n",
        "print(estimator.best_params_)"
      ],
      "execution_count": null,
      "outputs": [
        {
          "output_type": "stream",
          "text": [
            "/usr/local/lib/python3.7/dist-packages/sklearn/ensemble/_gb.py:1454: DataConversionWarning: A column-vector y was passed when a 1d array was expected. Please change the shape of y to (n_samples, ), for example using ravel().\n",
            "  y = column_or_1d(y, warn=True)\n"
          ],
          "name": "stderr"
        },
        {
          "output_type": "stream",
          "text": [
            "Pipeline(memory=None,\n",
            "         steps=[('pca',\n",
            "                 PCA(copy=True, iterated_power='auto', n_components=14,\n",
            "                     random_state=None, svd_solver='auto', tol=0.0,\n",
            "                     whiten=False)),\n",
            "                ('gbr',\n",
            "                 GradientBoostingRegressor(alpha=0.9, ccp_alpha=0.0,\n",
            "                                           criterion='friedman_mse', init=None,\n",
            "                                           learning_rate=0.1, loss='ls',\n",
            "                                           max_depth=6, max_features=None,\n",
            "                                           max_leaf_nodes=None,\n",
            "                                           min_impurity_decrease=0.0,\n",
            "                                           min_impurity_split=None,\n",
            "                                           min_samples_leaf=1,\n",
            "                                           min_samples_split=2,\n",
            "                                           min_weight_fraction_leaf=0.0,\n",
            "                                           n_estimators=41,\n",
            "                                           n_iter_no_change=None,\n",
            "                                           presort='deprecated',\n",
            "                                           random_state=None, subsample=1.0,\n",
            "                                           tol=0.0001, validation_fraction=0.1,\n",
            "                                           verbose=0, warm_start=False))],\n",
            "         verbose=False)\n",
            "{'gbr__max_depth': 6, 'gbr__n_estimators': 41, 'pca__n_components': 14}\n"
          ],
          "name": "stdout"
        }
      ]
    },
    {
      "cell_type": "code",
      "metadata": {
        "id": "PMYcrIywZSge",
        "colab": {
          "base_uri": "https://localhost:8080/"
        },
        "outputId": "9a3a2ca5-6a96-4fb0-a525-203a3e31fd9f"
      },
      "source": [
        "print('Before:',gbr_r2_score,'After:',r2(y_test, gbr_preds_r2_resampled))"
      ],
      "execution_count": null,
      "outputs": [
        {
          "output_type": "stream",
          "text": [
            "Before: 0.6517565443578033 After: 0.5622839193017959\n"
          ],
          "name": "stdout"
        }
      ]
    },
    {
      "cell_type": "markdown",
      "metadata": {
        "id": "OrrfhW-tZdI-"
      },
      "source": [
        "### Scoring **Median Absolute Error**\n",
        "\n",
        "* For the hyperparameter n_estimators we initially chose a wide range of values ​​from 30 to 70. We noticed that the optimal value is in the range 48 to 54 so we chose the following values ​​for this parameter.\n",
        "* For the hyperparameter max_depth we initially chose a wide range of values ​​from 1 to 10. We noticed that the optimal value is in the range 2 to 6 so we chose the following values ​​for this parameter."
      ]
    },
    {
      "cell_type": "code",
      "metadata": {
        "id": "7UreebDivK0s",
        "colab": {
          "base_uri": "https://localhost:8080/"
        },
        "outputId": "09f7fd68-aea7-47aa-ebc1-28c14a8ca974"
      },
      "source": [
        "from sklearn.pipeline import Pipeline\n",
        "\n",
        "param_grid_gbr = {'pca__n_components': [16,15,14,13,12,11,10,9],\n",
        "              'gbr__n_estimators':[30,40,50,60,70],\n",
        "              'gbr__max_depth':[1,3,5,7,10]}\n",
        "              \n",
        "pipe = Pipeline(steps=[ ('pca', pca), ('gbr', gbr)])\n",
        "\n",
        "estimator = GridSearchCV(pipe, param_grid_gbr, cv=10, scoring='r2', n_jobs=-1)\n",
        "\n",
        "estimator.fit(x_train_scaled, y_train)\n",
        "\n",
        "print(estimator.best_params_)"
      ],
      "execution_count": null,
      "outputs": [
        {
          "output_type": "stream",
          "text": [
            "{'gbr__max_depth': 3, 'gbr__n_estimators': 50, 'pca__n_components': 16}\n"
          ],
          "name": "stdout"
        }
      ]
    },
    {
      "cell_type": "code",
      "metadata": {
        "id": "-DgEF3AiZdI-",
        "colab": {
          "base_uri": "https://localhost:8080/"
        },
        "outputId": "1d80eec4-5ac4-4e08-e99e-10617eecdf6b"
      },
      "source": [
        "from sklearn.pipeline import Pipeline\n",
        "\n",
        "param_grid_gbr = {'pca__n_components': [16,15,14,13,12,11,10,9],\n",
        "              'gbr__n_estimators': [48,49,50,51,52,53,54],\n",
        "              'gbr__max_depth': [2,3,4,5,6] }\n",
        "              \n",
        "pipe = Pipeline(steps=[ ('pca', pca), ('gbr', gbr)])\n",
        "\n",
        "estimator = GridSearchCV(pipe, param_grid_gbr, cv=10, scoring='neg_mean_squared_error', n_jobs=-1)\n",
        "\n",
        "estimator.fit(x_train_scaled, y_train)\n",
        "\n",
        "print(estimator.best_estimator_)\n",
        "\n",
        "print(estimator.best_params_)"
      ],
      "execution_count": null,
      "outputs": [
        {
          "output_type": "stream",
          "text": [
            "Pipeline(memory=None,\n",
            "         steps=[('pca',\n",
            "                 PCA(copy=True, iterated_power='auto', n_components=13,\n",
            "                     random_state=None, svd_solver='auto', tol=0.0,\n",
            "                     whiten=False)),\n",
            "                ('gbr',\n",
            "                 GradientBoostingRegressor(alpha=0.9, ccp_alpha=0.0,\n",
            "                                           criterion='friedman_mse', init=None,\n",
            "                                           learning_rate=0.1, loss='ls',\n",
            "                                           max_depth=4, max_features=None,\n",
            "                                           max_leaf_nodes=None,\n",
            "                                           min_impurity_decrease=0.0,\n",
            "                                           min_impurity_split=None,\n",
            "                                           min_samples_leaf=1,\n",
            "                                           min_samples_split=2,\n",
            "                                           min_weight_fraction_leaf=0.0,\n",
            "                                           n_estimators=51,\n",
            "                                           n_iter_no_change=None,\n",
            "                                           presort='deprecated',\n",
            "                                           random_state=None, subsample=1.0,\n",
            "                                           tol=0.0001, validation_fraction=0.1,\n",
            "                                           verbose=0, warm_start=False))],\n",
            "         verbose=False)\n",
            "{'gbr__max_depth': 4, 'gbr__n_estimators': 51, 'pca__n_components': 13}\n"
          ],
          "name": "stdout"
        }
      ]
    },
    {
      "cell_type": "markdown",
      "metadata": {
        "id": "uWBiBqJtZdI_"
      },
      "source": [
        "Without Resampling"
      ]
    },
    {
      "cell_type": "code",
      "metadata": {
        "id": "-U0x1fghZdI_"
      },
      "source": [
        "start_time = time.time()\n",
        "\n",
        "estimator.fit(x_train_scaled, y_train)\n",
        "\n",
        "times_train_aft['gbr_mae'] = time.time() - start_time\n",
        "\n",
        "start_time = time.time()\n",
        "\n",
        "gbr_preds_mae = estimator.predict(x_test_scaled)\n",
        "\n",
        "times_test_aft['gbr_mae'] = time.time() - start_time"
      ],
      "execution_count": null,
      "outputs": []
    },
    {
      "cell_type": "code",
      "metadata": {
        "id": "dX5y6R5hZdI_",
        "colab": {
          "base_uri": "https://localhost:8080/"
        },
        "outputId": "cb8b876e-81e1-45b6-d8d8-732350bd087d"
      },
      "source": [
        "gbr_mae = mae(y_test, gbr_preds_mae)\n",
        "\n",
        "print('Before:',gbr_mae_score,'After:', gbr_mae)"
      ],
      "execution_count": null,
      "outputs": [
        {
          "output_type": "stream",
          "text": [
            "Before: 0.6155900202786739 After: 0.687129275166122\n"
          ],
          "name": "stdout"
        }
      ]
    },
    {
      "cell_type": "markdown",
      "metadata": {
        "id": "GbyXA7-yZdJA"
      },
      "source": [
        "With Resampling"
      ]
    },
    {
      "cell_type": "code",
      "metadata": {
        "id": "QuYR-8LVZdJA",
        "colab": {
          "base_uri": "https://localhost:8080/"
        },
        "outputId": "96d3bc83-f973-480a-dfdc-2b01721d975d"
      },
      "source": [
        "estimator.fit(x_train_resampled , y_train_resampled)\n",
        "\n",
        "gbr_preds_mae_resampled = estimator.predict(x_test_scaled)\n",
        "\n",
        "print(estimator.best_estimator_)\n",
        "\n",
        "print(estimator.best_params_)"
      ],
      "execution_count": null,
      "outputs": [
        {
          "output_type": "stream",
          "text": [
            "/usr/local/lib/python3.7/dist-packages/sklearn/ensemble/_gb.py:1454: DataConversionWarning: A column-vector y was passed when a 1d array was expected. Please change the shape of y to (n_samples, ), for example using ravel().\n",
            "  y = column_or_1d(y, warn=True)\n"
          ],
          "name": "stderr"
        },
        {
          "output_type": "stream",
          "text": [
            "Pipeline(memory=None,\n",
            "         steps=[('pca',\n",
            "                 PCA(copy=True, iterated_power='auto', n_components=15,\n",
            "                     random_state=None, svd_solver='auto', tol=0.0,\n",
            "                     whiten=False)),\n",
            "                ('gbr',\n",
            "                 GradientBoostingRegressor(alpha=0.9, ccp_alpha=0.0,\n",
            "                                           criterion='friedman_mse', init=None,\n",
            "                                           learning_rate=0.1, loss='ls',\n",
            "                                           max_depth=6, max_features=None,\n",
            "                                           max_leaf_nodes=None,\n",
            "                                           min_impurity_decrease=0.0,\n",
            "                                           min_impurity_split=None,\n",
            "                                           min_samples_leaf=1,\n",
            "                                           min_samples_split=2,\n",
            "                                           min_weight_fraction_leaf=0.0,\n",
            "                                           n_estimators=51,\n",
            "                                           n_iter_no_change=None,\n",
            "                                           presort='deprecated',\n",
            "                                           random_state=None, subsample=1.0,\n",
            "                                           tol=0.0001, validation_fraction=0.1,\n",
            "                                           verbose=0, warm_start=False))],\n",
            "         verbose=False)\n",
            "{'gbr__max_depth': 6, 'gbr__n_estimators': 51, 'pca__n_components': 15}\n"
          ],
          "name": "stdout"
        }
      ]
    },
    {
      "cell_type": "code",
      "metadata": {
        "id": "k2TwVQpBZdJA",
        "colab": {
          "base_uri": "https://localhost:8080/"
        },
        "outputId": "310034c8-398d-4c9f-f3a2-1ab9ae5750b7"
      },
      "source": [
        "print('Before:', gbr_mae_score ,'After:', mae(y_test, gbr_preds_mae_resampled))"
      ],
      "execution_count": null,
      "outputs": [
        {
          "output_type": "stream",
          "text": [
            "Before: 0.6155900202786739 After: 0.6802674743047525\n"
          ],
          "name": "stdout"
        }
      ]
    },
    {
      "cell_type": "markdown",
      "metadata": {
        "id": "RD6h6EaK-1BV"
      },
      "source": [
        "# **Bar Plot Before-After**"
      ]
    },
    {
      "cell_type": "markdown",
      "metadata": {
        "id": "5XnaY6hu-4gO"
      },
      "source": [
        "## **Mean Square Error**"
      ]
    },
    {
      "cell_type": "code",
      "metadata": {
        "id": "bKCxOpGm-y32",
        "colab": {
          "base_uri": "https://localhost:8080/",
          "height": 573
        },
        "outputId": "e46d4e00-8be0-4f73-da1b-a05f9c84da74"
      },
      "source": [
        "# Mean Squared Error\n",
        "\n",
        "import matplotlib.pyplot as plt \n",
        "\n",
        "mse_score = ()\n",
        "\n",
        "estimators = ('RR','LR','ENR','SVMR','DTR','ETR','GBR')\n",
        "\n",
        "plt.bar(estimators , mse_score1,color=(0.6, 0.6, 0.6, 0.6),  edgecolor='black')\n",
        "\n",
        "plt.ylabel('MSE')\n",
        "\n",
        "plt.xlabel('Classifier')\n",
        "\n",
        "plt.title('Mean Squared Error before fine tuning')\n",
        "\n",
        "plt.show()\n",
        "\n",
        "mse_score = (rr_mse, lr_mse, enr_mse, svmr_mse, dtr_mse, etr_mse_resampled,gbr_mse)\n",
        "\n",
        "plt.bar(estimators , mse_score, color = (0.6, 0.6, 0.6, 0.6),  edgecolor='blue')\n",
        "\n",
        "plt.ylabel('MSE')\n",
        "\n",
        "plt.xlabel('Classifier')\n",
        "\n",
        "plt.title('Mean Squared Error after fine tuning')\n",
        "\n",
        "plt.show()"
      ],
      "execution_count": null,
      "outputs": [
        {
          "output_type": "display_data",
          "data": {
            "image/png": "[encoded data removed]",
            "text/plain": [
              "<Figure size 432x288 with 1 Axes>"
            ]
          },
          "metadata": {
            "tags": [],
            "needs_background": "light"
          }
        },
        {
          "output_type": "display_data",
          "data": {
            "image/png": "[encoded data removed]",
            "text/plain": [
              "<Figure size 432x288 with 1 Axes>"
            ]
          },
          "metadata": {
            "tags": [],
            "needs_background": "light"
          }
        }
      ]
    },
    {
      "cell_type": "markdown",
      "metadata": {
        "id": "1k6Kk_GUWDVe"
      },
      "source": [
        "In general, we observe that after fine tuning some of the results regarding the mean squared error metric improved. Specifically for the regressors selected:\n",
        "\n",
        "**Ridge Regressor**: Initially, we noticed an error value: 1.02 and finally reached out 0.95\n",
        "\n",
        "**Lasso Regressor**: Initially, we noticed an error value: 1.05 and finally reached out 0.95\n",
        "\n",
        "**Elastic Net Regressor** : Initially, we noticed an error value: 1.04 and finally reached out 0.95\n",
        "\n",
        "**Support Vector Machine Regressor** : Initially, we noticed an error value: 2.09 and finally reached out 0.92\n",
        "\n",
        "**Decision Tree Regressor** : Initially, we noticed an error value: 1.70 and finally reached out 1.08\n",
        "\n",
        "**Extra Tree Regressor**: Initially, we noticed an error value: 0.84 and finally reached out 0.98\n",
        "\n",
        "**Gradient Boosting Regressor** : Initially, we noticed an error value: 0.83 and finally reached out 0.97"
      ]
    },
    {
      "cell_type": "markdown",
      "metadata": {
        "id": "FqeGv0VEPA6o"
      },
      "source": [
        "## **R² or Coefficient of Determination**"
      ]
    },
    {
      "cell_type": "code",
      "metadata": {
        "id": "2x4hgK2IPBRc",
        "colab": {
          "base_uri": "https://localhost:8080/",
          "height": 573
        },
        "outputId": "38f2d0bf-36df-44c6-d7a6-b8a1bea0d651"
      },
      "source": [
        "# R²\n",
        "\n",
        "import matplotlib.pyplot as plt \n",
        "\n",
        "r2_score=()\n",
        "\n",
        "estimators = ('RR','LR','ENR','SVMR','DTR','ETR','GBR')\n",
        "\n",
        "plt.bar(estimators, r2_score1,color=(0.6, 0.6, 0.6, 0.6),  edgecolor='grey')\n",
        "\n",
        "plt.ylabel('R²')\n",
        "\n",
        "plt.xlabel('Estimators')\n",
        "\n",
        "plt.title('R² or Coefficient of Determination before fine tuning')\n",
        "\n",
        "plt.show()\n",
        "\n",
        "r2_score = (rr_r2, lr_r2, enr_r2, svmr_r2, dtr_r2, etr_r2, gbr_r2)\n",
        "\n",
        "plt.bar(estimators, r2_score,color=(0.6, 0.6, 0.6, 0.6),  edgecolor='olive')\n",
        "\n",
        "plt.ylabel('R²')\n",
        "\n",
        "plt.xlabel('Estimators')\n",
        "\n",
        "plt.title('R² or Coefficient of Determination after fine tuning')\n",
        "\n",
        "plt.show()"
      ],
      "execution_count": null,
      "outputs": [
        {
          "output_type": "display_data",
          "data": {
            "image/png": "[encoded data removed]",
            "text/plain": [
              "<Figure size 432x288 with 1 Axes>"
            ]
          },
          "metadata": {
            "tags": [],
            "needs_background": "light"
          }
        },
        {
          "output_type": "display_data",
          "data": {
            "image/png": "[encoded data removed]",
            "text/plain": [
              "<Figure size 432x288 with 1 Axes>"
            ]
          },
          "metadata": {
            "tags": [],
            "needs_background": "light"
          }
        }
      ]
    },
    {
      "cell_type": "markdown",
      "metadata": {
        "id": "ny3DfOJBXMI3"
      },
      "source": [
        "In general, we observe that after fine tuning some of the results regarding the coefficient of determination metric improved. Specifically for the regressors selected:\n",
        "\n",
        "**Ridge Regressor**: Initially, we noticed a value of the coefficient of determination: 0.56 and finally reached out 0.59\n",
        "\n",
        "**Lasso Regressor**: Initially, we noticed a value of the coefficient of determination: 0.55 and finally reached out 0.59\n",
        "\n",
        "**Elastic Net Regressor** : Initially, we noticed a value of the coefficient of determination: 0.56 and finally reached out 0.59\n",
        "\n",
        "**Support Vector Machine Regressor** : Initially, we noticed a value of the coefficient of determination: 0.12 and finally reached out 0.61\n",
        "\n",
        "**Decision Tree Regressor** : Initially, we noticed a value of the coefficient of determination: 0.28 and finally reached out 0.54\n",
        "\n",
        "**Extra Tree Regressor**: Initially, we noticed a value of the coefficient of determination: 0.64 and finally reached out 0.58\n",
        "\n",
        "**Gradient Boosting Regressor** : Initially, we noticed a value of the coefficient of determination: 0.65 and finally reached out 0.59"
      ]
    },
    {
      "cell_type": "markdown",
      "metadata": {
        "id": "l1YHWpssQP1V"
      },
      "source": [
        "## **Median Absolute Error**"
      ]
    },
    {
      "cell_type": "code",
      "metadata": {
        "id": "rHOUlIBLQQlF",
        "colab": {
          "base_uri": "https://localhost:8080/",
          "height": 573
        },
        "outputId": "ec7dd7c6-166a-4506-dc08-c31d24f8558a"
      },
      "source": [
        "# Median Absolut Error\n",
        "\n",
        "import matplotlib.pyplot as plt \n",
        "\n",
        "mae_score=()\n",
        "\n",
        "estimators = ('RR','LR','ENR','SVMR','DTR','ETR','GBR')\n",
        "\n",
        "plt.bar(estimators, mae_score1,color=(0.6, 0.6, 0.6, 0.6),  edgecolor='purple')\n",
        "\n",
        "plt.ylabel('MAE')\n",
        "\n",
        "plt.xlabel('Estimators')\n",
        "\n",
        "plt.title('Median Absolute Error before fine tuning')\n",
        "\n",
        "plt.show()\n",
        "\n",
        "mae_score = (rr_mae, lr_mae, enr_mae, svmr_mae, dtr_mae, etr_mae,gbr_mae)\n",
        "\n",
        "plt.bar(estimators, mae_score,color=(0.6, 0.6, 0.6, 0.6),  edgecolor='brown')\n",
        "\n",
        "plt.ylabel('MAE')\n",
        "\n",
        "plt.xlabel('Estimators')\n",
        "\n",
        "plt.title('Median Absolute Error after fine tuning')\n",
        "\n",
        "plt.show()"
      ],
      "execution_count": null,
      "outputs": [
        {
          "output_type": "display_data",
          "data": {
            "image/png": "[encoded data removed]",
            "text/plain": [
              "<Figure size 432x288 with 1 Axes>"
            ]
          },
          "metadata": {
            "tags": [],
            "needs_background": "light"
          }
        },
        {
          "output_type": "display_data",
          "data": {
            "image/png": "[encoded data removed]",
            "text/plain": [
              "<Figure size 432x288 with 1 Axes>"
            ]
          },
          "metadata": {
            "tags": [],
            "needs_background": "light"
          }
        }
      ]
    },
    {
      "cell_type": "markdown",
      "metadata": {
        "id": "7_dWjOSeXwgE"
      },
      "source": [
        "In general, we observe that after fine tuning some of the results regarding the median absolute error metric improved. Specifically for the regressors selected:\n",
        "\n",
        "**Ridge Regressor**: Initially, we noticed an error value: 0.70 and finally reached out 0.66\n",
        "\n",
        "**Lasso Regressor**: Initially, we noticed an error value: 0.73 and finally reached out 0.66\n",
        "\n",
        "**Elastic Net Regressor** : Initially, we noticed an error value: 0.72 and finally reached out 0.66\n",
        "\n",
        "**Support Vector Machine Regressor** : Initially, we noticed an error value: 0.99 and finally reached out 0.64\n",
        "\n",
        "**Decision Tree Regressor** : Initially, we noticed an error value: 1.00 and finally reached out 0.78\n",
        "\n",
        "**Extra Tree Regressor**: Initially, we noticed an error value: 0.62 and finally reached out 0.65\n",
        "\n",
        "**Gradient Boosting Regressor** : Initially, we noticed an error value: 0.61 and finally reached out 0.68"
      ]
    },
    {
      "cell_type": "markdown",
      "metadata": {
        "id": "EsuVtDhUQiYQ"
      },
      "source": [
        "# **Aggregated Results for Accuracy Metrics**"
      ]
    },
    {
      "cell_type": "markdown",
      "metadata": {
        "id": "Ixj8E54sQjJC"
      },
      "source": [
        "## **Aggregated Results for Mean Squared Error**"
      ]
    },
    {
      "cell_type": "code",
      "metadata": {
        "id": "V0C2uVP9Qgzv",
        "colab": {
          "base_uri": "https://localhost:8080/"
        },
        "outputId": "8ea25bca-0b4e-4245-b4bc-fe194a81168b"
      },
      "source": [
        "MSE_Final=pd.DataFrame()\n",
        "\n",
        "Estimators=pd.DataFrame(estimators)\n",
        "\n",
        "MSE_before=pd.DataFrame(mse_score1)\n",
        "\n",
        "MSE_after=pd.DataFrame(mse_score)\n",
        "\n",
        "diff=(MSE_before-MSE_after)*100\n",
        "\n",
        "final_mse=pd.concat([Estimators,MSE_before,MSE_after,diff], axis=1)\n",
        "\n",
        "final_mse.columns=['Estimators','Before','After','Diff%']\n",
        "\n",
        "final_mse.set_index('Estimators', inplace=True)\n",
        "\n",
        "print(final_mse)"
      ],
      "execution_count": null,
      "outputs": [
        {
          "output_type": "stream",
          "text": [
            "              Before     After       Diff%\n",
            "Estimators                                \n",
            "RR          1.026439  0.957923    6.851680\n",
            "LR          1.056355  0.958992    9.736294\n",
            "ENR         1.046898  0.958387    8.851135\n",
            "SVMR        2.099303  0.924617  117.468610\n",
            "DTR         1.705620  1.088364   61.725596\n",
            "ETR         0.848756  0.972567  -12.381069\n",
            "GBR         0.831036  0.973376  -14.233963\n"
          ],
          "name": "stdout"
        }
      ]
    },
    {
      "cell_type": "markdown",
      "metadata": {
        "id": "b5NDF0UiQvk8"
      },
      "source": [
        "## **Aggregated Results for R²**"
      ]
    },
    {
      "cell_type": "code",
      "metadata": {
        "id": "xvs2MMNdQv3E",
        "colab": {
          "base_uri": "https://localhost:8080/"
        },
        "outputId": "d683ab8c-7b46-44a8-a3ee-c71870b6faa9"
      },
      "source": [
        "R2_Final=pd.DataFrame()\n",
        "\n",
        "Estimators=pd.DataFrame(estimators)\n",
        "\n",
        "R2_before=pd.DataFrame(r2_score1)\n",
        "\n",
        "R2_after=pd.DataFrame(r2_score)\n",
        "\n",
        "diff=(R2_after-R2_before)*100\n",
        "\n",
        "final_r2=pd.concat([Estimators,R2_before,R2_after,diff], axis=1)\n",
        "\n",
        "final_r2.columns=['Estimators','Before','After','Diff%']\n",
        "\n",
        "final_r2.set_index('Estimators', inplace=True)\n",
        "\n",
        "print(final_r2)"
      ],
      "execution_count": null,
      "outputs": [
        {
          "output_type": "stream",
          "text": [
            "              Before     After      Diff%\n",
            "Estimators                               \n",
            "RR          0.569873  0.598587   2.871359\n",
            "LR          0.557337  0.598407   4.107023\n",
            "ENR         0.561300  0.598387   3.708670\n",
            "SVMR        0.120292  0.612542  49.224915\n",
            "DTR         0.285264  0.543924  25.865950\n",
            "ETR         0.644331  0.586245  -5.808567\n",
            "GBR         0.651757  0.591969  -5.978769\n"
          ],
          "name": "stdout"
        }
      ]
    },
    {
      "cell_type": "markdown",
      "metadata": {
        "id": "4EHez06vR0fP"
      },
      "source": [
        "## **Aggregated Results for Median Absolute Error**"
      ]
    },
    {
      "cell_type": "code",
      "metadata": {
        "id": "8ece24kgR0xc",
        "colab": {
          "base_uri": "https://localhost:8080/"
        },
        "outputId": "76e1abb1-838d-4005-8793-51516acb9cf1"
      },
      "source": [
        "MAE_Final=pd.DataFrame()\n",
        "\n",
        "Estimators=pd.DataFrame(estimators)\n",
        "\n",
        "MAE_before=pd.DataFrame(mae_score1)\n",
        "\n",
        "MAE_after=pd.DataFrame(mae_score)\n",
        "\n",
        "diff=(MAE_before-MAE_after)*100\n",
        "\n",
        "final_mae=pd.concat([Estimators,MAE_before,MAE_after,diff], axis=1)\n",
        "\n",
        "final_mae.columns=['Estimators','Before','After','Diff%']\n",
        "\n",
        "final_mae.set_index('Estimators', inplace=True)\n",
        "\n",
        "print(final_mae)"
      ],
      "execution_count": null,
      "outputs": [
        {
          "output_type": "stream",
          "text": [
            "              Before     After      Diff%\n",
            "Estimators                               \n",
            "RR          0.702384  0.663160   3.922373\n",
            "LR          0.731287  0.662573   6.871429\n",
            "ENR         0.724812  0.663037   6.177483\n",
            "SVMR        0.990087  0.649420  34.066646\n",
            "DTR         1.000000  0.577320  42.268041\n",
            "ETR         0.630000  0.656250  -2.625000\n",
            "GBR         0.615590  0.687129  -7.153925\n"
          ],
          "name": "stdout"
        }
      ]
    },
    {
      "cell_type": "markdown",
      "metadata": {
        "id": "1KZCxhIHR5zh"
      },
      "source": [
        "# **Aggregated Results for Time**"
      ]
    },
    {
      "cell_type": "markdown",
      "metadata": {
        "id": "3IB5NQRpR9po"
      },
      "source": [
        "## **Before Fine Tuning**"
      ]
    },
    {
      "cell_type": "code",
      "metadata": {
        "id": "5c65tJlNR6G1",
        "colab": {
          "base_uri": "https://localhost:8080/"
        },
        "outputId": "beb0f3d1-3977-45c0-9af1-d70234e34305"
      },
      "source": [
        "times_train_before=pd.DataFrame([times_train_bef])\n",
        "times_test_before=pd.DataFrame([times_test_bef])\n",
        "\n",
        "times_test_before=times_test_before.T\n",
        "times_train_before=times_train_before.T\n",
        "\n",
        "final_times_before=pd.concat([times_train_before,times_test_before], axis=1)\n",
        "\n",
        "final_times_before.columns=['Train','Test']\n",
        "\n",
        "print(final_times_before)"
      ],
      "execution_count": null,
      "outputs": [
        {
          "output_type": "stream",
          "text": [
            "         Train      Test\n",
            "rr    0.027704  0.002372\n",
            "lr    0.011295       NaN\n",
            "enr   0.011649  0.009291\n",
            "svmr  0.399435  0.103173\n",
            "dtr   0.042075  0.001339\n",
            "etr   0.937315  0.032886\n",
            "gbr   1.268262  0.003593\n"
          ],
          "name": "stdout"
        }
      ]
    },
    {
      "cell_type": "markdown",
      "metadata": {
        "id": "TELQaWlQSCAL"
      },
      "source": [
        "## **After Fine Tuning**"
      ]
    },
    {
      "cell_type": "code",
      "metadata": {
        "id": "rt7jQD5ESBv5",
        "colab": {
          "base_uri": "https://localhost:8080/"
        },
        "outputId": "1ae551e2-ea92-42f9-fb01-122f45e9b0a5"
      },
      "source": [
        "times_train_after=pd.DataFrame([times_train_aft])\n",
        "times_test_after=pd.DataFrame([times_test_aft])\n",
        "\n",
        "times_test_after=times_test_after.T\n",
        "times_train_after=times_train_after.T\n",
        "\n",
        "final_times_after=pd.concat([times_train_after,times_test_after], axis=1)\n",
        "\n",
        "final_times_after.columns=['Train','Test']\n",
        "\n",
        "print(final_times_after)"
      ],
      "execution_count": null,
      "outputs": [
        {
          "output_type": "stream",
          "text": [
            "               Train      Test\n",
            "rr_mse     21.192521  0.002562\n",
            "rr_r2      24.294129  0.000947\n",
            "rr_mae     24.258633  0.000648\n",
            "lr_mse      4.914206  0.001888\n",
            "lr_r2       9.186091  0.005193\n",
            "lr_mae      6.421364  0.005085\n",
            "enr_mse    59.760181  0.005063\n",
            "enr_r2     68.803145  0.005202\n",
            "enr_mae    68.426225  0.005415\n",
            "svmr_mse  249.143061  0.143144\n",
            "svmr_r2   249.152070  0.132995\n",
            "svmr_mae  249.955203  0.135322\n",
            "dtr_mse   371.350269  0.000945\n",
            "dtr_mae   366.682742  0.000879\n",
            "etr_mse   941.423298  0.014502\n",
            "etr_mae   382.597790  0.014170\n",
            "etr_r2    273.126702  0.014309\n",
            "gbr_mse   429.928333  0.002630\n",
            "gbr_r2    396.818951  0.003122\n",
            "gbr_mae   656.018258  0.003772\n",
            "dtr_r2    364.381106  0.000967\n"
          ],
          "name": "stdout"
        }
      ]
    },
    {
      "cell_type": "markdown",
      "metadata": {
        "id": "LdVKGZsM9V1f"
      },
      "source": [
        "# **Conclusion**"
      ]
    },
    {
      "cell_type": "markdown",
      "metadata": {
        "id": "BgcfdSPY6yjH"
      },
      "source": [
        "## In conclusion, for the extra tree regressor and gradient boosting regressor we end up having worse results with preprocessing, in this case the main issue is that we didn't have the opportunity to try out all the parameters of this regressor in the gridsearch due to time period."
      ]
    }
  ]
}